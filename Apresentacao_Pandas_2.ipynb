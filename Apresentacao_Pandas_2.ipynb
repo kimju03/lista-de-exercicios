{
  "cells": [
    {
      "cell_type": "markdown",
      "id": "47fe342e",
      "metadata": {
        "id": "47fe342e"
      },
      "source": [
        "# <font color=lightblue>Pandas II - Aplicações na Vida Real </font>"
      ]
    },
    {
      "cell_type": "markdown",
      "id": "m1q9KlHXJiSL",
      "metadata": {
        "id": "m1q9KlHXJiSL"
      },
      "source": [
        "# <font color=lightblue>Sumário</font>"
      ]
    },
    {
      "cell_type": "markdown",
      "id": "nQPaI0FWCGw5",
      "metadata": {
        "id": "nQPaI0FWCGw5"
      },
      "source": [
        "- ### <font color=lightpink>1. Introdução </font>\n",
        "        \n",
        "        1.1 Apresentação das bases de dados\n",
        "        1.2 Loc e iloc\n",
        "\n",
        "- ### <font color=lightpink>2. Métodos Úteis </font>\n",
        "        \n",
        "        2.1 Agrupamento\n",
        "        2.1.1 Groupby\n",
        "        2.1.2 Pivot Table\n",
        "        2.1.3 Melt\n",
        "        \n",
        "        2.2.1 Diff\n",
        "        2.2.2 Pct_change\n",
        "\n",
        "- ### <font color=lightpink>3. Aplicações Úteis </font>\n",
        "\n",
        "        3.1 Cálculo de retorno\n",
        "        3.2 Melhores retornos para cada fundos\n",
        "        3.3 Juntando os Resultados"
      ]
    },
    {
      "cell_type": "code",
      "execution_count": 1,
      "id": "15b605b0",
      "metadata": {
        "id": "15b605b0"
      },
      "outputs": [
        {
          "name": "stdout",
          "output_type": "stream",
          "text": [
            "Requirement already satisfied: pandas in /home/codespace/.local/lib/python3.10/site-packages (2.0.2)\n",
            "Requirement already satisfied: python-dateutil>=2.8.2 in /home/codespace/.local/lib/python3.10/site-packages (from pandas) (2.8.2)\n",
            "Requirement already satisfied: pytz>=2020.1 in /home/codespace/.local/lib/python3.10/site-packages (from pandas) (2023.3)\n",
            "Requirement already satisfied: tzdata>=2022.1 in /home/codespace/.local/lib/python3.10/site-packages (from pandas) (2023.3)\n",
            "Requirement already satisfied: numpy>=1.21.0 in /home/codespace/.local/lib/python3.10/site-packages (from pandas) (1.24.3)\n",
            "Requirement already satisfied: six>=1.5 in /home/codespace/.local/lib/python3.10/site-packages (from python-dateutil>=2.8.2->pandas) (1.16.0)\n"
          ]
        }
      ],
      "source": [
        "!pip install pandas"
      ]
    },
    {
      "cell_type": "code",
      "execution_count": 2,
      "id": "46bca0fb",
      "metadata": {},
      "outputs": [],
      "source": [
        "import pandas as pd\n",
        "import numpy as np"
      ]
    },
    {
      "cell_type": "markdown",
      "id": "4ed9da01",
      "metadata": {
        "id": "4ed9da01"
      },
      "source": [
        "## 1. Introdução"
      ]
    },
    {
      "cell_type": "markdown",
      "id": "2a2a6862",
      "metadata": {
        "id": "2a2a6862"
      },
      "source": [
        "### 1.1 Apresentação da base de dados \"Latest_Data_Science_Salaries.csv\"\n"
      ]
    },
    {
      "cell_type": "markdown",
      "id": "e19d079e",
      "metadata": {},
      "source": [
        "##### O método info() é usado para obter informações sobre o DataFrame, como o número de entradas, o tipo de dados de cada coluna, o uso de memória, entre outros detalhes. "
      ]
    },
    {
      "cell_type": "code",
      "execution_count": 3,
      "id": "cb4d74bf",
      "metadata": {
        "id": "cb4d74bf"
      },
      "outputs": [
        {
          "ename": "FileNotFoundError",
          "evalue": "[Errno 2] No such file or directory: 'Latest_Data_Science_Salaries.csv'",
          "output_type": "error",
          "traceback": [
            "\u001b[0;31m---------------------------------------------------------------------------\u001b[0m",
            "\u001b[0;31mFileNotFoundError\u001b[0m                         Traceback (most recent call last)",
            "Cell \u001b[0;32mIn[3], line 1\u001b[0m\n\u001b[0;32m----> 1\u001b[0m salaries_df \u001b[39m=\u001b[39m pd\u001b[39m.\u001b[39;49mread_csv(\u001b[39m\"\u001b[39;49m\u001b[39mLatest_Data_Science_Salaries.csv\u001b[39;49m\u001b[39m\"\u001b[39;49m)\n\u001b[1;32m      2\u001b[0m salaries_df\u001b[39m.\u001b[39minfo()\n",
            "File \u001b[0;32m~/.local/lib/python3.10/site-packages/pandas/io/parsers/readers.py:912\u001b[0m, in \u001b[0;36mread_csv\u001b[0;34m(filepath_or_buffer, sep, delimiter, header, names, index_col, usecols, dtype, engine, converters, true_values, false_values, skipinitialspace, skiprows, skipfooter, nrows, na_values, keep_default_na, na_filter, verbose, skip_blank_lines, parse_dates, infer_datetime_format, keep_date_col, date_parser, date_format, dayfirst, cache_dates, iterator, chunksize, compression, thousands, decimal, lineterminator, quotechar, quoting, doublequote, escapechar, comment, encoding, encoding_errors, dialect, on_bad_lines, delim_whitespace, low_memory, memory_map, float_precision, storage_options, dtype_backend)\u001b[0m\n\u001b[1;32m    899\u001b[0m kwds_defaults \u001b[39m=\u001b[39m _refine_defaults_read(\n\u001b[1;32m    900\u001b[0m     dialect,\n\u001b[1;32m    901\u001b[0m     delimiter,\n\u001b[0;32m   (...)\u001b[0m\n\u001b[1;32m    908\u001b[0m     dtype_backend\u001b[39m=\u001b[39mdtype_backend,\n\u001b[1;32m    909\u001b[0m )\n\u001b[1;32m    910\u001b[0m kwds\u001b[39m.\u001b[39mupdate(kwds_defaults)\n\u001b[0;32m--> 912\u001b[0m \u001b[39mreturn\u001b[39;00m _read(filepath_or_buffer, kwds)\n",
            "File \u001b[0;32m~/.local/lib/python3.10/site-packages/pandas/io/parsers/readers.py:577\u001b[0m, in \u001b[0;36m_read\u001b[0;34m(filepath_or_buffer, kwds)\u001b[0m\n\u001b[1;32m    574\u001b[0m _validate_names(kwds\u001b[39m.\u001b[39mget(\u001b[39m\"\u001b[39m\u001b[39mnames\u001b[39m\u001b[39m\"\u001b[39m, \u001b[39mNone\u001b[39;00m))\n\u001b[1;32m    576\u001b[0m \u001b[39m# Create the parser.\u001b[39;00m\n\u001b[0;32m--> 577\u001b[0m parser \u001b[39m=\u001b[39m TextFileReader(filepath_or_buffer, \u001b[39m*\u001b[39;49m\u001b[39m*\u001b[39;49mkwds)\n\u001b[1;32m    579\u001b[0m \u001b[39mif\u001b[39;00m chunksize \u001b[39mor\u001b[39;00m iterator:\n\u001b[1;32m    580\u001b[0m     \u001b[39mreturn\u001b[39;00m parser\n",
            "File \u001b[0;32m~/.local/lib/python3.10/site-packages/pandas/io/parsers/readers.py:1407\u001b[0m, in \u001b[0;36mTextFileReader.__init__\u001b[0;34m(self, f, engine, **kwds)\u001b[0m\n\u001b[1;32m   1404\u001b[0m     \u001b[39mself\u001b[39m\u001b[39m.\u001b[39moptions[\u001b[39m\"\u001b[39m\u001b[39mhas_index_names\u001b[39m\u001b[39m\"\u001b[39m] \u001b[39m=\u001b[39m kwds[\u001b[39m\"\u001b[39m\u001b[39mhas_index_names\u001b[39m\u001b[39m\"\u001b[39m]\n\u001b[1;32m   1406\u001b[0m \u001b[39mself\u001b[39m\u001b[39m.\u001b[39mhandles: IOHandles \u001b[39m|\u001b[39m \u001b[39mNone\u001b[39;00m \u001b[39m=\u001b[39m \u001b[39mNone\u001b[39;00m\n\u001b[0;32m-> 1407\u001b[0m \u001b[39mself\u001b[39m\u001b[39m.\u001b[39m_engine \u001b[39m=\u001b[39m \u001b[39mself\u001b[39;49m\u001b[39m.\u001b[39;49m_make_engine(f, \u001b[39mself\u001b[39;49m\u001b[39m.\u001b[39;49mengine)\n",
            "File \u001b[0;32m~/.local/lib/python3.10/site-packages/pandas/io/parsers/readers.py:1661\u001b[0m, in \u001b[0;36mTextFileReader._make_engine\u001b[0;34m(self, f, engine)\u001b[0m\n\u001b[1;32m   1659\u001b[0m     \u001b[39mif\u001b[39;00m \u001b[39m\"\u001b[39m\u001b[39mb\u001b[39m\u001b[39m\"\u001b[39m \u001b[39mnot\u001b[39;00m \u001b[39min\u001b[39;00m mode:\n\u001b[1;32m   1660\u001b[0m         mode \u001b[39m+\u001b[39m\u001b[39m=\u001b[39m \u001b[39m\"\u001b[39m\u001b[39mb\u001b[39m\u001b[39m\"\u001b[39m\n\u001b[0;32m-> 1661\u001b[0m \u001b[39mself\u001b[39m\u001b[39m.\u001b[39mhandles \u001b[39m=\u001b[39m get_handle(\n\u001b[1;32m   1662\u001b[0m     f,\n\u001b[1;32m   1663\u001b[0m     mode,\n\u001b[1;32m   1664\u001b[0m     encoding\u001b[39m=\u001b[39;49m\u001b[39mself\u001b[39;49m\u001b[39m.\u001b[39;49moptions\u001b[39m.\u001b[39;49mget(\u001b[39m\"\u001b[39;49m\u001b[39mencoding\u001b[39;49m\u001b[39m\"\u001b[39;49m, \u001b[39mNone\u001b[39;49;00m),\n\u001b[1;32m   1665\u001b[0m     compression\u001b[39m=\u001b[39;49m\u001b[39mself\u001b[39;49m\u001b[39m.\u001b[39;49moptions\u001b[39m.\u001b[39;49mget(\u001b[39m\"\u001b[39;49m\u001b[39mcompression\u001b[39;49m\u001b[39m\"\u001b[39;49m, \u001b[39mNone\u001b[39;49;00m),\n\u001b[1;32m   1666\u001b[0m     memory_map\u001b[39m=\u001b[39;49m\u001b[39mself\u001b[39;49m\u001b[39m.\u001b[39;49moptions\u001b[39m.\u001b[39;49mget(\u001b[39m\"\u001b[39;49m\u001b[39mmemory_map\u001b[39;49m\u001b[39m\"\u001b[39;49m, \u001b[39mFalse\u001b[39;49;00m),\n\u001b[1;32m   1667\u001b[0m     is_text\u001b[39m=\u001b[39;49mis_text,\n\u001b[1;32m   1668\u001b[0m     errors\u001b[39m=\u001b[39;49m\u001b[39mself\u001b[39;49m\u001b[39m.\u001b[39;49moptions\u001b[39m.\u001b[39;49mget(\u001b[39m\"\u001b[39;49m\u001b[39mencoding_errors\u001b[39;49m\u001b[39m\"\u001b[39;49m, \u001b[39m\"\u001b[39;49m\u001b[39mstrict\u001b[39;49m\u001b[39m\"\u001b[39;49m),\n\u001b[1;32m   1669\u001b[0m     storage_options\u001b[39m=\u001b[39;49m\u001b[39mself\u001b[39;49m\u001b[39m.\u001b[39;49moptions\u001b[39m.\u001b[39;49mget(\u001b[39m\"\u001b[39;49m\u001b[39mstorage_options\u001b[39;49m\u001b[39m\"\u001b[39;49m, \u001b[39mNone\u001b[39;49;00m),\n\u001b[1;32m   1670\u001b[0m )\n\u001b[1;32m   1671\u001b[0m \u001b[39massert\u001b[39;00m \u001b[39mself\u001b[39m\u001b[39m.\u001b[39mhandles \u001b[39mis\u001b[39;00m \u001b[39mnot\u001b[39;00m \u001b[39mNone\u001b[39;00m\n\u001b[1;32m   1672\u001b[0m f \u001b[39m=\u001b[39m \u001b[39mself\u001b[39m\u001b[39m.\u001b[39mhandles\u001b[39m.\u001b[39mhandle\n",
            "File \u001b[0;32m~/.local/lib/python3.10/site-packages/pandas/io/common.py:859\u001b[0m, in \u001b[0;36mget_handle\u001b[0;34m(path_or_buf, mode, encoding, compression, memory_map, is_text, errors, storage_options)\u001b[0m\n\u001b[1;32m    854\u001b[0m \u001b[39melif\u001b[39;00m \u001b[39misinstance\u001b[39m(handle, \u001b[39mstr\u001b[39m):\n\u001b[1;32m    855\u001b[0m     \u001b[39m# Check whether the filename is to be opened in binary mode.\u001b[39;00m\n\u001b[1;32m    856\u001b[0m     \u001b[39m# Binary mode does not support 'encoding' and 'newline'.\u001b[39;00m\n\u001b[1;32m    857\u001b[0m     \u001b[39mif\u001b[39;00m ioargs\u001b[39m.\u001b[39mencoding \u001b[39mand\u001b[39;00m \u001b[39m\"\u001b[39m\u001b[39mb\u001b[39m\u001b[39m\"\u001b[39m \u001b[39mnot\u001b[39;00m \u001b[39min\u001b[39;00m ioargs\u001b[39m.\u001b[39mmode:\n\u001b[1;32m    858\u001b[0m         \u001b[39m# Encoding\u001b[39;00m\n\u001b[0;32m--> 859\u001b[0m         handle \u001b[39m=\u001b[39m \u001b[39mopen\u001b[39;49m(\n\u001b[1;32m    860\u001b[0m             handle,\n\u001b[1;32m    861\u001b[0m             ioargs\u001b[39m.\u001b[39;49mmode,\n\u001b[1;32m    862\u001b[0m             encoding\u001b[39m=\u001b[39;49mioargs\u001b[39m.\u001b[39;49mencoding,\n\u001b[1;32m    863\u001b[0m             errors\u001b[39m=\u001b[39;49merrors,\n\u001b[1;32m    864\u001b[0m             newline\u001b[39m=\u001b[39;49m\u001b[39m\"\u001b[39;49m\u001b[39m\"\u001b[39;49m,\n\u001b[1;32m    865\u001b[0m         )\n\u001b[1;32m    866\u001b[0m     \u001b[39melse\u001b[39;00m:\n\u001b[1;32m    867\u001b[0m         \u001b[39m# Binary mode\u001b[39;00m\n\u001b[1;32m    868\u001b[0m         handle \u001b[39m=\u001b[39m \u001b[39mopen\u001b[39m(handle, ioargs\u001b[39m.\u001b[39mmode)\n",
            "\u001b[0;31mFileNotFoundError\u001b[0m: [Errno 2] No such file or directory: 'Latest_Data_Science_Salaries.csv'"
          ]
        }
      ],
      "source": [
        "salaries_df = pd.read_csv(\"Latest_Data_Science_Salaries.csv\")\n",
        "salaries_df.info()"
      ]
    },
    {
      "cell_type": "markdown",
      "id": "98373ed0",
      "metadata": {},
      "source": [
        "##### O método describe() é usado para gerar estatísticas descritivas sobre o DataFrame, como contagem, média, desvio padrão, mínimo, quartis e máximo. Ele fornece um resumo estatístico das colunas numéricas do DataFrame.\n"
      ]
    },
    {
      "cell_type": "code",
      "execution_count": null,
      "id": "f0cf5e1a",
      "metadata": {
        "id": "f0cf5e1a"
      },
      "outputs": [],
      "source": [
        "salaries_df.describe()"
      ]
    },
    {
      "cell_type": "markdown",
      "id": "f0666eaf",
      "metadata": {},
      "source": [
        "##### O método head() é usado para exibir as primeiras linhas do DataFrame. Por padrão, ele exibe as 5 primeiras linhas."
      ]
    },
    {
      "cell_type": "code",
      "execution_count": null,
      "id": "d8be73b2",
      "metadata": {
        "id": "d8be73b2"
      },
      "outputs": [],
      "source": [
        "salaries_df.head()"
      ]
    },
    {
      "cell_type": "markdown",
      "id": "b5ac4ffa",
      "metadata": {
        "id": "b5ac4ffa"
      },
      "source": [
        "### Loc e iloc"
      ]
    },
    {
      "cell_type": "markdown",
      "id": "637c94c4",
      "metadata": {},
      "source": [
        "##### O '.loc' é útil quando você deseja realizar operações no DataFrame usando rótulos de linhas e colunas, em vez de índices numéricos. Ele oferece uma maneira mais intuitiva e explícita de acessar e modificar os dados."
      ]
    },
    {
      "cell_type": "code",
      "execution_count": null,
      "id": "34d76ce9",
      "metadata": {
        "id": "34d76ce9"
      },
      "outputs": [],
      "source": [
        "#Acessar uma única linha com base no rótulo da linha:\n",
        "salaries_df.loc[4]"
      ]
    },
    {
      "cell_type": "code",
      "execution_count": null,
      "id": "27b34998",
      "metadata": {
        "id": "27b34998"
      },
      "outputs": [],
      "source": [
        "#Acessar uma única coluna com base no rótulo da coluna:\n",
        "salaries_df.loc[:, \"Job Title\"]"
      ]
    },
    {
      "cell_type": "code",
      "execution_count": null,
      "id": "88e93ed4",
      "metadata": {
        "id": "88e93ed4"
      },
      "outputs": [],
      "source": [
        "#Acessar mais de uma linha com base no rótulo das linhas:\n",
        "salaries_df.loc[2:5]"
      ]
    },
    {
      "cell_type": "code",
      "execution_count": null,
      "id": "0ba6b227",
      "metadata": {},
      "outputs": [],
      "source": [
        "#Acessar mais de uma coluna com base no rótulo das colunas:\n",
        "salaries_df.loc[:,[\"Salary\", \"Experience Level\"]]"
      ]
    },
    {
      "cell_type": "code",
      "execution_count": null,
      "id": "afa60607",
      "metadata": {
        "id": "afa60607"
      },
      "outputs": [],
      "source": [
        "#Acessar mais de uma linha e coluna com base no rótulo das linhas e das colunas:\n",
        "salaries_df.loc[2:5, [\"Salary\", \"Experience Level\"]]"
      ]
    },
    {
      "cell_type": "markdown",
      "id": "d26c6302",
      "metadata": {},
      "source": [
        "##### O .iloc é um atributo do DataFrame do Pandas que permite acessar e modificar os valores com base em índices numéricos de linhas e colunas. Ao contrário do .loc, que usa rótulos de linhas e colunas, o .iloc é usado para indexação baseada em índices numéricos."
      ]
    },
    {
      "cell_type": "code",
      "execution_count": null,
      "id": "9cb2ae3f",
      "metadata": {
        "id": "9cb2ae3f"
      },
      "outputs": [],
      "source": [
        "#Acessar uma única linha com base no número da linha:\n",
        "salaries_df.iloc[0]"
      ]
    },
    {
      "cell_type": "code",
      "execution_count": null,
      "id": "0ad563fc",
      "metadata": {
        "id": "0ad563fc"
      },
      "outputs": [],
      "source": [
        "#Acessar linhas e colunas com base no alcance:\n",
        "salaries_df.iloc[range(2), range(1)]"
      ]
    },
    {
      "cell_type": "code",
      "execution_count": null,
      "id": "e4102919",
      "metadata": {
        "id": "e4102919"
      },
      "outputs": [],
      "source": [
        "#Acessar mais de uma linha com base no número das linhas:\n",
        "salaries_df.iloc[[9, 5, 6]]"
      ]
    },
    {
      "cell_type": "code",
      "execution_count": null,
      "id": "4703f20a",
      "metadata": {
        "id": "4703f20a"
      },
      "outputs": [],
      "source": [
        "##Acessar mais de uma linha e mais de uma coluna com base no número das linhas e das colunas:\n",
        "salaries_df.iloc[[5,6,7],[1,2,3]]"
      ]
    },
    {
      "cell_type": "markdown",
      "id": "dbc458ea",
      "metadata": {
        "id": "dbc458ea"
      },
      "source": [
        "### Retorno a apresentação das bases"
      ]
    },
    {
      "cell_type": "code",
      "execution_count": null,
      "id": "53a8c393",
      "metadata": {
        "id": "53a8c393"
      },
      "outputs": [],
      "source": [
        "#Unique é usado para retornar os valores únicos presentes, ou seja, todas as respostas possíveis.\n",
        "salaries_df['Experience Level'].unique()"
      ]
    },
    {
      "cell_type": "code",
      "execution_count": null,
      "id": "744d252e",
      "metadata": {
        "id": "744d252e"
      },
      "outputs": [],
      "source": [
        "print(len(salaries_df[\"Salary\"].unique()), \"vs\", len(salaries.columns))\n",
        "print(salaries_df[\"Salary\"].unique()[0])"
      ]
    },
    {
      "cell_type": "markdown",
      "id": "4e65c93c",
      "metadata": {
        "id": "4e65c93c"
      },
      "source": [
        "#### Set Theory\n",
        "![set_theory](set_theory.png)\n",
        "![set_theory_ativos](set_theory_ativos.png)"
      ]
    },
    {
      "cell_type": "code",
      "execution_count": null,
      "id": "b994d0f9",
      "metadata": {
        "id": "b994d0f9"
      },
      "outputs": [],
      "source": [
        "# sets https://www.w3schools.com/python/python_ref_set.asp\n",
        "x = {'Petrobras', 'Itau', 'Suzano'}\n",
        "y = {'Eletrobras', 'Bradesco', 'Suzano'}\n",
        "\n",
        "z = x.difference(y)\n",
        "z"
      ]
    },
    {
      "cell_type": "code",
      "execution_count": null,
      "id": "366a257a",
      "metadata": {
        "id": "366a257a"
      },
      "outputs": [],
      "source": [
        "y.difference(x)"
      ]
    },
    {
      "cell_type": "code",
      "execution_count": null,
      "id": "9047715e",
      "metadata": {
        "id": "9047715e"
      },
      "outputs": [],
      "source": [
        "x.symmetric_difference(y)"
      ]
    },
    {
      "cell_type": "code",
      "execution_count": null,
      "id": "847833ca",
      "metadata": {
        "id": "847833ca"
      },
      "outputs": [],
      "source": [
        "x.intersection(y)"
      ]
    },
    {
      "cell_type": "code",
      "execution_count": null,
      "id": "6579397b",
      "metadata": {
        "id": "6579397b"
      },
      "outputs": [],
      "source": [
        "# acessar colunas do dataframe de ativos\n",
        "at.columns"
      ]
    },
    {
      "cell_type": "code",
      "execution_count": null,
      "id": "b04e2298",
      "metadata": {
        "id": "b04e2298"
      },
      "outputs": [],
      "source": [
        "set(at.columns.unique()).difference(ct[\"ativo\"].unique())"
      ]
    },
    {
      "cell_type": "code",
      "execution_count": null,
      "id": "c2579e34",
      "metadata": {
        "id": "c2579e34"
      },
      "outputs": [],
      "source": [
        "set(ct[\"ativo\"].unique()).difference(at.columns.unique())"
      ]
    },
    {
      "cell_type": "code",
      "execution_count": null,
      "id": "479051f5",
      "metadata": {
        "id": "479051f5"
      },
      "outputs": [],
      "source": [
        "ct.loc[ct[\"ativo\"].isin(at.columns), [\"ativo\", \"ativo_desc\"]].drop_duplicates()"
      ]
    },
    {
      "cell_type": "code",
      "execution_count": null,
      "id": "81517c7b",
      "metadata": {
        "id": "81517c7b"
      },
      "outputs": [],
      "source": [
        "ct.loc[ct[\"ativo\"].isin(at.columns), \"ativo_desc\"].unique()"
      ]
    },
    {
      "cell_type": "code",
      "execution_count": null,
      "id": "ffa456fa",
      "metadata": {
        "id": "ffa456fa"
      },
      "outputs": [],
      "source": [
        "pd.set_option('max_colwidth', None)\n",
        "ct[[\"nome_gestor\", \"nome_fundo\"]].drop_duplicates().reset_index(drop=True)"
      ]
    },
    {
      "cell_type": "code",
      "execution_count": null,
      "id": "95d76a97",
      "metadata": {
        "id": "95d76a97"
      },
      "outputs": [],
      "source": [
        "pd.reset_option('^display.', silent=True)"
      ]
    },
    {
      "cell_type": "markdown",
      "id": "b45dd4f6",
      "metadata": {
        "id": "b45dd4f6"
      },
      "source": [
        "## 2. Métodos Úteis"
      ]
    },
    {
      "cell_type": "markdown",
      "id": "5c4911fe",
      "metadata": {
        "id": "5c4911fe"
      },
      "source": [
        "### 2.1.1 Groupby"
      ]
    },
    {
      "cell_type": "markdown",
      "id": "ee7a408b",
      "metadata": {
        "id": "ee7a408b"
      },
      "source": [
        "### 2.1.2 Pivot Table"
      ]
    },
    {
      "cell_type": "markdown",
      "id": "0f2e7f37",
      "metadata": {
        "id": "0f2e7f37"
      },
      "source": [
        "### 2.1.3 Melt"
      ]
    },
    {
      "cell_type": "markdown",
      "id": "c6e47787",
      "metadata": {
        "id": "c6e47787"
      },
      "source": [
        "### 2.2.1 Diff"
      ]
    },
    {
      "cell_type": "markdown",
      "id": "507a57d3",
      "metadata": {},
      "source": [
        "##### A função diff serve para calcular a diferença entre os valores de uma linha ou coluna, de acordo com os parâmetros definidos previamente."
      ]
    },
    {
      "cell_type": "markdown",
      "id": "3a418187",
      "metadata": {},
      "source": [
        "Para compreender como funciona a função diff, criaremos um DataFrame com dados da receita de três unidades de uma loja ao longo do mês de junho."
      ]
    },
    {
      "cell_type": "code",
      "execution_count": null,
      "id": "85fa5b36",
      "metadata": {},
      "outputs": [],
      "source": [
        "#CRIANDO O DATAFRAME\n",
        "\n",
        "#Definir uma \"seed\" tem a função de garantir que os números sejam aleatórios, mas reproduzível, o que significa que executando o código várias vezes o gerador de números aleatórios não vai mudar. 42 é apenas uma escolha popular entre os usuários de python, mas qualquer outro número inteiro poderia ser escolhido\n",
        "np.random.seed(42)\n",
        "\n",
        "#Dados: Receita(v.a)~Normal(1000,100)\n",
        "receita = np.random.normal(loc=1000, scale=100, size=(30, 3))\n",
        "#Colunas:\n",
        "unidade = ('Centro', 'Butantã', 'Paulista')\n",
        "#Índices:\n",
        "data = [pd.date_range(start=pd.Timestamp('2023-06-01'), end=pd.Timestamp('2023-06-30'), freq='D')]\n",
        "\n",
        "df = pd.DataFrame(data=receita, columns=unidade, index=data)\n",
        "df = df.round()\n",
        "print(df)"
      ]
    },
    {
      "cell_type": "code",
      "execution_count": null,
      "id": "d9e18183",
      "metadata": {},
      "outputs": [],
      "source": [
        "df.diff()"
      ]
    },
    {
      "cell_type": "code",
      "execution_count": null,
      "id": "2234eda6",
      "metadata": {},
      "outputs": [],
      "source": [
        "df.diff().describe()"
      ]
    },
    {
      "cell_type": "code",
      "execution_count": null,
      "id": "c29782fb",
      "metadata": {},
      "outputs": [],
      "source": [
        "#diff calculará diferença entre receita atual e receita de dois dias atrás\n",
        "df.diff(periods=2)"
      ]
    },
    {
      "cell_type": "code",
      "execution_count": null,
      "id": "76fe5f13",
      "metadata": {},
      "outputs": [],
      "source": [
        "## diff calculará diferença por coluna, ou seja, por unidade\n",
        "df.diff(periods=1,axis=1).dropna(axis=1)"
      ]
    },
    {
      "cell_type": "markdown",
      "id": "2d27562a",
      "metadata": {
        "id": "2d27562a"
      },
      "source": [
        "### 2.2.2 Pct_change"
      ]
    },
    {
      "cell_type": "markdown",
      "id": "24dae0d0",
      "metadata": {},
      "source": [
        "##### A função pct_change serve para calcular a **diferença percentual** entre os valores de uma linha ou coluna, de acordo com os parâmetros definidos previamente."
      ]
    },
    {
      "cell_type": "markdown",
      "id": "027d4f1c",
      "metadata": {},
      "source": [
        "A partir do mesmo DataFrame, vamos agora analisar como funciona a função *pct_change*:"
      ]
    },
    {
      "cell_type": "code",
      "execution_count": null,
      "id": "6fa65fad",
      "metadata": {},
      "outputs": [],
      "source": [
        "df.pct_change().round(2)"
      ]
    },
    {
      "cell_type": "code",
      "execution_count": null,
      "id": "88ecb053",
      "metadata": {},
      "outputs": [],
      "source": [
        "df.pct_change().describe().round(2)"
      ]
    },
    {
      "cell_type": "code",
      "execution_count": null,
      "id": "294a9745",
      "metadata": {},
      "outputs": [],
      "source": [
        "df.pct_change(periods=1, axis=1).dropna(axis=1).round(2)"
      ]
    },
    {
      "cell_type": "markdown",
      "id": "baee0d32",
      "metadata": {
        "id": "baee0d32"
      },
      "source": [
        "## 3. Aplicações Úteis"
      ]
    },
    {
      "cell_type": "markdown",
      "id": "4251cb57",
      "metadata": {
        "id": "4251cb57"
      },
      "source": [
        "### 3.1 Cálculo de Retorno"
      ]
    },
    {
      "cell_type": "markdown",
      "id": "0a26a577",
      "metadata": {
        "id": "0a26a577"
      },
      "source": [
        "### 3.2 Cálculo Para Cada Fundo"
      ]
    },
    {
      "cell_type": "markdown",
      "id": "f092bb74",
      "metadata": {
        "id": "f092bb74"
      },
      "source": [
        "### 3.3 Juntando os Resultados"
      ]
    },
    {
      "cell_type": "markdown",
      "id": "f6e02ea2",
      "metadata": {
        "id": "f6e02ea2"
      },
      "source": [
        "![](joins.png)"
      ]
    }
  ],
  "metadata": {
    "colab": {
      "collapsed_sections": [],
      "provenance": []
    },
    "kernelspec": {
      "display_name": "Python 3 (ipykernel)",
      "language": "python",
      "name": "python3"
    }
  },
  "nbformat": 4,
  "nbformat_minor": 5
}
