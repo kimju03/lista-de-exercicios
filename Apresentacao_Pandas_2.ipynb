{
  "cells": [
    {
      "cell_type": "markdown",
      "id": "47fe342e",
      "metadata": {
        "id": "47fe342e"
      },
      "source": [
        "# <font color=lightblue>Pandas II - Aplicações na Vida Real </font>"
      ]
    },
    {
      "cell_type": "markdown",
      "id": "m1q9KlHXJiSL",
      "metadata": {
        "id": "m1q9KlHXJiSL"
      },
      "source": [
        "# <font color=lightblue>Sumário</font>"
      ]
    },
    {
      "cell_type": "markdown",
      "id": "nQPaI0FWCGw5",
      "metadata": {
        "id": "nQPaI0FWCGw5"
      },
      "source": [
        "- ### <font color=lightpink>1. Introdução </font>\n",
        "        \n",
        "        1.1 Apresentação das bases de dados\n",
        "        1.2 Loc e iloc\n",
        "\n",
        "- ### <font color=lightpink>2. Métodos Úteis </font>\n",
        "        \n",
        "        2.1 Agrupamento\n",
        "        2.1.1 Groupby\n",
        "        2.1.2 Pivot Table\n",
        "        2.1.3 Melt\n",
        "        \n",
        "        2.2.1 Diff\n",
        "        2.2.2 Pct_change\n",
        "\n",
        "- ### <font color=lightpink>3. Aplicações Úteis </font>\n",
        "\n",
        "        3.1 Cálculo de retorno\n",
        "        3.2 Melhores retornos para cada fundos\n",
        "        3.3 Juntando os Resultados"
      ]
    },
    {
      "cell_type": "code",
      "execution_count": 2,
      "id": "15b605b0",
      "metadata": {
        "id": "15b605b0"
      },
      "outputs": [
        {
          "name": "stdout",
          "output_type": "stream",
          "text": [
            "Requirement already satisfied: pandas in c:\\users\\lucfe\\appdata\\local\\packages\\pythonsoftwarefoundation.python.3.11_qbz5n2kfra8p0\\localcache\\local-packages\\python311\\site-packages (2.0.3)\n",
            "Requirement already satisfied: python-dateutil>=2.8.2 in c:\\users\\lucfe\\appdata\\local\\packages\\pythonsoftwarefoundation.python.3.11_qbz5n2kfra8p0\\localcache\\local-packages\\python311\\site-packages (from pandas) (2.8.2)\n",
            "Requirement already satisfied: pytz>=2020.1 in c:\\users\\lucfe\\appdata\\local\\packages\\pythonsoftwarefoundation.python.3.11_qbz5n2kfra8p0\\localcache\\local-packages\\python311\\site-packages (from pandas) (2023.3)\n",
            "Requirement already satisfied: tzdata>=2022.1 in c:\\users\\lucfe\\appdata\\local\\packages\\pythonsoftwarefoundation.python.3.11_qbz5n2kfra8p0\\localcache\\local-packages\\python311\\site-packages (from pandas) (2023.3)\n",
            "Requirement already satisfied: numpy>=1.21.0 in c:\\users\\lucfe\\appdata\\local\\packages\\pythonsoftwarefoundation.python.3.11_qbz5n2kfra8p0\\localcache\\local-packages\\python311\\site-packages (from pandas) (1.25.0)\n",
            "Requirement already satisfied: six>=1.5 in c:\\users\\lucfe\\appdata\\local\\packages\\pythonsoftwarefoundation.python.3.11_qbz5n2kfra8p0\\localcache\\local-packages\\python311\\site-packages (from python-dateutil>=2.8.2->pandas) (1.16.0)\n",
            "Note: you may need to restart the kernel to use updated packages.\n"
          ]
        },
        {
          "name": "stderr",
          "output_type": "stream",
          "text": [
            "\n",
            "[notice] A new release of pip available: 22.3.1 -> 23.1.2\n",
            "[notice] To update, run: C:\\Users\\lucfe\\AppData\\Local\\Microsoft\\WindowsApps\\PythonSoftwareFoundation.Python.3.11_qbz5n2kfra8p0\\python.exe -m pip install --upgrade pip\n"
          ]
        }
      ],
      "source": [
        "\n",
        "pip install pandas"
      ]
    },
    {
      "cell_type": "code",
      "execution_count": 3,
      "id": "46bca0fb",
      "metadata": {},
      "outputs": [],
      "source": [
        "import pandas as pd"
      ]
    },
    {
      "cell_type": "markdown",
      "id": "4ed9da01",
      "metadata": {
        "id": "4ed9da01"
      },
      "source": [
        "## 1. Introdução"
      ]
    },
    {
      "cell_type": "markdown",
      "id": "2a2a6862",
      "metadata": {
        "id": "2a2a6862"
      },
      "source": [
        "### 1.1 Apresentação da base de dados \"Latest_Data_Science_Salaries.csv\"\n"
      ]
    },
    {
      "cell_type": "markdown",
      "id": "e19d079e",
      "metadata": {},
      "source": [
        "##### O método info() é usado para obter informações sobre o DataFrame, como o número de entradas, o tipo de dados de cada coluna, o uso de memória, entre outros detalhes. "
      ]
    },
    {
      "cell_type": "code",
      "execution_count": 71,
      "id": "cb4d74bf",
      "metadata": {
        "id": "cb4d74bf"
      },
      "outputs": [
        {
          "name": "stdout",
          "output_type": "stream",
          "text": [
            "<class 'pandas.core.frame.DataFrame'>\n",
            "RangeIndex: 3300 entries, 0 to 3299\n",
            "Data columns (total 11 columns):\n",
            " #   Column              Non-Null Count  Dtype \n",
            "---  ------              --------------  ----- \n",
            " 0   Job Title           3300 non-null   object\n",
            " 1   Employment Type     3300 non-null   object\n",
            " 2   Experience Level    3300 non-null   object\n",
            " 3   Expertise Level     3300 non-null   object\n",
            " 4   Salary              3300 non-null   int64 \n",
            " 5   Salary Currency     3300 non-null   object\n",
            " 6   Company Location    3300 non-null   object\n",
            " 7   Salary in USD       3300 non-null   int64 \n",
            " 8   Employee Residence  3300 non-null   object\n",
            " 9   Company Size        3300 non-null   object\n",
            " 10  Year                3300 non-null   int64 \n",
            "dtypes: int64(3), object(8)\n",
            "memory usage: 283.7+ KB\n"
          ]
        }
      ],
      "source": [
        "salaries = pd.read_csv(\"Latest_Data_Science_Salaries.csv\")\n",
        "salaries.info()"
      ]
    },
    {
      "cell_type": "markdown",
      "id": "98373ed0",
      "metadata": {},
      "source": [
        "##### O método describe() é usado para gerar estatísticas descritivas sobre o DataFrame, como contagem, média, desvio padrão, mínimo, quartis e máximo. Ele fornece um resumo estatístico das colunas numéricas do DataFrame.\n"
      ]
    },
    {
      "cell_type": "code",
      "execution_count": 11,
      "id": "f0cf5e1a",
      "metadata": {
        "id": "f0cf5e1a"
      },
      "outputs": [
        {
          "data": {
            "text/html": [
              "<div>\n",
              "<style scoped>\n",
              "    .dataframe tbody tr th:only-of-type {\n",
              "        vertical-align: middle;\n",
              "    }\n",
              "\n",
              "    .dataframe tbody tr th {\n",
              "        vertical-align: top;\n",
              "    }\n",
              "\n",
              "    .dataframe thead th {\n",
              "        text-align: right;\n",
              "    }\n",
              "</style>\n",
              "<table border=\"1\" class=\"dataframe\">\n",
              "  <thead>\n",
              "    <tr style=\"text-align: right;\">\n",
              "      <th></th>\n",
              "      <th>Salary</th>\n",
              "      <th>Salary in USD</th>\n",
              "      <th>Year</th>\n",
              "    </tr>\n",
              "  </thead>\n",
              "  <tbody>\n",
              "    <tr>\n",
              "      <th>count</th>\n",
              "      <td>3.300000e+03</td>\n",
              "      <td>3300.000000</td>\n",
              "      <td>3300.000000</td>\n",
              "    </tr>\n",
              "    <tr>\n",
              "      <th>mean</th>\n",
              "      <td>2.046623e+05</td>\n",
              "      <td>142095.983939</td>\n",
              "      <td>2022.495455</td>\n",
              "    </tr>\n",
              "    <tr>\n",
              "      <th>std</th>\n",
              "      <td>7.279383e+05</td>\n",
              "      <td>69028.235512</td>\n",
              "      <td>0.716355</td>\n",
              "    </tr>\n",
              "    <tr>\n",
              "      <th>min</th>\n",
              "      <td>1.400000e+04</td>\n",
              "      <td>15000.000000</td>\n",
              "      <td>2020.000000</td>\n",
              "    </tr>\n",
              "    <tr>\n",
              "      <th>25%</th>\n",
              "      <td>9.416900e+04</td>\n",
              "      <td>90000.000000</td>\n",
              "      <td>2022.000000</td>\n",
              "    </tr>\n",
              "    <tr>\n",
              "      <th>50%</th>\n",
              "      <td>1.400000e+05</td>\n",
              "      <td>136000.000000</td>\n",
              "      <td>2023.000000</td>\n",
              "    </tr>\n",
              "    <tr>\n",
              "      <th>75%</th>\n",
              "      <td>1.900000e+05</td>\n",
              "      <td>185000.000000</td>\n",
              "      <td>2023.000000</td>\n",
              "    </tr>\n",
              "    <tr>\n",
              "      <th>max</th>\n",
              "      <td>3.040000e+07</td>\n",
              "      <td>450000.000000</td>\n",
              "      <td>2023.000000</td>\n",
              "    </tr>\n",
              "  </tbody>\n",
              "</table>\n",
              "</div>"
            ],
            "text/plain": [
              "             Salary  Salary in USD         Year\n",
              "count  3.300000e+03    3300.000000  3300.000000\n",
              "mean   2.046623e+05  142095.983939  2022.495455\n",
              "std    7.279383e+05   69028.235512     0.716355\n",
              "min    1.400000e+04   15000.000000  2020.000000\n",
              "25%    9.416900e+04   90000.000000  2022.000000\n",
              "50%    1.400000e+05  136000.000000  2023.000000\n",
              "75%    1.900000e+05  185000.000000  2023.000000\n",
              "max    3.040000e+07  450000.000000  2023.000000"
            ]
          },
          "execution_count": 11,
          "metadata": {},
          "output_type": "execute_result"
        }
      ],
      "source": [
        "salaries = pd.read_csv(\"Latest_Data_Science_Salaries.csv\")\n",
        "salaries.describe()"
      ]
    },
    {
      "cell_type": "markdown",
      "id": "f0666eaf",
      "metadata": {},
      "source": [
        "##### O método head() é usado para exibir as primeiras linhas do DataFrame. Por padrão, ele exibe as 5 primeiras linhas."
      ]
    },
    {
      "cell_type": "code",
      "execution_count": 12,
      "id": "d8be73b2",
      "metadata": {
        "id": "d8be73b2"
      },
      "outputs": [
        {
          "data": {
            "text/html": [
              "<div>\n",
              "<style scoped>\n",
              "    .dataframe tbody tr th:only-of-type {\n",
              "        vertical-align: middle;\n",
              "    }\n",
              "\n",
              "    .dataframe tbody tr th {\n",
              "        vertical-align: top;\n",
              "    }\n",
              "\n",
              "    .dataframe thead th {\n",
              "        text-align: right;\n",
              "    }\n",
              "</style>\n",
              "<table border=\"1\" class=\"dataframe\">\n",
              "  <thead>\n",
              "    <tr style=\"text-align: right;\">\n",
              "      <th></th>\n",
              "      <th>Job Title</th>\n",
              "      <th>Employment Type</th>\n",
              "      <th>Experience Level</th>\n",
              "      <th>Expertise Level</th>\n",
              "      <th>Salary</th>\n",
              "      <th>Salary Currency</th>\n",
              "      <th>Company Location</th>\n",
              "      <th>Salary in USD</th>\n",
              "      <th>Employee Residence</th>\n",
              "      <th>Company Size</th>\n",
              "      <th>Year</th>\n",
              "    </tr>\n",
              "  </thead>\n",
              "  <tbody>\n",
              "    <tr>\n",
              "      <th>0</th>\n",
              "      <td>Data Engineer</td>\n",
              "      <td>Full-Time</td>\n",
              "      <td>Senior</td>\n",
              "      <td>Expert</td>\n",
              "      <td>210000</td>\n",
              "      <td>United States Dollar</td>\n",
              "      <td>United States</td>\n",
              "      <td>210000</td>\n",
              "      <td>United States</td>\n",
              "      <td>Medium</td>\n",
              "      <td>2023</td>\n",
              "    </tr>\n",
              "    <tr>\n",
              "      <th>1</th>\n",
              "      <td>Data Engineer</td>\n",
              "      <td>Full-Time</td>\n",
              "      <td>Senior</td>\n",
              "      <td>Expert</td>\n",
              "      <td>165000</td>\n",
              "      <td>United States Dollar</td>\n",
              "      <td>United States</td>\n",
              "      <td>165000</td>\n",
              "      <td>United States</td>\n",
              "      <td>Medium</td>\n",
              "      <td>2023</td>\n",
              "    </tr>\n",
              "    <tr>\n",
              "      <th>2</th>\n",
              "      <td>Data Engineer</td>\n",
              "      <td>Full-Time</td>\n",
              "      <td>Senior</td>\n",
              "      <td>Expert</td>\n",
              "      <td>185900</td>\n",
              "      <td>United States Dollar</td>\n",
              "      <td>United States</td>\n",
              "      <td>185900</td>\n",
              "      <td>United States</td>\n",
              "      <td>Medium</td>\n",
              "      <td>2023</td>\n",
              "    </tr>\n",
              "    <tr>\n",
              "      <th>3</th>\n",
              "      <td>Data Engineer</td>\n",
              "      <td>Full-Time</td>\n",
              "      <td>Senior</td>\n",
              "      <td>Expert</td>\n",
              "      <td>129300</td>\n",
              "      <td>United States Dollar</td>\n",
              "      <td>United States</td>\n",
              "      <td>129300</td>\n",
              "      <td>United States</td>\n",
              "      <td>Medium</td>\n",
              "      <td>2023</td>\n",
              "    </tr>\n",
              "    <tr>\n",
              "      <th>4</th>\n",
              "      <td>Data Scientist</td>\n",
              "      <td>Full-Time</td>\n",
              "      <td>Senior</td>\n",
              "      <td>Expert</td>\n",
              "      <td>140000</td>\n",
              "      <td>United States Dollar</td>\n",
              "      <td>United States</td>\n",
              "      <td>140000</td>\n",
              "      <td>United States</td>\n",
              "      <td>Medium</td>\n",
              "      <td>2023</td>\n",
              "    </tr>\n",
              "  </tbody>\n",
              "</table>\n",
              "</div>"
            ],
            "text/plain": [
              "        Job Title Employment Type Experience Level Expertise Level  Salary  \\\n",
              "0   Data Engineer       Full-Time           Senior          Expert  210000   \n",
              "1   Data Engineer       Full-Time           Senior          Expert  165000   \n",
              "2   Data Engineer       Full-Time           Senior          Expert  185900   \n",
              "3   Data Engineer       Full-Time           Senior          Expert  129300   \n",
              "4  Data Scientist       Full-Time           Senior          Expert  140000   \n",
              "\n",
              "        Salary Currency Company Location  Salary in USD Employee Residence  \\\n",
              "0  United States Dollar    United States         210000      United States   \n",
              "1  United States Dollar    United States         165000      United States   \n",
              "2  United States Dollar    United States         185900      United States   \n",
              "3  United States Dollar    United States         129300      United States   \n",
              "4  United States Dollar    United States         140000      United States   \n",
              "\n",
              "  Company Size  Year  \n",
              "0       Medium  2023  \n",
              "1       Medium  2023  \n",
              "2       Medium  2023  \n",
              "3       Medium  2023  \n",
              "4       Medium  2023  "
            ]
          },
          "execution_count": 12,
          "metadata": {},
          "output_type": "execute_result"
        }
      ],
      "source": [
        "salaries = pd.read_csv(\"Latest_Data_Science_Salaries.csv\")\n",
        "salaries.head()"
      ]
    },
    {
      "cell_type": "markdown",
      "id": "b5ac4ffa",
      "metadata": {
        "id": "b5ac4ffa"
      },
      "source": [
        "### Loc e iloc"
      ]
    },
    {
      "cell_type": "code",
      "execution_count": 73,
      "id": "67f02a21",
      "metadata": {
        "id": "67f02a21"
      },
      "outputs": [],
      "source": [
        "salaries = pd.read_csv(\"Latest_Data_Science_Salaries.csv\")"
      ]
    },
    {
      "cell_type": "markdown",
      "id": "637c94c4",
      "metadata": {},
      "source": [
        "##### O '.loc' é útil quando você deseja realizar operações no DataFrame usando rótulos de linhas e colunas, em vez de índices numéricos. Ele oferece uma maneira mais intuitiva e explícita de acessar e modificar os dados."
      ]
    },
    {
      "cell_type": "code",
      "execution_count": 118,
      "id": "34d76ce9",
      "metadata": {
        "id": "34d76ce9"
      },
      "outputs": [
        {
          "data": {
            "text/plain": [
              "Job Title                   Data Scientist\n",
              "Employment Type                  Full-Time\n",
              "Experience Level                    Senior\n",
              "Expertise Level                     Expert\n",
              "Salary                              140000\n",
              "Salary Currency       United States Dollar\n",
              "Company Location             United States\n",
              "Salary in USD                       140000\n",
              "Employee Residence           United States\n",
              "Company Size                        Medium\n",
              "Year                                  2023\n",
              "Name: 4, dtype: object"
            ]
          },
          "execution_count": 118,
          "metadata": {},
          "output_type": "execute_result"
        }
      ],
      "source": [
        "#Acessar uma única linha com base no rótulo da linha:\n",
        "salaries.loc[4]"
      ]
    },
    {
      "cell_type": "code",
      "execution_count": 119,
      "id": "27b34998",
      "metadata": {
        "id": "27b34998"
      },
      "outputs": [
        {
          "data": {
            "text/plain": [
              "0                  Data Engineer\n",
              "1                  Data Engineer\n",
              "2                  Data Engineer\n",
              "3                  Data Engineer\n",
              "4                 Data Scientist\n",
              "                  ...           \n",
              "3295              Data Scientist\n",
              "3296    Principal Data Scientist\n",
              "3297              Data Scientist\n",
              "3298       Business Data Analyst\n",
              "3299        Data Science Manager\n",
              "Name: Job Title, Length: 3300, dtype: object"
            ]
          },
          "execution_count": 119,
          "metadata": {},
          "output_type": "execute_result"
        }
      ],
      "source": [
        "#Acessar uma única coluna com base no rótulo da coluna:\n",
        "salaries.loc[:, \"Job Title\"]"
      ]
    },
    {
      "cell_type": "code",
      "execution_count": 120,
      "id": "88e93ed4",
      "metadata": {
        "id": "88e93ed4"
      },
      "outputs": [
        {
          "data": {
            "text/html": [
              "<div>\n",
              "<style scoped>\n",
              "    .dataframe tbody tr th:only-of-type {\n",
              "        vertical-align: middle;\n",
              "    }\n",
              "\n",
              "    .dataframe tbody tr th {\n",
              "        vertical-align: top;\n",
              "    }\n",
              "\n",
              "    .dataframe thead th {\n",
              "        text-align: right;\n",
              "    }\n",
              "</style>\n",
              "<table border=\"1\" class=\"dataframe\">\n",
              "  <thead>\n",
              "    <tr style=\"text-align: right;\">\n",
              "      <th></th>\n",
              "      <th>Job Title</th>\n",
              "      <th>Employment Type</th>\n",
              "      <th>Experience Level</th>\n",
              "      <th>Expertise Level</th>\n",
              "      <th>Salary</th>\n",
              "      <th>Salary Currency</th>\n",
              "      <th>Company Location</th>\n",
              "      <th>Salary in USD</th>\n",
              "      <th>Employee Residence</th>\n",
              "      <th>Company Size</th>\n",
              "      <th>Year</th>\n",
              "    </tr>\n",
              "  </thead>\n",
              "  <tbody>\n",
              "    <tr>\n",
              "      <th>2</th>\n",
              "      <td>Data Engineer</td>\n",
              "      <td>Full-Time</td>\n",
              "      <td>Senior</td>\n",
              "      <td>Expert</td>\n",
              "      <td>185900</td>\n",
              "      <td>United States Dollar</td>\n",
              "      <td>United States</td>\n",
              "      <td>185900</td>\n",
              "      <td>United States</td>\n",
              "      <td>Medium</td>\n",
              "      <td>2023</td>\n",
              "    </tr>\n",
              "    <tr>\n",
              "      <th>3</th>\n",
              "      <td>Data Engineer</td>\n",
              "      <td>Full-Time</td>\n",
              "      <td>Senior</td>\n",
              "      <td>Expert</td>\n",
              "      <td>129300</td>\n",
              "      <td>United States Dollar</td>\n",
              "      <td>United States</td>\n",
              "      <td>129300</td>\n",
              "      <td>United States</td>\n",
              "      <td>Medium</td>\n",
              "      <td>2023</td>\n",
              "    </tr>\n",
              "    <tr>\n",
              "      <th>4</th>\n",
              "      <td>Data Scientist</td>\n",
              "      <td>Full-Time</td>\n",
              "      <td>Senior</td>\n",
              "      <td>Expert</td>\n",
              "      <td>140000</td>\n",
              "      <td>United States Dollar</td>\n",
              "      <td>United States</td>\n",
              "      <td>140000</td>\n",
              "      <td>United States</td>\n",
              "      <td>Medium</td>\n",
              "      <td>2023</td>\n",
              "    </tr>\n",
              "    <tr>\n",
              "      <th>5</th>\n",
              "      <td>Data Scientist</td>\n",
              "      <td>Full-Time</td>\n",
              "      <td>Senior</td>\n",
              "      <td>Expert</td>\n",
              "      <td>126000</td>\n",
              "      <td>United States Dollar</td>\n",
              "      <td>United States</td>\n",
              "      <td>126000</td>\n",
              "      <td>United States</td>\n",
              "      <td>Medium</td>\n",
              "      <td>2023</td>\n",
              "    </tr>\n",
              "  </tbody>\n",
              "</table>\n",
              "</div>"
            ],
            "text/plain": [
              "        Job Title Employment Type Experience Level Expertise Level  Salary  \\\n",
              "2   Data Engineer       Full-Time           Senior          Expert  185900   \n",
              "3   Data Engineer       Full-Time           Senior          Expert  129300   \n",
              "4  Data Scientist       Full-Time           Senior          Expert  140000   \n",
              "5  Data Scientist       Full-Time           Senior          Expert  126000   \n",
              "\n",
              "        Salary Currency Company Location  Salary in USD Employee Residence  \\\n",
              "2  United States Dollar    United States         185900      United States   \n",
              "3  United States Dollar    United States         129300      United States   \n",
              "4  United States Dollar    United States         140000      United States   \n",
              "5  United States Dollar    United States         126000      United States   \n",
              "\n",
              "  Company Size  Year  \n",
              "2       Medium  2023  \n",
              "3       Medium  2023  \n",
              "4       Medium  2023  \n",
              "5       Medium  2023  "
            ]
          },
          "execution_count": 120,
          "metadata": {},
          "output_type": "execute_result"
        }
      ],
      "source": [
        "#Acessar mais de uma linha com base no rótulo das linhas:\n",
        "salaries.loc[2:5]"
      ]
    },
    {
      "cell_type": "code",
      "execution_count": 125,
      "id": "0ba6b227",
      "metadata": {},
      "outputs": [
        {
          "data": {
            "text/html": [
              "<div>\n",
              "<style scoped>\n",
              "    .dataframe tbody tr th:only-of-type {\n",
              "        vertical-align: middle;\n",
              "    }\n",
              "\n",
              "    .dataframe tbody tr th {\n",
              "        vertical-align: top;\n",
              "    }\n",
              "\n",
              "    .dataframe thead th {\n",
              "        text-align: right;\n",
              "    }\n",
              "</style>\n",
              "<table border=\"1\" class=\"dataframe\">\n",
              "  <thead>\n",
              "    <tr style=\"text-align: right;\">\n",
              "      <th></th>\n",
              "      <th>Salary</th>\n",
              "      <th>Experience Level</th>\n",
              "    </tr>\n",
              "  </thead>\n",
              "  <tbody>\n",
              "    <tr>\n",
              "      <th>0</th>\n",
              "      <td>210000</td>\n",
              "      <td>Senior</td>\n",
              "    </tr>\n",
              "    <tr>\n",
              "      <th>1</th>\n",
              "      <td>165000</td>\n",
              "      <td>Senior</td>\n",
              "    </tr>\n",
              "    <tr>\n",
              "      <th>2</th>\n",
              "      <td>185900</td>\n",
              "      <td>Senior</td>\n",
              "    </tr>\n",
              "    <tr>\n",
              "      <th>3</th>\n",
              "      <td>129300</td>\n",
              "      <td>Senior</td>\n",
              "    </tr>\n",
              "    <tr>\n",
              "      <th>4</th>\n",
              "      <td>140000</td>\n",
              "      <td>Senior</td>\n",
              "    </tr>\n",
              "    <tr>\n",
              "      <th>...</th>\n",
              "      <td>...</td>\n",
              "      <td>...</td>\n",
              "    </tr>\n",
              "    <tr>\n",
              "      <th>3295</th>\n",
              "      <td>412000</td>\n",
              "      <td>Senior</td>\n",
              "    </tr>\n",
              "    <tr>\n",
              "      <th>3296</th>\n",
              "      <td>151000</td>\n",
              "      <td>Mid</td>\n",
              "    </tr>\n",
              "    <tr>\n",
              "      <th>3297</th>\n",
              "      <td>105000</td>\n",
              "      <td>Entry</td>\n",
              "    </tr>\n",
              "    <tr>\n",
              "      <th>3298</th>\n",
              "      <td>100000</td>\n",
              "      <td>Entry</td>\n",
              "    </tr>\n",
              "    <tr>\n",
              "      <th>3299</th>\n",
              "      <td>7000000</td>\n",
              "      <td>Senior</td>\n",
              "    </tr>\n",
              "  </tbody>\n",
              "</table>\n",
              "<p>3300 rows × 2 columns</p>\n",
              "</div>"
            ],
            "text/plain": [
              "       Salary Experience Level\n",
              "0      210000           Senior\n",
              "1      165000           Senior\n",
              "2      185900           Senior\n",
              "3      129300           Senior\n",
              "4      140000           Senior\n",
              "...       ...              ...\n",
              "3295   412000           Senior\n",
              "3296   151000              Mid\n",
              "3297   105000            Entry\n",
              "3298   100000            Entry\n",
              "3299  7000000           Senior\n",
              "\n",
              "[3300 rows x 2 columns]"
            ]
          },
          "execution_count": 125,
          "metadata": {},
          "output_type": "execute_result"
        }
      ],
      "source": [
        "#Acessar mais de uma coluna com base no rótulo das colunas:\n",
        "salaries.loc[:,[\"Salary\", \"Experience Level\"]]"
      ]
    },
    {
      "cell_type": "code",
      "execution_count": 126,
      "id": "afa60607",
      "metadata": {
        "id": "afa60607"
      },
      "outputs": [
        {
          "data": {
            "text/html": [
              "<div>\n",
              "<style scoped>\n",
              "    .dataframe tbody tr th:only-of-type {\n",
              "        vertical-align: middle;\n",
              "    }\n",
              "\n",
              "    .dataframe tbody tr th {\n",
              "        vertical-align: top;\n",
              "    }\n",
              "\n",
              "    .dataframe thead th {\n",
              "        text-align: right;\n",
              "    }\n",
              "</style>\n",
              "<table border=\"1\" class=\"dataframe\">\n",
              "  <thead>\n",
              "    <tr style=\"text-align: right;\">\n",
              "      <th></th>\n",
              "      <th>Salary</th>\n",
              "      <th>Experience Level</th>\n",
              "    </tr>\n",
              "  </thead>\n",
              "  <tbody>\n",
              "    <tr>\n",
              "      <th>2</th>\n",
              "      <td>185900</td>\n",
              "      <td>Senior</td>\n",
              "    </tr>\n",
              "    <tr>\n",
              "      <th>3</th>\n",
              "      <td>129300</td>\n",
              "      <td>Senior</td>\n",
              "    </tr>\n",
              "    <tr>\n",
              "      <th>4</th>\n",
              "      <td>140000</td>\n",
              "      <td>Senior</td>\n",
              "    </tr>\n",
              "    <tr>\n",
              "      <th>5</th>\n",
              "      <td>126000</td>\n",
              "      <td>Senior</td>\n",
              "    </tr>\n",
              "  </tbody>\n",
              "</table>\n",
              "</div>"
            ],
            "text/plain": [
              "   Salary Experience Level\n",
              "2  185900           Senior\n",
              "3  129300           Senior\n",
              "4  140000           Senior\n",
              "5  126000           Senior"
            ]
          },
          "execution_count": 126,
          "metadata": {},
          "output_type": "execute_result"
        }
      ],
      "source": [
        "#Acessar mais de uma linha e coluna com base no rótulo das linhas e das colunas:\n",
        "salaries.loc[2:5, [\"Salary\", \"Experience Level\"]]"
      ]
    },
    {
      "cell_type": "markdown",
      "id": "d26c6302",
      "metadata": {},
      "source": [
        "##### O .iloc é um atributo do DataFrame do Pandas que permite acessar e modificar os valores com base em índices numéricos de linhas e colunas. Ao contrário do .loc, que usa rótulos de linhas e colunas, o .iloc é usado para indexação baseada em índices numéricos."
      ]
    },
    {
      "cell_type": "code",
      "execution_count": 127,
      "id": "9cb2ae3f",
      "metadata": {
        "id": "9cb2ae3f"
      },
      "outputs": [
        {
          "data": {
            "text/plain": [
              "Job Title                    Data Engineer\n",
              "Employment Type                  Full-Time\n",
              "Experience Level                    Senior\n",
              "Expertise Level                     Expert\n",
              "Salary                              210000\n",
              "Salary Currency       United States Dollar\n",
              "Company Location             United States\n",
              "Salary in USD                       210000\n",
              "Employee Residence           United States\n",
              "Company Size                        Medium\n",
              "Year                                  2023\n",
              "Name: 0, dtype: object"
            ]
          },
          "execution_count": 127,
          "metadata": {},
          "output_type": "execute_result"
        }
      ],
      "source": [
        "#Acessar uma única linha com base no número da linha:\n",
        "salaries.iloc[0]"
      ]
    },
    {
      "cell_type": "code",
      "execution_count": 130,
      "id": "0ad563fc",
      "metadata": {
        "id": "0ad563fc"
      },
      "outputs": [
        {
          "data": {
            "text/html": [
              "<div>\n",
              "<style scoped>\n",
              "    .dataframe tbody tr th:only-of-type {\n",
              "        vertical-align: middle;\n",
              "    }\n",
              "\n",
              "    .dataframe tbody tr th {\n",
              "        vertical-align: top;\n",
              "    }\n",
              "\n",
              "    .dataframe thead th {\n",
              "        text-align: right;\n",
              "    }\n",
              "</style>\n",
              "<table border=\"1\" class=\"dataframe\">\n",
              "  <thead>\n",
              "    <tr style=\"text-align: right;\">\n",
              "      <th></th>\n",
              "      <th>Job Title</th>\n",
              "    </tr>\n",
              "  </thead>\n",
              "  <tbody>\n",
              "    <tr>\n",
              "      <th>0</th>\n",
              "      <td>Data Engineer</td>\n",
              "    </tr>\n",
              "    <tr>\n",
              "      <th>1</th>\n",
              "      <td>Data Engineer</td>\n",
              "    </tr>\n",
              "  </tbody>\n",
              "</table>\n",
              "</div>"
            ],
            "text/plain": [
              "       Job Title\n",
              "0  Data Engineer\n",
              "1  Data Engineer"
            ]
          },
          "execution_count": 130,
          "metadata": {},
          "output_type": "execute_result"
        }
      ],
      "source": [
        "#Acessar linhas e colunas com base no alcance:\n",
        "salaries.iloc[range(2), range(1)]"
      ]
    },
    {
      "cell_type": "code",
      "execution_count": 131,
      "id": "e4102919",
      "metadata": {
        "id": "e4102919"
      },
      "outputs": [
        {
          "data": {
            "text/html": [
              "<div>\n",
              "<style scoped>\n",
              "    .dataframe tbody tr th:only-of-type {\n",
              "        vertical-align: middle;\n",
              "    }\n",
              "\n",
              "    .dataframe tbody tr th {\n",
              "        vertical-align: top;\n",
              "    }\n",
              "\n",
              "    .dataframe thead th {\n",
              "        text-align: right;\n",
              "    }\n",
              "</style>\n",
              "<table border=\"1\" class=\"dataframe\">\n",
              "  <thead>\n",
              "    <tr style=\"text-align: right;\">\n",
              "      <th></th>\n",
              "      <th>Job Title</th>\n",
              "      <th>Employment Type</th>\n",
              "      <th>Experience Level</th>\n",
              "      <th>Expertise Level</th>\n",
              "      <th>Salary</th>\n",
              "      <th>Salary Currency</th>\n",
              "      <th>Company Location</th>\n",
              "      <th>Salary in USD</th>\n",
              "      <th>Employee Residence</th>\n",
              "      <th>Company Size</th>\n",
              "      <th>Year</th>\n",
              "    </tr>\n",
              "  </thead>\n",
              "  <tbody>\n",
              "    <tr>\n",
              "      <th>9</th>\n",
              "      <td>Data Engineer</td>\n",
              "      <td>Full-Time</td>\n",
              "      <td>Mid</td>\n",
              "      <td>Intermediate</td>\n",
              "      <td>75000</td>\n",
              "      <td>British Pound Sterling</td>\n",
              "      <td>United Kingdom</td>\n",
              "      <td>92280</td>\n",
              "      <td>United Kingdom</td>\n",
              "      <td>Medium</td>\n",
              "      <td>2023</td>\n",
              "    </tr>\n",
              "    <tr>\n",
              "      <th>5</th>\n",
              "      <td>Data Scientist</td>\n",
              "      <td>Full-Time</td>\n",
              "      <td>Senior</td>\n",
              "      <td>Expert</td>\n",
              "      <td>126000</td>\n",
              "      <td>United States Dollar</td>\n",
              "      <td>United States</td>\n",
              "      <td>126000</td>\n",
              "      <td>United States</td>\n",
              "      <td>Medium</td>\n",
              "      <td>2023</td>\n",
              "    </tr>\n",
              "    <tr>\n",
              "      <th>6</th>\n",
              "      <td>Data Scientist</td>\n",
              "      <td>Full-Time</td>\n",
              "      <td>Senior</td>\n",
              "      <td>Expert</td>\n",
              "      <td>170000</td>\n",
              "      <td>United States Dollar</td>\n",
              "      <td>United States</td>\n",
              "      <td>170000</td>\n",
              "      <td>United States</td>\n",
              "      <td>Medium</td>\n",
              "      <td>2023</td>\n",
              "    </tr>\n",
              "  </tbody>\n",
              "</table>\n",
              "</div>"
            ],
            "text/plain": [
              "        Job Title Employment Type Experience Level Expertise Level  Salary  \\\n",
              "9   Data Engineer       Full-Time              Mid    Intermediate   75000   \n",
              "5  Data Scientist       Full-Time           Senior          Expert  126000   \n",
              "6  Data Scientist       Full-Time           Senior          Expert  170000   \n",
              "\n",
              "          Salary Currency Company Location  Salary in USD Employee Residence  \\\n",
              "9  British Pound Sterling   United Kingdom          92280     United Kingdom   \n",
              "5    United States Dollar    United States         126000      United States   \n",
              "6    United States Dollar    United States         170000      United States   \n",
              "\n",
              "  Company Size  Year  \n",
              "9       Medium  2023  \n",
              "5       Medium  2023  \n",
              "6       Medium  2023  "
            ]
          },
          "execution_count": 131,
          "metadata": {},
          "output_type": "execute_result"
        }
      ],
      "source": [
        "#Acessar mais de uma linha com base no número das linhas:\n",
        "salaries.iloc[[9, 5, 6]]"
      ]
    },
    {
      "cell_type": "code",
      "execution_count": 132,
      "id": "4703f20a",
      "metadata": {
        "id": "4703f20a"
      },
      "outputs": [
        {
          "data": {
            "text/html": [
              "<div>\n",
              "<style scoped>\n",
              "    .dataframe tbody tr th:only-of-type {\n",
              "        vertical-align: middle;\n",
              "    }\n",
              "\n",
              "    .dataframe tbody tr th {\n",
              "        vertical-align: top;\n",
              "    }\n",
              "\n",
              "    .dataframe thead th {\n",
              "        text-align: right;\n",
              "    }\n",
              "</style>\n",
              "<table border=\"1\" class=\"dataframe\">\n",
              "  <thead>\n",
              "    <tr style=\"text-align: right;\">\n",
              "      <th></th>\n",
              "      <th>Employment Type</th>\n",
              "      <th>Experience Level</th>\n",
              "      <th>Expertise Level</th>\n",
              "    </tr>\n",
              "  </thead>\n",
              "  <tbody>\n",
              "    <tr>\n",
              "      <th>5</th>\n",
              "      <td>Full-Time</td>\n",
              "      <td>Senior</td>\n",
              "      <td>Expert</td>\n",
              "    </tr>\n",
              "    <tr>\n",
              "      <th>6</th>\n",
              "      <td>Full-Time</td>\n",
              "      <td>Senior</td>\n",
              "      <td>Expert</td>\n",
              "    </tr>\n",
              "    <tr>\n",
              "      <th>7</th>\n",
              "      <td>Full-Time</td>\n",
              "      <td>Senior</td>\n",
              "      <td>Expert</td>\n",
              "    </tr>\n",
              "  </tbody>\n",
              "</table>\n",
              "</div>"
            ],
            "text/plain": [
              "  Employment Type Experience Level Expertise Level\n",
              "5       Full-Time           Senior          Expert\n",
              "6       Full-Time           Senior          Expert\n",
              "7       Full-Time           Senior          Expert"
            ]
          },
          "execution_count": 132,
          "metadata": {},
          "output_type": "execute_result"
        }
      ],
      "source": [
        "##Acessar mais de uma linha e mais de uma coluna com base no número das linhas e das colunas:\n",
        "salaries.iloc[[5,6,7],[1,2,3]]"
      ]
    },
    {
      "cell_type": "markdown",
      "id": "dbc458ea",
      "metadata": {
        "id": "dbc458ea"
      },
      "source": [
        "### Retorno a apresentação das bases"
      ]
    },
    {
      "cell_type": "code",
      "execution_count": 133,
      "id": "53a8c393",
      "metadata": {
        "id": "53a8c393"
      },
      "outputs": [
        {
          "data": {
            "text/plain": [
              "array(['Senior', 'Mid', 'Executive', 'Entry'], dtype=object)"
            ]
          },
          "execution_count": 133,
          "metadata": {},
          "output_type": "execute_result"
        }
      ],
      "source": [
        "#Unique é usado para retornar os valores únicos presentes, ou seja, todas as respostas possíveis.\n",
        "salaries['Experience Level'].unique()"
      ]
    },
    {
      "cell_type": "code",
      "execution_count": 137,
      "id": "744d252e",
      "metadata": {
        "id": "744d252e"
      },
      "outputs": [
        {
          "name": "stdout",
          "output_type": "stream",
          "text": [
            "1071 vs 11\n",
            "210000\n"
          ]
        }
      ],
      "source": [
        "print(len(salaries[\"Salary\"].unique()), \"vs\", len(salaries.columns))\n",
        "print(ct[\"Salary\"].unique()[0])"
      ]
    },
    {
      "cell_type": "markdown",
      "id": "4e65c93c",
      "metadata": {
        "id": "4e65c93c"
      },
      "source": [
        "#### Set Theory\n",
        "![set_theory](set_theory.png)\n",
        "![set_theory_ativos](set_theory_ativos.png)"
      ]
    },
    {
      "cell_type": "code",
      "execution_count": null,
      "id": "b994d0f9",
      "metadata": {
        "id": "b994d0f9"
      },
      "outputs": [],
      "source": [
        "# sets https://www.w3schools.com/python/python_ref_set.asp\n",
        "x = {'Petrobras', 'Itau', 'Suzano'}\n",
        "y = {'Eletrobras', 'Bradesco', 'Suzano'}\n",
        "\n",
        "z = x.difference(y)\n",
        "z"
      ]
    },
    {
      "cell_type": "code",
      "execution_count": null,
      "id": "366a257a",
      "metadata": {
        "id": "366a257a"
      },
      "outputs": [],
      "source": [
        "y.difference(x)"
      ]
    },
    {
      "cell_type": "code",
      "execution_count": null,
      "id": "9047715e",
      "metadata": {
        "id": "9047715e"
      },
      "outputs": [],
      "source": [
        "x.symmetric_difference(y)"
      ]
    },
    {
      "cell_type": "code",
      "execution_count": null,
      "id": "847833ca",
      "metadata": {
        "id": "847833ca"
      },
      "outputs": [],
      "source": [
        "x.intersection(y)"
      ]
    },
    {
      "cell_type": "code",
      "execution_count": null,
      "id": "6579397b",
      "metadata": {
        "id": "6579397b"
      },
      "outputs": [],
      "source": [
        "# acessar colunas do dataframe de ativos\n",
        "at.columns"
      ]
    },
    {
      "cell_type": "code",
      "execution_count": null,
      "id": "b04e2298",
      "metadata": {
        "id": "b04e2298"
      },
      "outputs": [],
      "source": [
        "set(at.columns.unique()).difference(ct[\"ativo\"].unique())"
      ]
    },
    {
      "cell_type": "code",
      "execution_count": null,
      "id": "c2579e34",
      "metadata": {
        "id": "c2579e34"
      },
      "outputs": [],
      "source": [
        "set(ct[\"ativo\"].unique()).difference(at.columns.unique())"
      ]
    },
    {
      "cell_type": "code",
      "execution_count": null,
      "id": "479051f5",
      "metadata": {
        "id": "479051f5"
      },
      "outputs": [],
      "source": [
        "ct.loc[ct[\"ativo\"].isin(at.columns), [\"ativo\", \"ativo_desc\"]].drop_duplicates()"
      ]
    },
    {
      "cell_type": "code",
      "execution_count": null,
      "id": "81517c7b",
      "metadata": {
        "id": "81517c7b"
      },
      "outputs": [],
      "source": [
        "ct.loc[ct[\"ativo\"].isin(at.columns), \"ativo_desc\"].unique()"
      ]
    },
    {
      "cell_type": "code",
      "execution_count": null,
      "id": "ffa456fa",
      "metadata": {
        "id": "ffa456fa"
      },
      "outputs": [],
      "source": [
        "pd.set_option('max_colwidth', None)\n",
        "ct[[\"nome_gestor\", \"nome_fundo\"]].drop_duplicates().reset_index(drop=True)"
      ]
    },
    {
      "cell_type": "code",
      "execution_count": null,
      "id": "95d76a97",
      "metadata": {
        "id": "95d76a97"
      },
      "outputs": [],
      "source": [
        "pd.reset_option('^display.', silent=True)"
      ]
    },
    {
      "cell_type": "markdown",
      "id": "b45dd4f6",
      "metadata": {
        "id": "b45dd4f6"
      },
      "source": [
        "## 2. Métodos Úteis"
      ]
    },
    {
      "cell_type": "markdown",
      "id": "5c4911fe",
      "metadata": {
        "id": "5c4911fe"
      },
      "source": [
        "### 2.1.1 Groupby"
      ]
    },
    {
      "cell_type": "code",
      "execution_count": null,
      "id": "1c7b6f8c",
      "metadata": {
        "id": "1c7b6f8c"
      },
      "outputs": [],
      "source": [
        "ct.groupby(\"nome_fundo\").nunique()[[\"ativo\"]]"
      ]
    },
    {
      "cell_type": "code",
      "execution_count": null,
      "id": "fe2417ff",
      "metadata": {
        "id": "fe2417ff"
      },
      "outputs": [],
      "source": [
        "ct[[\"nome_fundo\", \"data\", \"ativo\"]].groupby([\"nome_fundo\", \"data\"]).count()"
      ]
    },
    {
      "cell_type": "markdown",
      "id": "ee7a408b",
      "metadata": {
        "id": "ee7a408b"
      },
      "source": [
        "### 2.1.2 Pivot Table"
      ]
    },
    {
      "cell_type": "code",
      "execution_count": null,
      "id": "db3de74e",
      "metadata": {
        "id": "db3de74e"
      },
      "outputs": [],
      "source": [
        "ct.pivot_table(\"ativo_desc\", index=\"nome_fundo\", columns=\"data\", aggfunc=lambda x: len(x.unique()))"
      ]
    },
    {
      "cell_type": "code",
      "execution_count": null,
      "id": "66a4ed11",
      "metadata": {
        "id": "66a4ed11"
      },
      "outputs": [],
      "source": [
        "ct.pivot_table(\"ativo\", index=\"nome_fundo\", columns=\"data\", aggfunc=lambda x: len(x.unique()))"
      ]
    },
    {
      "cell_type": "code",
      "execution_count": null,
      "id": "6162ae5b",
      "metadata": {
        "id": "6162ae5b"
      },
      "outputs": [],
      "source": [
        "pivoted_table = ct.pivot_table(\"ativo\", index=\"nome_fundo\", columns=\"data\", aggfunc=\"count\")\n",
        "pivoted_table"
      ]
    },
    {
      "cell_type": "markdown",
      "id": "0f2e7f37",
      "metadata": {
        "id": "0f2e7f37"
      },
      "source": [
        "### 2.1.3 Melt"
      ]
    },
    {
      "cell_type": "code",
      "execution_count": null,
      "id": "e018ecb4",
      "metadata": {
        "id": "e018ecb4"
      },
      "outputs": [],
      "source": [
        "pivoted_table.melt(ignore_index=False).head(6)"
      ]
    },
    {
      "cell_type": "markdown",
      "id": "c6e47787",
      "metadata": {
        "id": "c6e47787"
      },
      "source": [
        "### 2.2.1 Diff"
      ]
    },
    {
      "cell_type": "code",
      "execution_count": null,
      "id": "0a69469d",
      "metadata": {
        "id": "0a69469d"
      },
      "outputs": [],
      "source": [
        "np.random.seed(420)\n",
        "rand_series = np.random.rand(100)\n",
        "plt.plot(np.arange(100), rand_series)"
      ]
    },
    {
      "cell_type": "code",
      "execution_count": null,
      "id": "15e863bc",
      "metadata": {
        "id": "15e863bc"
      },
      "outputs": [],
      "source": [
        "x = np.arange(100).reshape(-1, 1)\n",
        "y_tendencia = (rand_series * np.arange(1, 20, .19)).reshape(-1, 1)\n",
        "pred = LinearRegression().fit(x, y_tendencia).predict(x)"
      ]
    },
    {
      "cell_type": "code",
      "execution_count": null,
      "id": "0c05f881",
      "metadata": {
        "id": "0c05f881"
      },
      "outputs": [],
      "source": [
        "fix, ax = plt.subplots()\n",
        "ax.plot(x, y_tendencia)\n",
        "ax.plot(pred)\n",
        "plt.show()"
      ]
    },
    {
      "cell_type": "code",
      "execution_count": null,
      "id": "1d078539",
      "metadata": {
        "id": "1d078539"
      },
      "outputs": [],
      "source": [
        "y = pd.Series(y_tendencia.flatten()).diff()\n",
        "pred = LinearRegression().fit(x, y.fillna(0)).predict(x)\n",
        "\n",
        "fig, ax = plt.subplots()\n",
        "# função plot do pandas\n",
        "y.diff().plot()\n",
        "ax.plot(pred)\n",
        "plt.show()"
      ]
    },
    {
      "cell_type": "markdown",
      "id": "2d27562a",
      "metadata": {
        "id": "2d27562a"
      },
      "source": [
        "### 2.2.2 Pct_change"
      ]
    },
    {
      "cell_type": "code",
      "execution_count": null,
      "id": "fd721e77",
      "metadata": {
        "id": "fd721e77"
      },
      "outputs": [],
      "source": [
        "((at - at.shift(1)) / at).head()"
      ]
    },
    {
      "cell_type": "code",
      "execution_count": null,
      "id": "1075058f",
      "metadata": {
        "id": "1075058f"
      },
      "outputs": [],
      "source": [
        "(at.diff() / at).head()"
      ]
    },
    {
      "cell_type": "code",
      "execution_count": null,
      "id": "de5ec88b",
      "metadata": {
        "id": "de5ec88b"
      },
      "outputs": [],
      "source": [
        "at.pct_change().head()"
      ]
    },
    {
      "cell_type": "code",
      "execution_count": null,
      "id": "f48d7fc1",
      "metadata": {
        "id": "f48d7fc1"
      },
      "outputs": [],
      "source": [
        "at.pct_change().iloc[1:]"
      ]
    },
    {
      "cell_type": "code",
      "execution_count": null,
      "id": "f1ca627e",
      "metadata": {
        "id": "f1ca627e"
      },
      "outputs": [],
      "source": [
        "filling_first = at.pct_change()"
      ]
    },
    {
      "cell_type": "code",
      "execution_count": null,
      "id": "3a647b5a",
      "metadata": {
        "id": "3a647b5a"
      },
      "outputs": [],
      "source": [
        "filling_first.iloc[0] = 0"
      ]
    },
    {
      "cell_type": "code",
      "execution_count": null,
      "id": "9a4cfd76",
      "metadata": {
        "id": "9a4cfd76"
      },
      "outputs": [],
      "source": [
        "filling_first.head()"
      ]
    },
    {
      "cell_type": "markdown",
      "id": "baee0d32",
      "metadata": {
        "id": "baee0d32"
      },
      "source": [
        "## 3. Aplicações Úteis"
      ]
    },
    {
      "cell_type": "markdown",
      "id": "4251cb57",
      "metadata": {
        "id": "4251cb57"
      },
      "source": [
        "### 3.1 Cálculo de Retorno"
      ]
    },
    {
      "cell_type": "code",
      "execution_count": null,
      "id": "6af1c9c3",
      "metadata": {
        "id": "6af1c9c3"
      },
      "outputs": [],
      "source": [
        "((at.pct_change() + 1).prod() - 1).sort_values(ascending=False)[:5]"
      ]
    },
    {
      "cell_type": "code",
      "execution_count": null,
      "id": "bbaae832",
      "metadata": {
        "id": "bbaae832"
      },
      "outputs": [],
      "source": [
        "((at.pct_change() + 1).prod() - 1)[:3]"
      ]
    },
    {
      "cell_type": "code",
      "execution_count": null,
      "id": "cdd7cb50",
      "metadata": {
        "id": "cdd7cb50"
      },
      "outputs": [],
      "source": [
        "top_10_geral = ((at.pct_change() + 1).prod() - 1).sort_values(ascending=False)[:10]"
      ]
    },
    {
      "cell_type": "markdown",
      "id": "0a26a577",
      "metadata": {
        "id": "0a26a577"
      },
      "source": [
        "### 3.2 Cálculo Para Cada Fundo"
      ]
    },
    {
      "cell_type": "code",
      "execution_count": null,
      "id": "0ffe2fa5",
      "metadata": {
        "id": "0ffe2fa5"
      },
      "outputs": [],
      "source": [
        "ativos_tarkus = (ct.loc[ct[\"ativo\"].isin(at.columns) &\n",
        "                        (ct[\"nome_fundo\"]==\"KAPITALO TARKUS MÁSTER FUNDO DE INVESTIMENTO EM AÇÕES\"),\n",
        "                        \"ativo\"]\n",
        "                   .unique()\n",
        ")\n",
        "ativos_t3 = (ct[\"ativo\"][ct[\"ativo\"].isin(at.columns) &\n",
        "                         (ct[\"nome_fundo\"]==\"T3 FUNDO DE INVESTIMENTO MULTIMERCADO CRÉDITO PRIVADO LONG BIASED\")]\n",
        "                   .unique()\n",
        ")"
      ]
    },
    {
      "cell_type": "code",
      "execution_count": null,
      "id": "a1eeb515",
      "metadata": {
        "id": "a1eeb515"
      },
      "outputs": [],
      "source": [
        "top_10_tarkus = ((at[ativos_tarkus].pct_change() + 1).prod() - 1).sort_values(ascending=False)[:10]\n",
        "top_10_t3 = ((at[ativos_t3].pct_change() + 1).prod() - 1).sort_values(ascending=False)[:10]"
      ]
    },
    {
      "cell_type": "markdown",
      "id": "f092bb74",
      "metadata": {
        "id": "f092bb74"
      },
      "source": [
        "### 3.3 Juntando os Resultados"
      ]
    },
    {
      "cell_type": "code",
      "execution_count": null,
      "id": "8f6da9bb",
      "metadata": {
        "id": "8f6da9bb"
      },
      "outputs": [],
      "source": [
        "pd.concat([top_10_geral.rename(\"Geral\"),\n",
        "           top_10_tarkus.rename(\"Kapitalo Tarkus\"),\n",
        "           top_10_t3.rename(\"Tower Three Long Biased\")], axis=1)"
      ]
    },
    {
      "cell_type": "markdown",
      "id": "f6e02ea2",
      "metadata": {
        "id": "f6e02ea2"
      },
      "source": [
        "![](joins.png)"
      ]
    },
    {
      "cell_type": "code",
      "execution_count": null,
      "id": "76926ffd",
      "metadata": {
        "id": "76926ffd"
      },
      "outputs": [],
      "source": [
        "(pd.DataFrame(top_10_geral.rename(\"Geral\"))\n",
        "   .merge(top_10_tarkus.rename(\"Tarkus\"),\n",
        "          left_index=True,\n",
        "          right_index=True,\n",
        "          how=\"outer\")\n",
        "   .merge(top_10_t3.rename(\"Tower Three Long Biased\"),\n",
        "          left_index=True,\n",
        "          right_index=True,\n",
        "          how=\"outer\")\n",
        ").sort_values(\"Geral\", ascending=False)"
      ]
    },
    {
      "cell_type": "code",
      "execution_count": null,
      "id": "96a588f7",
      "metadata": {
        "id": "96a588f7"
      },
      "outputs": [],
      "source": [
        "(pd.DataFrame(top_10_geral.rename(\"Geral\"))\n",
        "   .join(top_10_tarkus.rename(\"Tarkus\"),\n",
        "          how=\"outer\")\n",
        "   .join(top_10_t3.rename(\"Tower Three Long Biased\"),\n",
        "          how=\"outer\")\n",
        ").sort_values(\"Geral\", ascending=False)"
      ]
    }
  ],
  "metadata": {
    "colab": {
      "collapsed_sections": [],
      "provenance": []
    },
    "kernelspec": {
      "display_name": "Python 3 (ipykernel)",
      "language": "python",
      "name": "python3"
    },
    "language_info": {
      "codemirror_mode": {
        "name": "ipython",
        "version": 3
      },
      "file_extension": ".py",
      "mimetype": "text/x-python",
      "name": "python",
      "nbconvert_exporter": "python",
      "pygments_lexer": "ipython3",
      "version": "3.11.3"
    }
  },
  "nbformat": 4,
  "nbformat_minor": 5
}
