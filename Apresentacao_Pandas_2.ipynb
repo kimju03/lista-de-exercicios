{
  "cells": [
    {
      "cell_type": "markdown",
      "id": "47fe342e",
      "metadata": {
        "id": "47fe342e"
      },
      "source": [
        "# <font color=lightblue>Pandas II - Aplicações na Vida Real </font>"
      ]
    },
    {
      "cell_type": "markdown",
      "id": "m1q9KlHXJiSL",
      "metadata": {
        "id": "m1q9KlHXJiSL"
      },
      "source": [
        "# <font color=lightblue>Sumário</font>"
      ]
    },
    {
      "cell_type": "markdown",
      "id": "nQPaI0FWCGw5",
      "metadata": {
        "id": "nQPaI0FWCGw5"
      },
      "source": [
        "- ### <font color=lightpink>1. Introdução </font>\n",
        "        \n",
        "        1.1 Apresentação das bases de dados\n",
        "        1.2 Loc e iloc\n",
        "\n",
        "- ### <font color=lightpink>2. Métodos Úteis </font>\n",
        "        \n",
        "        2.1 Agrupamento\n",
        "        2.1.1 Groupby\n",
        "        2.1.2 Pivot Table\n",
        "        2.1.3 Melt\n",
        "        \n",
        "        2.2.1 Diff\n",
        "        2.2.2 Pct_change\n",
        "\n",
        "- ### <font color=lightpink>3. Aplicações Úteis </font>\n",
        "\n",
        "        3.1 Cálculo de retorno\n",
        "        3.2 Melhores retornos para cada fundos\n",
        "        3.3 Juntando os Resultados"
      ]
    },
    {
      "cell_type": "code",
      "execution_count": 1,
      "id": "15b605b0",
      "metadata": {
        "id": "15b605b0"
      },
      "outputs": [
        {
          "name": "stdout",
          "output_type": "stream",
          "text": [
            "Requirement already satisfied: pandas in /home/codespace/.local/lib/python3.10/site-packages (2.0.2)\n",
            "Requirement already satisfied: python-dateutil>=2.8.2 in /home/codespace/.local/lib/python3.10/site-packages (from pandas) (2.8.2)\n",
            "Requirement already satisfied: pytz>=2020.1 in /home/codespace/.local/lib/python3.10/site-packages (from pandas) (2023.3)\n",
            "Requirement already satisfied: tzdata>=2022.1 in /home/codespace/.local/lib/python3.10/site-packages (from pandas) (2023.3)\n",
            "Requirement already satisfied: numpy>=1.21.0 in /home/codespace/.local/lib/python3.10/site-packages (from pandas) (1.24.3)\n",
            "Requirement already satisfied: six>=1.5 in /home/codespace/.local/lib/python3.10/site-packages (from python-dateutil>=2.8.2->pandas) (1.16.0)\n"
          ]
        }
      ],
      "source": [
        "pip install pandas"
      ]
    },
    {
      "cell_type": "code",
      "execution_count": 3,
      "id": "46bca0fb",
      "metadata": {},
      "outputs": [],
      "source": [
        "import pandas as pd\n",
        "import numpy as np"
      ]
    },
    {
      "cell_type": "markdown",
      "id": "4ed9da01",
      "metadata": {
        "id": "4ed9da01"
      },
      "source": [
        "## 1. Introdução"
      ]
    },
    {
      "cell_type": "markdown",
      "id": "2a2a6862",
      "metadata": {
        "id": "2a2a6862"
      },
      "source": [
        "### 1.1 Apresentação da base de dados \"Latest_Data_Science_Salaries.csv\"\n"
      ]
    },
    {
      "cell_type": "markdown",
      "id": "e19d079e",
      "metadata": {},
      "source": [
        "##### O método info() é usado para obter informações sobre o DataFrame, como o número de entradas, o tipo de dados de cada coluna, o uso de memória, entre outros detalhes. "
      ]
    },
    {
      "cell_type": "code",
      "execution_count": null,
      "id": "cb4d74bf",
      "metadata": {
        "id": "cb4d74bf"
      },
      "outputs": [],
      "source": [
        "salaries_df = pd.read_csv(\"Latest_Data_Science_Salaries.csv\")\n",
        "salaries_df.info()"
      ]
    },
    {
      "cell_type": "markdown",
      "id": "98373ed0",
      "metadata": {},
      "source": [
        "##### O método describe() é usado para gerar estatísticas descritivas sobre o DataFrame, como contagem, média, desvio padrão, mínimo, quartis e máximo. Ele fornece um resumo estatístico das colunas numéricas do DataFrame.\n"
      ]
    },
    {
      "cell_type": "code",
      "execution_count": null,
      "id": "f0cf5e1a",
      "metadata": {
        "id": "f0cf5e1a"
      },
      "outputs": [],
      "source": [
        "salaries_df.describe()"
      ]
    },
    {
      "cell_type": "markdown",
      "id": "f0666eaf",
      "metadata": {},
      "source": [
        "##### O método head() é usado para exibir as primeiras linhas do DataFrame. Por padrão, ele exibe as 5 primeiras linhas."
      ]
    },
    {
      "cell_type": "code",
      "execution_count": null,
      "id": "d8be73b2",
      "metadata": {
        "id": "d8be73b2"
      },
      "outputs": [],
      "source": [
        "salaries_df.head()"
      ]
    },
    {
      "cell_type": "markdown",
      "id": "b5ac4ffa",
      "metadata": {
        "id": "b5ac4ffa"
      },
      "source": [
        "### Loc e iloc"
      ]
    },
    {
      "cell_type": "markdown",
      "id": "637c94c4",
      "metadata": {},
      "source": [
        "##### O '.loc' é útil quando você deseja realizar operações no DataFrame usando rótulos de linhas e colunas, em vez de índices numéricos. Ele oferece uma maneira mais intuitiva e explícita de acessar e modificar os dados."
      ]
    },
    {
      "cell_type": "code",
      "execution_count": null,
      "id": "34d76ce9",
      "metadata": {
        "id": "34d76ce9"
      },
      "outputs": [],
      "source": [
        "#Acessar uma única linha com base no rótulo da linha:\n",
        "salaries_df.loc[4]"
      ]
    },
    {
      "cell_type": "code",
      "execution_count": null,
      "id": "27b34998",
      "metadata": {
        "id": "27b34998"
      },
      "outputs": [],
      "source": [
        "#Acessar uma única coluna com base no rótulo da coluna:\n",
        "salaries_df.loc[:, \"Job Title\"]"
      ]
    },
    {
      "cell_type": "code",
      "execution_count": null,
      "id": "88e93ed4",
      "metadata": {
        "id": "88e93ed4"
      },
      "outputs": [],
      "source": [
        "#Acessar mais de uma linha com base no rótulo das linhas:\n",
        "salaries_df.loc[2:5]"
      ]
    },
    {
      "cell_type": "code",
      "execution_count": null,
      "id": "0ba6b227",
      "metadata": {},
      "outputs": [],
      "source": [
        "#Acessar mais de uma coluna com base no rótulo das colunas:\n",
        "salaries_df.loc[:,[\"Salary\", \"Experience Level\"]]"
      ]
    },
    {
      "cell_type": "code",
      "execution_count": null,
      "id": "afa60607",
      "metadata": {
        "id": "afa60607"
      },
      "outputs": [],
      "source": [
        "#Acessar mais de uma linha e coluna com base no rótulo das linhas e das colunas:\n",
        "salaries_df.loc[2:5, [\"Salary\", \"Experience Level\"]]"
      ]
    },
    {
      "cell_type": "markdown",
      "id": "d26c6302",
      "metadata": {},
      "source": [
        "##### O .iloc é um atributo do DataFrame do Pandas que permite acessar e modificar os valores com base em índices numéricos de linhas e colunas. Ao contrário do .loc, que usa rótulos de linhas e colunas, o .iloc é usado para indexação baseada em índices numéricos."
      ]
    },
    {
      "cell_type": "code",
      "execution_count": null,
      "id": "9cb2ae3f",
      "metadata": {
        "id": "9cb2ae3f"
      },
      "outputs": [],
      "source": [
        "#Acessar uma única linha com base no número da linha:\n",
        "salaries_df.iloc[0]"
      ]
    },
    {
      "cell_type": "code",
      "execution_count": null,
      "id": "0ad563fc",
      "metadata": {
        "id": "0ad563fc"
      },
      "outputs": [],
      "source": [
        "#Acessar linhas e colunas com base no alcance:\n",
        "salaries_df.iloc[range(2), range(1)]"
      ]
    },
    {
      "cell_type": "code",
      "execution_count": null,
      "id": "e4102919",
      "metadata": {
        "id": "e4102919"
      },
      "outputs": [],
      "source": [
        "#Acessar mais de uma linha com base no número das linhas:\n",
        "salaries_df.iloc[[9, 5, 6]]"
      ]
    },
    {
      "cell_type": "code",
      "execution_count": null,
      "id": "4703f20a",
      "metadata": {
        "id": "4703f20a"
      },
      "outputs": [],
      "source": [
        "##Acessar mais de uma linha e mais de uma coluna com base no número das linhas e das colunas:\n",
        "salaries_df.iloc[[5,6,7],[1,2,3]]"
      ]
    },
    {
      "cell_type": "markdown",
      "id": "dbc458ea",
      "metadata": {
        "id": "dbc458ea"
      },
      "source": [
        "### Retorno a apresentação das bases"
      ]
    },
    {
      "cell_type": "code",
      "execution_count": null,
      "id": "53a8c393",
      "metadata": {
        "id": "53a8c393"
      },
      "outputs": [],
      "source": [
        "#Unique é usado para retornar os valores únicos presentes, ou seja, todas as respostas possíveis.\n",
        "salaries_df['Experience Level'].unique()"
      ]
    },
    {
      "cell_type": "code",
      "execution_count": 7,
      "id": "744d252e",
      "metadata": {
        "id": "744d252e"
      },
      "outputs": [
        {
          "name": "stdout",
          "output_type": "stream",
          "text": [
            "1071 vs 11\n",
            "210000.0\n"
          ]
        }
      ],
      "source": [
        "print(len(salaries_df[\"Salary\"].unique()), \"vs\", len(salaries_df.columns))\n",
        "print(salaries_df[\"Salary\"].unique()[0])"
      ]
    },
    {
      "cell_type": "markdown",
      "id": "4e65c93c",
      "metadata": {
        "id": "4e65c93c"
      },
      "source": [
        "#### Set Theory\n"
      ]
    },
    {
      "cell_type": "code",
      "execution_count": 8,
      "id": "6579397b",
      "metadata": {
        "id": "6579397b"
      },
      "outputs": [
        {
          "data": {
            "text/plain": [
              "Index(['Job Title', 'Employment Type', 'Experience Level', 'Expertise Level',\n",
              "       'Salary', 'Salary Currency', 'Company Location', 'Salary in USD',\n",
              "       'Employee Residence', 'Company Size', 'Year'],\n",
              "      dtype='object')"
            ]
          },
          "execution_count": 8,
          "metadata": {},
          "output_type": "execute_result"
        }
      ],
      "source": [
        "# acessar colunas do dataframe salários\n",
        "salaries_df.columns"
      ]
    },
    {
      "cell_type": "code",
      "execution_count": 15,
      "id": "b04e2298",
      "metadata": {
        "id": "b04e2298"
      },
      "outputs": [
        {
          "data": {
            "text/plain": [
              "{'Entry', 'Executive', 'Mid', 'Senior'}"
            ]
          },
          "execution_count": 15,
          "metadata": {},
          "output_type": "execute_result"
        }
      ],
      "source": [
        "# código para encontrar os valores únicos presentes na coluna \"Experience Level\" do DataFrame \"salaries_df\" que não estão presentes na coluna \"Expertise Level\".\n",
        "set(salaries_df['Experience Level'].unique()).difference(salaries_df[\"Expertise Level\"].unique())"
      ]
    },
    {
      "cell_type": "code",
      "execution_count": 16,
      "id": "c2579e34",
      "metadata": {
        "id": "c2579e34"
      },
      "outputs": [
        {
          "data": {
            "text/plain": [
              "{'Director', 'Expert', 'Intermediate', 'Junior'}"
            ]
          },
          "execution_count": 16,
          "metadata": {},
          "output_type": "execute_result"
        }
      ],
      "source": [
        "# código usado para encontrar os valores únicos presentes na coluna \"Expertise Level\" do DataFrame \"salaries_df\" que não estão presentes na coluna \"Experience Level\".\n",
        "set(salaries_df[\"Expertise Level\"].unique()).difference(salaries_df['Experience Level'].unique())"
      ]
    },
    {
      "cell_type": "code",
      "execution_count": 23,
      "id": "479051f5",
      "metadata": {
        "id": "479051f5"
      },
      "outputs": [
        {
          "data": {
            "text/html": [
              "<div>\n",
              "<style scoped>\n",
              "    .dataframe tbody tr th:only-of-type {\n",
              "        vertical-align: middle;\n",
              "    }\n",
              "\n",
              "    .dataframe tbody tr th {\n",
              "        vertical-align: top;\n",
              "    }\n",
              "\n",
              "    .dataframe thead th {\n",
              "        text-align: right;\n",
              "    }\n",
              "</style>\n",
              "<table border=\"1\" class=\"dataframe\">\n",
              "  <thead>\n",
              "    <tr style=\"text-align: right;\">\n",
              "      <th></th>\n",
              "      <th>Company Location</th>\n",
              "      <th>Employee Residence</th>\n",
              "    </tr>\n",
              "  </thead>\n",
              "  <tbody>\n",
              "    <tr>\n",
              "      <th>0</th>\n",
              "      <td>United States</td>\n",
              "      <td>United States</td>\n",
              "    </tr>\n",
              "    <tr>\n",
              "      <th>8</th>\n",
              "      <td>United Kingdom</td>\n",
              "      <td>United Kingdom</td>\n",
              "    </tr>\n",
              "    <tr>\n",
              "      <th>12</th>\n",
              "      <td>Germany</td>\n",
              "      <td>Germany</td>\n",
              "    </tr>\n",
              "    <tr>\n",
              "      <th>13</th>\n",
              "      <td>Sweden</td>\n",
              "      <td>Germany</td>\n",
              "    </tr>\n",
              "    <tr>\n",
              "      <th>30</th>\n",
              "      <td>India</td>\n",
              "      <td>India</td>\n",
              "    </tr>\n",
              "    <tr>\n",
              "      <th>...</th>\n",
              "      <td>...</td>\n",
              "      <td>...</td>\n",
              "    </tr>\n",
              "    <tr>\n",
              "      <th>3265</th>\n",
              "      <td>France</td>\n",
              "      <td>United States</td>\n",
              "    </tr>\n",
              "    <tr>\n",
              "      <th>3270</th>\n",
              "      <td>Luxembourg</td>\n",
              "      <td>Luxembourg</td>\n",
              "    </tr>\n",
              "    <tr>\n",
              "      <th>3277</th>\n",
              "      <td>Luxembourg</td>\n",
              "      <td>France</td>\n",
              "    </tr>\n",
              "    <tr>\n",
              "      <th>3291</th>\n",
              "      <td>Israel</td>\n",
              "      <td>Singapore</td>\n",
              "    </tr>\n",
              "    <tr>\n",
              "      <th>3293</th>\n",
              "      <td>Malta</td>\n",
              "      <td>Malta</td>\n",
              "    </tr>\n",
              "  </tbody>\n",
              "</table>\n",
              "<p>141 rows × 2 columns</p>\n",
              "</div>"
            ],
            "text/plain": [
              "     Company Location Employee Residence\n",
              "0       United States      United States\n",
              "8      United Kingdom     United Kingdom\n",
              "12            Germany            Germany\n",
              "13             Sweden            Germany\n",
              "30              India              India\n",
              "...               ...                ...\n",
              "3265           France      United States\n",
              "3270       Luxembourg         Luxembourg\n",
              "3277       Luxembourg             France\n",
              "3291           Israel          Singapore\n",
              "3293            Malta              Malta\n",
              "\n",
              "[141 rows x 2 columns]"
            ]
          },
          "execution_count": 23,
          "metadata": {},
          "output_type": "execute_result"
        }
      ],
      "source": [
        "# este código é usado para filtrar o DataFrame \"salaries_df\" com base em uma condição e selecionar as colunas \"Company Location\" e \"Employee Residence\". \n",
        "salaries_df.loc[salaries_df[\"Company Location\"].isin(salaries_df['Employee Residence']), [\"Company Location\", \"Employee Residence\"]].drop_duplicates()"
      ]
    },
    {
      "cell_type": "code",
      "execution_count": 22,
      "id": "81517c7b",
      "metadata": {
        "id": "81517c7b"
      },
      "outputs": [
        {
          "data": {
            "text/plain": [
              "array(['United States', 'United Kingdom', 'Germany', 'Sweden', 'India',\n",
              "       nan, 'Spain', 'Estonia', 'France', 'Philippines', 'Canada',\n",
              "       'Australia', 'Turkey', 'Portugal', 'Brazil', 'Switzerland',\n",
              "       'Andorra', 'Netherlands', 'Ecuador', 'Mexico', 'Nigeria',\n",
              "       'Saudi Arabia', 'Colombia', 'Poland', 'Norway', 'Ghana',\n",
              "       'Argentina', 'Japan', 'Russian Federation', 'South Africa',\n",
              "       'Italy', 'Hong Kong', 'Central African Republic', 'Finland',\n",
              "       'Ukraine', 'Ireland', 'Israel', 'Singapore', 'Slovenia',\n",
              "       'Thailand', 'Croatia', 'Armenia', 'Bosnia and Herzegovina',\n",
              "       'Kenya', 'Latvia', 'Romania', 'Pakistan', 'Lithuania', 'Hungary',\n",
              "       'Austria', 'Puerto Rico', 'American Samoa', 'Greece', 'Denmark',\n",
              "       'Belgium', 'Indonesia', 'Egypt', 'United Arab Emirates',\n",
              "       'Malaysia', 'Honduras', 'Czechia', 'Algeria', 'Iraq', 'China',\n",
              "       'New Zealand', 'Chile', 'Luxembourg', 'Malta'], dtype=object)"
            ]
          },
          "execution_count": 22,
          "metadata": {},
          "output_type": "execute_result"
        }
      ],
      "source": [
        "# este código é usado para filtrar o DataFrame \"salaries_df\" com base em uma condição, selecionar a coluna \"Company Location\" para as linhas que atendem à condição e retornar os valores únicos dessa coluna.\n",
        "salaries_df.loc[salaries_df[\"Company Location\"].isin(salaries_df['Employee Residence']), \"Company Location\"].unique()"
      ]
    },
    {
      "cell_type": "markdown",
      "id": "b45dd4f6",
      "metadata": {
        "id": "b45dd4f6"
      },
      "source": [
        "## 2. Métodos Úteis"
      ]
    },
    {
      "cell_type": "markdown",
      "id": "5c4911fe",
      "metadata": {
        "id": "5c4911fe"
      },
      "source": [
        "### 2.1.1 Groupby"
      ]
    },
    {
      "cell_type": "markdown",
      "id": "ee7a408b",
      "metadata": {
        "id": "ee7a408b"
      },
      "source": [
        "### 2.1.2 Pivot Table"
      ]
    },
    {
      "cell_type": "markdown",
      "id": "0f2e7f37",
      "metadata": {
        "id": "0f2e7f37"
      },
      "source": [
        "### 2.1.3 Melt"
      ]
    },
    {
      "cell_type": "markdown",
      "id": "c6e47787",
      "metadata": {
        "id": "c6e47787"
      },
      "source": [
        "### 2.2.1 Diff"
      ]
    },
    {
      "cell_type": "markdown",
      "id": "507a57d3",
      "metadata": {},
      "source": [
        "##### A função diff serve para calcular a diferença entre os valores de uma linha ou coluna, de acordo com os parâmetros definidos previamente."
      ]
    },
    {
      "cell_type": "markdown",
      "id": "3a418187",
      "metadata": {},
      "source": [
        "Para compreender como funciona a função diff, criaremos um DataFrame com dados da receita de três unidades de uma loja ao longo do mês de junho."
      ]
    },
    {
      "cell_type": "code",
      "execution_count": null,
      "id": "85fa5b36",
      "metadata": {},
      "outputs": [],
      "source": [
        "#CRIANDO O DATAFRAME\n",
        "\n",
        "#Definir uma \"seed\" tem a função de garantir que os números sejam aleatórios, mas reproduzível, o que significa que executando o código várias vezes o gerador de números aleatórios não vai mudar. 42 é apenas uma escolha popular entre os usuários de python, mas qualquer outro número inteiro poderia ser escolhido\n",
        "np.random.seed(42)\n",
        "\n",
        "#Dados: Receita(v.a)~Normal(1000,100)\n",
        "receita = np.random.normal(loc=1000, scale=100, size=(30, 3))\n",
        "#Colunas:\n",
        "unidade = ('Centro', 'Butantã', 'Paulista')\n",
        "#Índices:\n",
        "data = [pd.date_range(start=pd.Timestamp('2023-06-01'), end=pd.Timestamp('2023-06-30'), freq='D')]\n",
        "\n",
        "df = pd.DataFrame(data=receita, columns=unidade, index=data)\n",
        "df = df.round()\n",
        "print(df)"
      ]
    },
    {
      "cell_type": "code",
      "execution_count": null,
      "id": "d9e18183",
      "metadata": {},
      "outputs": [],
      "source": [
        "df.diff()"
      ]
    },
    {
      "cell_type": "code",
      "execution_count": null,
      "id": "2234eda6",
      "metadata": {},
      "outputs": [],
      "source": [
        "df.diff().describe()"
      ]
    },
    {
      "cell_type": "code",
      "execution_count": null,
      "id": "c29782fb",
      "metadata": {},
      "outputs": [],
      "source": [
        "#diff calculará diferença entre receita atual e receita de dois dias atrás\n",
        "df.diff(periods=2)"
      ]
    },
    {
      "cell_type": "code",
      "execution_count": null,
      "id": "76fe5f13",
      "metadata": {},
      "outputs": [],
      "source": [
        "## diff calculará diferença por coluna, ou seja, por unidade\n",
        "df.diff(periods=1,axis=1).dropna(axis=1)"
      ]
    },
    {
      "cell_type": "markdown",
      "id": "2d27562a",
      "metadata": {
        "id": "2d27562a"
      },
      "source": [
        "### 2.2.2 Pct_change"
      ]
    },
    {
      "cell_type": "markdown",
      "id": "24dae0d0",
      "metadata": {},
      "source": [
        "##### A função pct_change serve para calcular a **diferença percentual** entre os valores de uma linha ou coluna, de acordo com os parâmetros definidos previamente."
      ]
    },
    {
      "cell_type": "markdown",
      "id": "027d4f1c",
      "metadata": {},
      "source": [
        "A partir do mesmo DataFrame, vamos agora analisar como funciona a função *pct_change*:"
      ]
    },
    {
      "cell_type": "code",
      "execution_count": null,
      "id": "6fa65fad",
      "metadata": {},
      "outputs": [],
      "source": [
        "df.pct_change().round(2)"
      ]
    },
    {
      "cell_type": "code",
      "execution_count": null,
      "id": "88ecb053",
      "metadata": {},
      "outputs": [],
      "source": [
        "df.pct_change().describe().round(2)"
      ]
    },
    {
      "cell_type": "code",
      "execution_count": null,
      "id": "294a9745",
      "metadata": {},
      "outputs": [],
      "source": [
        "df.pct_change(periods=1, axis=1).dropna(axis=1).round(2)"
      ]
    },
    {
      "cell_type": "markdown",
      "id": "baee0d32",
      "metadata": {
        "id": "baee0d32"
      },
      "source": [
        "## 3. Aplicações Úteis"
      ]
    },
    {
      "cell_type": "markdown",
      "id": "4251cb57",
      "metadata": {
        "id": "4251cb57"
      },
      "source": [
        "### 3.1 Cálculo de Retorno"
      ]
    },
    {
      "cell_type": "markdown",
      "id": "0a26a577",
      "metadata": {
        "id": "0a26a577"
      },
      "source": [
        "### 3.2 Cálculo Para Cada Fundo"
      ]
    },
    {
      "cell_type": "markdown",
      "id": "f092bb74",
      "metadata": {
        "id": "f092bb74"
      },
      "source": [
        "### 3.3 Juntando os Resultados"
      ]
    },
    {
      "cell_type": "markdown",
      "id": "f6e02ea2",
      "metadata": {
        "id": "f6e02ea2"
      },
      "source": [
        "![](joins.png)"
      ]
    }
  ],
  "metadata": {
    "colab": {
      "collapsed_sections": [],
      "provenance": []
    },
    "kernelspec": {
      "display_name": "Python 3 (ipykernel)",
      "language": "python",
      "name": "python3"
    },
    "language_info": {
      "codemirror_mode": {
        "name": "ipython",
        "version": 3
      },
      "file_extension": ".py",
      "mimetype": "text/x-python",
      "name": "python",
      "nbconvert_exporter": "python",
      "pygments_lexer": "ipython3",
      "version": "3.11.3"
    }
  },
  "nbformat": 4,
  "nbformat_minor": 5
}
