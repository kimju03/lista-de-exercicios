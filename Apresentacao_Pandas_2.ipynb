{
  "cells": [
    {
      "cell_type": "markdown",
      "id": "47fe342e",
      "metadata": {
        "id": "47fe342e"
      },
      "source": [
        "# <font color=lightblue>Pandas II - Aplicações na Vida Real </font>"
      ]
    },
    {
      "cell_type": "markdown",
      "id": "m1q9KlHXJiSL",
      "metadata": {
        "id": "m1q9KlHXJiSL"
      },
      "source": [
        "# <font color=lightblue>Sumário</font>"
      ]
    },
    {
      "cell_type": "markdown",
      "id": "nQPaI0FWCGw5",
      "metadata": {
        "id": "nQPaI0FWCGw5"
      },
      "source": [
        "- ### <font color=lightpink>1. Introdução </font>\n",
        "        \n",
        "        1.1 Apresentação das bases de dados\n",
        "        1.2 Loc e iloc\n",
        "\n",
        "- ### <font color=lightpink>2. Métodos Úteis </font>\n",
        "        \n",
        "        2.1 Agrupamento\n",
        "        2.1.1 Groupby\n",
        "        2.1.2 Pivot Table\n",
        "        2.1.3 Melt\n",
        "        \n",
        "        2.2.1 Diff\n",
        "        2.2.2 Pct_change\n",
        "\n",
        "- ### <font color=lightpink>3. Aplicações Úteis </font>\n",
        "\n",
        "        3.1 Cálculo de retorno\n",
        "        3.2 Melhores retornos para cada fundos\n",
        "        3.3 Juntando os Resultados"
      ]
    },
    {
      "cell_type": "code",
      "execution_count": 1,
      "id": "15b605b0",
      "metadata": {
        "id": "15b605b0"
      },
      "outputs": [
        {
          "name": "stdout",
          "output_type": "stream",
          "text": [
            "Requirement already satisfied: pandas in /home/codespace/.local/lib/python3.10/site-packages (2.0.2)\n",
            "Requirement already satisfied: python-dateutil>=2.8.2 in /home/codespace/.local/lib/python3.10/site-packages (from pandas) (2.8.2)\n",
            "Requirement already satisfied: pytz>=2020.1 in /home/codespace/.local/lib/python3.10/site-packages (from pandas) (2023.3)\n",
            "Requirement already satisfied: tzdata>=2022.1 in /home/codespace/.local/lib/python3.10/site-packages (from pandas) (2023.3)\n",
            "Requirement already satisfied: numpy>=1.21.0 in /home/codespace/.local/lib/python3.10/site-packages (from pandas) (1.24.3)\n",
            "Requirement already satisfied: six>=1.5 in /home/codespace/.local/lib/python3.10/site-packages (from python-dateutil>=2.8.2->pandas) (1.16.0)\n"
          ]
        }
      ],
      "source": [
        "pip install pandas"
      ]
    },
    {
      "cell_type": "code",
      "execution_count": 3,
      "id": "46bca0fb",
      "metadata": {},
      "outputs": [],
      "source": [
        "import pandas as pd\n",
        "import numpy as np"
      ]
    },
    {
      "cell_type": "markdown",
      "id": "4ed9da01",
      "metadata": {
        "id": "4ed9da01"
      },
      "source": [
        "## 1. Introdução"
      ]
    },
    {
      "cell_type": "markdown",
      "id": "2a2a6862",
      "metadata": {
        "id": "2a2a6862"
      },
      "source": [
        "### 1.1 Apresentação da base de dados \"Latest_Data_Science_Salaries.csv\"\n"
      ]
    },
    {
      "cell_type": "markdown",
      "id": "e19d079e",
      "metadata": {},
      "source": [
        "##### O método info() é usado para obter informações sobre o DataFrame, como o número de entradas, o tipo de dados de cada coluna, o uso de memória, entre outros detalhes. "
      ]
    },
    {
      "cell_type": "code",
      "execution_count": 4,
      "id": "cb4d74bf",
      "metadata": {
        "id": "cb4d74bf"
      },
      "outputs": [
        {
          "name": "stdout",
          "output_type": "stream",
          "text": [
            "<class 'pandas.core.frame.DataFrame'>\n",
            "RangeIndex: 3300 entries, 0 to 3299\n",
            "Data columns (total 11 columns):\n",
            " #   Column              Non-Null Count  Dtype \n",
            "---  ------              --------------  ----- \n",
            " 0   Job Title           3300 non-null   object\n",
            " 1   Employment Type     3300 non-null   object\n",
            " 2   Experience Level    3300 non-null   object\n",
            " 3   Expertise Level     3300 non-null   object\n",
            " 4   Salary              3300 non-null   int64 \n",
            " 5   Salary Currency     3300 non-null   object\n",
            " 6   Company Location    3300 non-null   object\n",
            " 7   Salary in USD       3300 non-null   int64 \n",
            " 8   Employee Residence  3300 non-null   object\n",
            " 9   Company Size        3300 non-null   object\n",
            " 10  Year                3300 non-null   int64 \n",
            "dtypes: int64(3), object(8)\n",
            "memory usage: 283.7+ KB\n"
          ]
        }
      ],
      "source": [
        "salaries_df = pd.read_csv(\"Latest_Data_Science_Salaries.csv\")\n",
        "salaries_df.info()"
      ]
    },
    {
      "cell_type": "markdown",
      "id": "98373ed0",
      "metadata": {},
      "source": [
        "##### O método describe() é usado para gerar estatísticas descritivas sobre o DataFrame, como contagem, média, desvio padrão, mínimo, quartis e máximo. Ele fornece um resumo estatístico das colunas numéricas do DataFrame.\n"
      ]
    },
    {
      "cell_type": "code",
      "execution_count": null,
      "id": "f0cf5e1a",
      "metadata": {
        "id": "f0cf5e1a"
      },
      "outputs": [],
      "source": [
        "salaries_df.describe()"
      ]
    },
    {
      "cell_type": "markdown",
      "id": "f0666eaf",
      "metadata": {},
      "source": [
        "##### O método head() é usado para exibir as primeiras linhas do DataFrame. Por padrão, ele exibe as 5 primeiras linhas."
      ]
    },
    {
      "cell_type": "code",
      "execution_count": null,
      "id": "d8be73b2",
      "metadata": {
        "id": "d8be73b2"
      },
      "outputs": [],
      "source": [
        "salaries_df.head()"
      ]
    },
    {
      "cell_type": "markdown",
      "id": "b5ac4ffa",
      "metadata": {
        "id": "b5ac4ffa"
      },
      "source": [
        "### Loc e iloc"
      ]
    },
    {
      "cell_type": "markdown",
      "id": "637c94c4",
      "metadata": {},
      "source": [
        "##### O '.loc' é útil quando você deseja realizar operações no DataFrame usando rótulos de linhas e colunas, em vez de índices numéricos. Ele oferece uma maneira mais intuitiva e explícita de acessar e modificar os dados."
      ]
    },
    {
      "cell_type": "code",
      "execution_count": null,
      "id": "34d76ce9",
      "metadata": {
        "id": "34d76ce9"
      },
      "outputs": [],
      "source": [
        "#Acessar uma única linha com base no rótulo da linha:\n",
        "salaries_df.loc[4]"
      ]
    },
    {
      "cell_type": "code",
      "execution_count": null,
      "id": "27b34998",
      "metadata": {
        "id": "27b34998"
      },
      "outputs": [],
      "source": [
        "#Acessar uma única coluna com base no rótulo da coluna:\n",
        "salaries_df.loc[:, \"Job Title\"]"
      ]
    },
    {
      "cell_type": "code",
      "execution_count": null,
      "id": "88e93ed4",
      "metadata": {
        "id": "88e93ed4"
      },
      "outputs": [],
      "source": [
        "#Acessar mais de uma linha com base no rótulo das linhas:\n",
        "salaries_df.loc[2:5]"
      ]
    },
    {
      "cell_type": "code",
      "execution_count": null,
      "id": "0ba6b227",
      "metadata": {},
      "outputs": [],
      "source": [
        "#Acessar mais de uma coluna com base no rótulo das colunas:\n",
        "salaries_df.loc[:,[\"Salary\", \"Experience Level\"]]"
      ]
    },
    {
      "cell_type": "code",
      "execution_count": null,
      "id": "afa60607",
      "metadata": {
        "id": "afa60607"
      },
      "outputs": [],
      "source": [
        "#Acessar mais de uma linha e coluna com base no rótulo das linhas e das colunas:\n",
        "salaries_df.loc[2:5, [\"Salary\", \"Experience Level\"]]"
      ]
    },
    {
      "cell_type": "markdown",
      "id": "d26c6302",
      "metadata": {},
      "source": [
        "##### O .iloc é um atributo do DataFrame do Pandas que permite acessar e modificar os valores com base em índices numéricos de linhas e colunas. Ao contrário do .loc, que usa rótulos de linhas e colunas, o .iloc é usado para indexação baseada em índices numéricos."
      ]
    },
    {
      "cell_type": "code",
      "execution_count": null,
      "id": "9cb2ae3f",
      "metadata": {
        "id": "9cb2ae3f"
      },
      "outputs": [],
      "source": [
        "#Acessar uma única linha com base no número da linha:\n",
        "salaries_df.iloc[0]"
      ]
    },
    {
      "cell_type": "code",
      "execution_count": null,
      "id": "0ad563fc",
      "metadata": {
        "id": "0ad563fc"
      },
      "outputs": [],
      "source": [
        "#Acessar linhas e colunas com base no alcance:\n",
        "salaries_df.iloc[range(2), range(1)]"
      ]
    },
    {
      "cell_type": "code",
      "execution_count": null,
      "id": "e4102919",
      "metadata": {
        "id": "e4102919"
      },
      "outputs": [],
      "source": [
        "#Acessar mais de uma linha com base no número das linhas:\n",
        "salaries_df.iloc[[9, 5, 6]]"
      ]
    },
    {
      "cell_type": "code",
      "execution_count": null,
      "id": "4703f20a",
      "metadata": {
        "id": "4703f20a"
      },
      "outputs": [],
      "source": [
        "##Acessar mais de uma linha e mais de uma coluna com base no número das linhas e das colunas:\n",
        "salaries_df.iloc[[5,6,7],[1,2,3]]"
      ]
    },
    {
      "cell_type": "markdown",
      "id": "dbc458ea",
      "metadata": {
        "id": "dbc458ea"
      },
      "source": [
        "### Retorno a apresentação das bases"
      ]
    },
    {
      "cell_type": "code",
      "execution_count": null,
      "id": "53a8c393",
      "metadata": {
        "id": "53a8c393"
      },
      "outputs": [],
      "source": [
        "#Unique é usado para retornar os valores únicos presentes, ou seja, todas as respostas possíveis.\n",
        "salaries_df['Experience Level'].unique()"
      ]
    },
    {
      "cell_type": "code",
      "execution_count": 7,
      "id": "744d252e",
      "metadata": {
        "id": "744d252e"
      },
      "outputs": [
        {
          "name": "stdout",
          "output_type": "stream",
          "text": [
            "1071 vs 11\n",
            "210000.0\n"
          ]
        }
      ],
      "source": [
        "print(len(salaries_df[\"Salary\"].unique()), \"vs\", len(salaries_df.columns))\n",
        "print(salaries_df[\"Salary\"].unique()[0])"
      ]
    },
    {
      "cell_type": "markdown",
      "id": "4e65c93c",
      "metadata": {
        "id": "4e65c93c"
      },
      "source": [
        "#### Set Theory\n"
      ]
    },
    {
      "cell_type": "code",
      "execution_count": 8,
      "id": "6579397b",
      "metadata": {
        "id": "6579397b"
      },
      "outputs": [
        {
          "data": {
            "text/plain": [
              "Index(['Job Title', 'Employment Type', 'Experience Level', 'Expertise Level',\n",
              "       'Salary', 'Salary Currency', 'Company Location', 'Salary in USD',\n",
              "       'Employee Residence', 'Company Size', 'Year'],\n",
              "      dtype='object')"
            ]
          },
          "execution_count": 8,
          "metadata": {},
          "output_type": "execute_result"
        }
      ],
      "source": [
        "# acessar colunas do dataframe salários\n",
        "salaries_df.columns"
      ]
    },
    {
      "cell_type": "code",
      "execution_count": 15,
      "id": "b04e2298",
      "metadata": {
        "id": "b04e2298"
      },
      "outputs": [
        {
          "data": {
            "text/plain": [
              "{'Entry', 'Executive', 'Mid', 'Senior'}"
            ]
          },
          "execution_count": 15,
          "metadata": {},
          "output_type": "execute_result"
        }
      ],
      "source": [
        "# código para encontrar os valores únicos presentes na coluna \"Experience Level\" do DataFrame \"salaries_df\" que não estão presentes na coluna \"Expertise Level\".\n",
        "set(salaries_df['Experience Level'].unique()).difference(salaries_df[\"Expertise Level\"].unique())"
      ]
    },
    {
      "cell_type": "code",
      "execution_count": 16,
      "id": "c2579e34",
      "metadata": {
        "id": "c2579e34"
      },
      "outputs": [
        {
          "data": {
            "text/plain": [
              "{'Director', 'Expert', 'Intermediate', 'Junior'}"
            ]
          },
          "execution_count": 16,
          "metadata": {},
          "output_type": "execute_result"
        }
      ],
      "source": [
        "# código usado para encontrar os valores únicos presentes na coluna \"Expertise Level\" do DataFrame \"salaries_df\" que não estão presentes na coluna \"Experience Level\".\n",
        "set(salaries_df[\"Expertise Level\"].unique()).difference(salaries_df['Experience Level'].unique())"
      ]
    },
    {
      "cell_type": "code",
      "execution_count": 23,
      "id": "479051f5",
      "metadata": {
        "id": "479051f5"
      },
      "outputs": [
        {
          "data": {
            "text/html": [
              "<div>\n",
              "<style scoped>\n",
              "    .dataframe tbody tr th:only-of-type {\n",
              "        vertical-align: middle;\n",
              "    }\n",
              "\n",
              "    .dataframe tbody tr th {\n",
              "        vertical-align: top;\n",
              "    }\n",
              "\n",
              "    .dataframe thead th {\n",
              "        text-align: right;\n",
              "    }\n",
              "</style>\n",
              "<table border=\"1\" class=\"dataframe\">\n",
              "  <thead>\n",
              "    <tr style=\"text-align: right;\">\n",
              "      <th></th>\n",
              "      <th>Company Location</th>\n",
              "      <th>Employee Residence</th>\n",
              "    </tr>\n",
              "  </thead>\n",
              "  <tbody>\n",
              "    <tr>\n",
              "      <th>0</th>\n",
              "      <td>United States</td>\n",
              "      <td>United States</td>\n",
              "    </tr>\n",
              "    <tr>\n",
              "      <th>8</th>\n",
              "      <td>United Kingdom</td>\n",
              "      <td>United Kingdom</td>\n",
              "    </tr>\n",
              "    <tr>\n",
              "      <th>12</th>\n",
              "      <td>Germany</td>\n",
              "      <td>Germany</td>\n",
              "    </tr>\n",
              "    <tr>\n",
              "      <th>13</th>\n",
              "      <td>Sweden</td>\n",
              "      <td>Germany</td>\n",
              "    </tr>\n",
              "    <tr>\n",
              "      <th>30</th>\n",
              "      <td>India</td>\n",
              "      <td>India</td>\n",
              "    </tr>\n",
              "    <tr>\n",
              "      <th>...</th>\n",
              "      <td>...</td>\n",
              "      <td>...</td>\n",
              "    </tr>\n",
              "    <tr>\n",
              "      <th>3265</th>\n",
              "      <td>France</td>\n",
              "      <td>United States</td>\n",
              "    </tr>\n",
              "    <tr>\n",
              "      <th>3270</th>\n",
              "      <td>Luxembourg</td>\n",
              "      <td>Luxembourg</td>\n",
              "    </tr>\n",
              "    <tr>\n",
              "      <th>3277</th>\n",
              "      <td>Luxembourg</td>\n",
              "      <td>France</td>\n",
              "    </tr>\n",
              "    <tr>\n",
              "      <th>3291</th>\n",
              "      <td>Israel</td>\n",
              "      <td>Singapore</td>\n",
              "    </tr>\n",
              "    <tr>\n",
              "      <th>3293</th>\n",
              "      <td>Malta</td>\n",
              "      <td>Malta</td>\n",
              "    </tr>\n",
              "  </tbody>\n",
              "</table>\n",
              "<p>141 rows × 2 columns</p>\n",
              "</div>"
            ],
            "text/plain": [
              "     Company Location Employee Residence\n",
              "0       United States      United States\n",
              "8      United Kingdom     United Kingdom\n",
              "12            Germany            Germany\n",
              "13             Sweden            Germany\n",
              "30              India              India\n",
              "...               ...                ...\n",
              "3265           France      United States\n",
              "3270       Luxembourg         Luxembourg\n",
              "3277       Luxembourg             France\n",
              "3291           Israel          Singapore\n",
              "3293            Malta              Malta\n",
              "\n",
              "[141 rows x 2 columns]"
            ]
          },
          "execution_count": 23,
          "metadata": {},
          "output_type": "execute_result"
        }
      ],
      "source": [
        "# este código é usado para filtrar o DataFrame \"salaries_df\" com base em uma condição e selecionar as colunas \"Company Location\" e \"Employee Residence\". \n",
        "salaries_df.loc[salaries_df[\"Company Location\"].isin(salaries_df['Employee Residence']), [\"Company Location\", \"Employee Residence\"]].drop_duplicates()"
      ]
    },
    {
      "cell_type": "code",
      "execution_count": 22,
      "id": "81517c7b",
      "metadata": {
        "id": "81517c7b"
      },
      "outputs": [
        {
          "data": {
            "text/plain": [
              "array(['United States', 'United Kingdom', 'Germany', 'Sweden', 'India',\n",
              "       nan, 'Spain', 'Estonia', 'France', 'Philippines', 'Canada',\n",
              "       'Australia', 'Turkey', 'Portugal', 'Brazil', 'Switzerland',\n",
              "       'Andorra', 'Netherlands', 'Ecuador', 'Mexico', 'Nigeria',\n",
              "       'Saudi Arabia', 'Colombia', 'Poland', 'Norway', 'Ghana',\n",
              "       'Argentina', 'Japan', 'Russian Federation', 'South Africa',\n",
              "       'Italy', 'Hong Kong', 'Central African Republic', 'Finland',\n",
              "       'Ukraine', 'Ireland', 'Israel', 'Singapore', 'Slovenia',\n",
              "       'Thailand', 'Croatia', 'Armenia', 'Bosnia and Herzegovina',\n",
              "       'Kenya', 'Latvia', 'Romania', 'Pakistan', 'Lithuania', 'Hungary',\n",
              "       'Austria', 'Puerto Rico', 'American Samoa', 'Greece', 'Denmark',\n",
              "       'Belgium', 'Indonesia', 'Egypt', 'United Arab Emirates',\n",
              "       'Malaysia', 'Honduras', 'Czechia', 'Algeria', 'Iraq', 'China',\n",
              "       'New Zealand', 'Chile', 'Luxembourg', 'Malta'], dtype=object)"
            ]
          },
          "execution_count": 22,
          "metadata": {},
          "output_type": "execute_result"
        }
      ],
      "source": [
        "# este código é usado para filtrar o DataFrame \"salaries_df\" com base em uma condição, selecionar a coluna \"Company Location\" para as linhas que atendem à condição e retornar os valores únicos dessa coluna.\n",
        "salaries_df.loc[salaries_df[\"Company Location\"].isin(salaries_df['Employee Residence']), \"Company Location\"].unique()"
      ]
    },
    {
      "cell_type": "markdown",
      "id": "b45dd4f6",
      "metadata": {
        "id": "b45dd4f6"
      },
      "source": [
        "## 2. Métodos Úteis para analise de dados\n"
      ]
    },
    {
      "cell_type": "markdown",
      "id": "5c4911fe",
      "metadata": {
        "id": "5c4911fe"
      },
      "source": [
        "### 2.1.1 Groupby"
      ]
    },
    {
      "cell_type": "markdown",
      "id": "8de35e99",
      "metadata": {},
      "source": [
        "Groupby = \"agrupar por\"\n",
        "Ao agrupar uma coluna pelas suas catorias, permite realizar operações agregadas, como soma ou contagem, aos grupos resultantes.\n",
        "\n",
        "As perguntas :\"Sera que o salario muda dependendo do emprego da pessoa?\" \n",
        "              \"Sera que o salario varia de acordo com o porte da empresa?\"\n",
        "              \"Sera que o salario tem alguma relacao com a origem das empresas?\""
      ]
    },
    {
      "cell_type": "code",
      "execution_count": 5,
      "id": "24f8eebf",
      "metadata": {},
      "outputs": [
        {
          "data": {
            "text/html": [
              "<div>\n",
              "<style scoped>\n",
              "    .dataframe tbody tr th:only-of-type {\n",
              "        vertical-align: middle;\n",
              "    }\n",
              "\n",
              "    .dataframe tbody tr th {\n",
              "        vertical-align: top;\n",
              "    }\n",
              "\n",
              "    .dataframe thead th {\n",
              "        text-align: right;\n",
              "    }\n",
              "</style>\n",
              "<table border=\"1\" class=\"dataframe\">\n",
              "  <thead>\n",
              "    <tr style=\"text-align: right;\">\n",
              "      <th></th>\n",
              "      <th>Job Title</th>\n",
              "      <th>Salary</th>\n",
              "    </tr>\n",
              "  </thead>\n",
              "  <tbody>\n",
              "    <tr>\n",
              "      <th>0</th>\n",
              "      <td>Data Engineer</td>\n",
              "      <td>210000</td>\n",
              "    </tr>\n",
              "    <tr>\n",
              "      <th>1</th>\n",
              "      <td>Data Engineer</td>\n",
              "      <td>165000</td>\n",
              "    </tr>\n",
              "    <tr>\n",
              "      <th>2</th>\n",
              "      <td>Data Engineer</td>\n",
              "      <td>185900</td>\n",
              "    </tr>\n",
              "    <tr>\n",
              "      <th>3</th>\n",
              "      <td>Data Engineer</td>\n",
              "      <td>129300</td>\n",
              "    </tr>\n",
              "    <tr>\n",
              "      <th>4</th>\n",
              "      <td>Data Scientist</td>\n",
              "      <td>140000</td>\n",
              "    </tr>\n",
              "    <tr>\n",
              "      <th>...</th>\n",
              "      <td>...</td>\n",
              "      <td>...</td>\n",
              "    </tr>\n",
              "    <tr>\n",
              "      <th>3295</th>\n",
              "      <td>Data Scientist</td>\n",
              "      <td>412000</td>\n",
              "    </tr>\n",
              "    <tr>\n",
              "      <th>3296</th>\n",
              "      <td>Principal Data Scientist</td>\n",
              "      <td>151000</td>\n",
              "    </tr>\n",
              "    <tr>\n",
              "      <th>3297</th>\n",
              "      <td>Data Scientist</td>\n",
              "      <td>105000</td>\n",
              "    </tr>\n",
              "    <tr>\n",
              "      <th>3298</th>\n",
              "      <td>Business Data Analyst</td>\n",
              "      <td>100000</td>\n",
              "    </tr>\n",
              "    <tr>\n",
              "      <th>3299</th>\n",
              "      <td>Data Science Manager</td>\n",
              "      <td>7000000</td>\n",
              "    </tr>\n",
              "  </tbody>\n",
              "</table>\n",
              "<p>3300 rows × 2 columns</p>\n",
              "</div>"
            ],
            "text/plain": [
              "                     Job Title   Salary\n",
              "0                Data Engineer   210000\n",
              "1                Data Engineer   165000\n",
              "2                Data Engineer   185900\n",
              "3                Data Engineer   129300\n",
              "4               Data Scientist   140000\n",
              "...                        ...      ...\n",
              "3295            Data Scientist   412000\n",
              "3296  Principal Data Scientist   151000\n",
              "3297            Data Scientist   105000\n",
              "3298     Business Data Analyst   100000\n",
              "3299      Data Science Manager  7000000\n",
              "\n",
              "[3300 rows x 2 columns]"
            ]
          },
          "execution_count": 5,
          "metadata": {},
          "output_type": "execute_result"
        }
      ],
      "source": [
        "#respondendo a primeira pergunta\n",
        "df1=salaries_df[['Job Title','Salary']]\n",
        "df1"
      ]
    },
    {
      "cell_type": "code",
      "execution_count": 6,
      "id": "6c95955a",
      "metadata": {},
      "outputs": [],
      "source": [
        "emprego_salaries= df1.groupby('Job Title')"
      ]
    },
    {
      "cell_type": "code",
      "execution_count": 7,
      "id": "31a00fcb",
      "metadata": {},
      "outputs": [
        {
          "data": {
            "text/html": [
              "<div>\n",
              "<style scoped>\n",
              "    .dataframe tbody tr th:only-of-type {\n",
              "        vertical-align: middle;\n",
              "    }\n",
              "\n",
              "    .dataframe tbody tr th {\n",
              "        vertical-align: top;\n",
              "    }\n",
              "\n",
              "    .dataframe thead th {\n",
              "        text-align: right;\n",
              "    }\n",
              "</style>\n",
              "<table border=\"1\" class=\"dataframe\">\n",
              "  <thead>\n",
              "    <tr style=\"text-align: right;\">\n",
              "      <th></th>\n",
              "      <th>Salary</th>\n",
              "    </tr>\n",
              "    <tr>\n",
              "      <th>Job Title</th>\n",
              "      <th></th>\n",
              "    </tr>\n",
              "  </thead>\n",
              "  <tbody>\n",
              "    <tr>\n",
              "      <th>AI Architect</th>\n",
              "      <td>233500.000000</td>\n",
              "    </tr>\n",
              "    <tr>\n",
              "      <th>AI Developer</th>\n",
              "      <td>133666.666667</td>\n",
              "    </tr>\n",
              "    <tr>\n",
              "      <th>AI Programmer</th>\n",
              "      <td>62500.000000</td>\n",
              "    </tr>\n",
              "    <tr>\n",
              "      <th>AI Scientist</th>\n",
              "      <td>263444.444444</td>\n",
              "    </tr>\n",
              "    <tr>\n",
              "      <th>AWS Data Architect</th>\n",
              "      <td>258000.000000</td>\n",
              "    </tr>\n",
              "    <tr>\n",
              "      <th>...</th>\n",
              "      <td>...</td>\n",
              "    </tr>\n",
              "    <tr>\n",
              "      <th>Sales Data Analyst</th>\n",
              "      <td>60000.000000</td>\n",
              "    </tr>\n",
              "    <tr>\n",
              "      <th>Software Data Engineer</th>\n",
              "      <td>120000.000000</td>\n",
              "    </tr>\n",
              "    <tr>\n",
              "      <th>Staff Data Analyst</th>\n",
              "      <td>97499.000000</td>\n",
              "    </tr>\n",
              "    <tr>\n",
              "      <th>Staff Data Scientist</th>\n",
              "      <td>134500.000000</td>\n",
              "    </tr>\n",
              "    <tr>\n",
              "      <th>Staff Machine Learning Engineer</th>\n",
              "      <td>185000.000000</td>\n",
              "    </tr>\n",
              "  </tbody>\n",
              "</table>\n",
              "<p>111 rows × 1 columns</p>\n",
              "</div>"
            ],
            "text/plain": [
              "                                        Salary\n",
              "Job Title                                     \n",
              "AI Architect                     233500.000000\n",
              "AI Developer                     133666.666667\n",
              "AI Programmer                     62500.000000\n",
              "AI Scientist                     263444.444444\n",
              "AWS Data Architect               258000.000000\n",
              "...                                        ...\n",
              "Sales Data Analyst                60000.000000\n",
              "Software Data Engineer           120000.000000\n",
              "Staff Data Analyst                97499.000000\n",
              "Staff Data Scientist             134500.000000\n",
              "Staff Machine Learning Engineer  185000.000000\n",
              "\n",
              "[111 rows x 1 columns]"
            ]
          },
          "execution_count": 7,
          "metadata": {},
          "output_type": "execute_result"
        }
      ],
      "source": [
        "emprego_salaries.mean()"
      ]
    },
    {
      "cell_type": "code",
      "execution_count": 8,
      "id": "b2aa99bb",
      "metadata": {},
      "outputs": [
        {
          "data": {
            "text/html": [
              "<div>\n",
              "<style scoped>\n",
              "    .dataframe tbody tr th:only-of-type {\n",
              "        vertical-align: middle;\n",
              "    }\n",
              "\n",
              "    .dataframe tbody tr th {\n",
              "        vertical-align: top;\n",
              "    }\n",
              "\n",
              "    .dataframe thead tr th {\n",
              "        text-align: left;\n",
              "    }\n",
              "\n",
              "    .dataframe thead tr:last-of-type th {\n",
              "        text-align: right;\n",
              "    }\n",
              "</style>\n",
              "<table border=\"1\" class=\"dataframe\">\n",
              "  <thead>\n",
              "    <tr>\n",
              "      <th></th>\n",
              "      <th colspan=\"8\" halign=\"left\">Salary</th>\n",
              "    </tr>\n",
              "    <tr>\n",
              "      <th></th>\n",
              "      <th>count</th>\n",
              "      <th>mean</th>\n",
              "      <th>std</th>\n",
              "      <th>min</th>\n",
              "      <th>25%</th>\n",
              "      <th>50%</th>\n",
              "      <th>75%</th>\n",
              "      <th>max</th>\n",
              "    </tr>\n",
              "    <tr>\n",
              "      <th>Company Size</th>\n",
              "      <th></th>\n",
              "      <th></th>\n",
              "      <th></th>\n",
              "      <th></th>\n",
              "      <th></th>\n",
              "      <th></th>\n",
              "      <th></th>\n",
              "      <th></th>\n",
              "    </tr>\n",
              "  </thead>\n",
              "  <tbody>\n",
              "    <tr>\n",
              "      <th>Large</th>\n",
              "      <td>442.0</td>\n",
              "      <td>459661.271493</td>\n",
              "      <td>1.827753e+06</td>\n",
              "      <td>15000.0</td>\n",
              "      <td>76190.0</td>\n",
              "      <td>121000.0</td>\n",
              "      <td>195400.0</td>\n",
              "      <td>30400000.0</td>\n",
              "    </tr>\n",
              "    <tr>\n",
              "      <th>Medium</th>\n",
              "      <td>2707.0</td>\n",
              "      <td>158990.875877</td>\n",
              "      <td>1.877487e+05</td>\n",
              "      <td>15000.0</td>\n",
              "      <td>100000.0</td>\n",
              "      <td>144100.0</td>\n",
              "      <td>191300.0</td>\n",
              "      <td>6600000.0</td>\n",
              "    </tr>\n",
              "    <tr>\n",
              "      <th>Small</th>\n",
              "      <td>151.0</td>\n",
              "      <td>276999.874172</td>\n",
              "      <td>9.808789e+05</td>\n",
              "      <td>14000.0</td>\n",
              "      <td>50000.0</td>\n",
              "      <td>80000.0</td>\n",
              "      <td>125202.0</td>\n",
              "      <td>8500000.0</td>\n",
              "    </tr>\n",
              "  </tbody>\n",
              "</table>\n",
              "</div>"
            ],
            "text/plain": [
              "              Salary                                                  \\\n",
              "               count           mean           std      min       25%   \n",
              "Company Size                                                           \n",
              "Large          442.0  459661.271493  1.827753e+06  15000.0   76190.0   \n",
              "Medium        2707.0  158990.875877  1.877487e+05  15000.0  100000.0   \n",
              "Small          151.0  276999.874172  9.808789e+05  14000.0   50000.0   \n",
              "\n",
              "                                              \n",
              "                   50%       75%         max  \n",
              "Company Size                                  \n",
              "Large         121000.0  195400.0  30400000.0  \n",
              "Medium        144100.0  191300.0   6600000.0  \n",
              "Small          80000.0  125202.0   8500000.0  "
            ]
          },
          "execution_count": 8,
          "metadata": {},
          "output_type": "execute_result"
        }
      ],
      "source": [
        "df2=salaries_df[['Salary', 'Company Size']]\n",
        "tamanho_salario=df2.groupby('Company Size')\n",
        "tamanho_salario.describe()"
      ]
    },
    {
      "cell_type": "code",
      "execution_count": 9,
      "id": "badd06a3",
      "metadata": {},
      "outputs": [
        {
          "name": "stdout",
          "output_type": "stream",
          "text": [
            "                            Salary\n",
            "Company Location                  \n",
            "Chile                 3.040000e+07\n",
            "Hungary               8.800000e+06\n",
            "Japan                 3.264000e+06\n",
            "India                 2.282000e+06\n",
            "Indonesia             2.107500e+06\n",
            "...                            ...\n",
            "Malta                 2.400000e+04\n",
            "Egypt                 2.280000e+04\n",
            "Honduras              2.000000e+04\n",
            "Moldova, Republic of  1.800000e+04\n",
            "Ecuador               1.600000e+04\n",
            "\n",
            "[71 rows x 1 columns]\n"
          ]
        }
      ],
      "source": [
        "df3=salaries_df[['Company Location','Salary']]\n",
        "localizacao_salario=df3.groupby('Company Location')\n",
        "resultado=localizacao_salario.mean()\n",
        "resultado_ordenado = resultado.sort_values(by='Salary', ascending=False)\n",
        "print(resultado_ordenado)"
      ]
    },
    {
      "cell_type": "markdown",
      "id": "ee7a408b",
      "metadata": {
        "id": "ee7a408b"
      },
      "source": [
        "### 2.1.2 Pivot Table"
      ]
    },
    {
      "cell_type": "markdown",
      "id": "e66e48ed",
      "metadata": {},
      "source": [
        "Serve para reorganizar os dados de um DataFrame com base em uma ou mais colunas categoricas."
      ]
    },
    {
      "cell_type": "markdown",
      "id": "9646e274",
      "metadata": {},
      "source": [
        "Pergunta: \"Quero saber a variacao de salarios em media das profissoes  ao longo do tempo\" "
      ]
    },
    {
      "cell_type": "code",
      "execution_count": 10,
      "id": "06a7ab19",
      "metadata": {},
      "outputs": [
        {
          "data": {
            "text/html": [
              "<div>\n",
              "<style scoped>\n",
              "    .dataframe tbody tr th:only-of-type {\n",
              "        vertical-align: middle;\n",
              "    }\n",
              "\n",
              "    .dataframe tbody tr th {\n",
              "        vertical-align: top;\n",
              "    }\n",
              "\n",
              "    .dataframe thead th {\n",
              "        text-align: right;\n",
              "    }\n",
              "</style>\n",
              "<table border=\"1\" class=\"dataframe\">\n",
              "  <thead>\n",
              "    <tr style=\"text-align: right;\">\n",
              "      <th>Year</th>\n",
              "      <th>2020</th>\n",
              "      <th>2021</th>\n",
              "      <th>2022</th>\n",
              "      <th>2023</th>\n",
              "    </tr>\n",
              "    <tr>\n",
              "      <th>Job Title</th>\n",
              "      <th></th>\n",
              "      <th></th>\n",
              "      <th></th>\n",
              "      <th></th>\n",
              "    </tr>\n",
              "  </thead>\n",
              "  <tbody>\n",
              "    <tr>\n",
              "      <th>AI Architect</th>\n",
              "      <td>NaN</td>\n",
              "      <td>NaN</td>\n",
              "      <td>NaN</td>\n",
              "      <td>233500.000000</td>\n",
              "    </tr>\n",
              "    <tr>\n",
              "      <th>AI Developer</th>\n",
              "      <td>NaN</td>\n",
              "      <td>NaN</td>\n",
              "      <td>275000.0</td>\n",
              "      <td>116000.000000</td>\n",
              "    </tr>\n",
              "    <tr>\n",
              "      <th>AI Programmer</th>\n",
              "      <td>NaN</td>\n",
              "      <td>NaN</td>\n",
              "      <td>40000.0</td>\n",
              "      <td>70000.000000</td>\n",
              "    </tr>\n",
              "    <tr>\n",
              "      <th>AI Scientist</th>\n",
              "      <td>300000.0</td>\n",
              "      <td>473333.333333</td>\n",
              "      <td>140625.0</td>\n",
              "      <td>316166.666667</td>\n",
              "    </tr>\n",
              "    <tr>\n",
              "      <th>AWS Data Architect</th>\n",
              "      <td>NaN</td>\n",
              "      <td>NaN</td>\n",
              "      <td>NaN</td>\n",
              "      <td>258000.000000</td>\n",
              "    </tr>\n",
              "    <tr>\n",
              "      <th>...</th>\n",
              "      <td>...</td>\n",
              "      <td>...</td>\n",
              "      <td>...</td>\n",
              "      <td>...</td>\n",
              "    </tr>\n",
              "    <tr>\n",
              "      <th>Sales Data Analyst</th>\n",
              "      <td>60000.0</td>\n",
              "      <td>NaN</td>\n",
              "      <td>NaN</td>\n",
              "      <td>NaN</td>\n",
              "    </tr>\n",
              "    <tr>\n",
              "      <th>Software Data Engineer</th>\n",
              "      <td>NaN</td>\n",
              "      <td>NaN</td>\n",
              "      <td>NaN</td>\n",
              "      <td>120000.000000</td>\n",
              "    </tr>\n",
              "    <tr>\n",
              "      <th>Staff Data Analyst</th>\n",
              "      <td>15000.0</td>\n",
              "      <td>NaN</td>\n",
              "      <td>NaN</td>\n",
              "      <td>179998.000000</td>\n",
              "    </tr>\n",
              "    <tr>\n",
              "      <th>Staff Data Scientist</th>\n",
              "      <td>164000.0</td>\n",
              "      <td>105000.000000</td>\n",
              "      <td>NaN</td>\n",
              "      <td>NaN</td>\n",
              "    </tr>\n",
              "    <tr>\n",
              "      <th>Staff Machine Learning Engineer</th>\n",
              "      <td>NaN</td>\n",
              "      <td>185000.000000</td>\n",
              "      <td>NaN</td>\n",
              "      <td>NaN</td>\n",
              "    </tr>\n",
              "  </tbody>\n",
              "</table>\n",
              "<p>111 rows × 4 columns</p>\n",
              "</div>"
            ],
            "text/plain": [
              "Year                                 2020           2021      2022  \\\n",
              "Job Title                                                            \n",
              "AI Architect                          NaN            NaN       NaN   \n",
              "AI Developer                          NaN            NaN  275000.0   \n",
              "AI Programmer                         NaN            NaN   40000.0   \n",
              "AI Scientist                     300000.0  473333.333333  140625.0   \n",
              "AWS Data Architect                    NaN            NaN       NaN   \n",
              "...                                   ...            ...       ...   \n",
              "Sales Data Analyst                60000.0            NaN       NaN   \n",
              "Software Data Engineer                NaN            NaN       NaN   \n",
              "Staff Data Analyst                15000.0            NaN       NaN   \n",
              "Staff Data Scientist             164000.0  105000.000000       NaN   \n",
              "Staff Machine Learning Engineer       NaN  185000.000000       NaN   \n",
              "\n",
              "Year                                      2023  \n",
              "Job Title                                       \n",
              "AI Architect                     233500.000000  \n",
              "AI Developer                     116000.000000  \n",
              "AI Programmer                     70000.000000  \n",
              "AI Scientist                     316166.666667  \n",
              "AWS Data Architect               258000.000000  \n",
              "...                                        ...  \n",
              "Sales Data Analyst                         NaN  \n",
              "Software Data Engineer           120000.000000  \n",
              "Staff Data Analyst               179998.000000  \n",
              "Staff Data Scientist                       NaN  \n",
              "Staff Machine Learning Engineer            NaN  \n",
              "\n",
              "[111 rows x 4 columns]"
            ]
          },
          "execution_count": 10,
          "metadata": {},
          "output_type": "execute_result"
        }
      ],
      "source": [
        "df4= salaries_df[['Year','Salary','Job Title']] \n",
        "df5=df4.pivot_table(index='Job Title', columns='Year', values='Salary')\n",
        "df5\n"
      ]
    },
    {
      "cell_type": "code",
      "execution_count": 11,
      "id": "a8abc4dc",
      "metadata": {},
      "outputs": [
        {
          "data": {
            "text/html": [
              "<div>\n",
              "<style scoped>\n",
              "    .dataframe tbody tr th:only-of-type {\n",
              "        vertical-align: middle;\n",
              "    }\n",
              "\n",
              "    .dataframe tbody tr th {\n",
              "        vertical-align: top;\n",
              "    }\n",
              "\n",
              "    .dataframe thead tr th {\n",
              "        text-align: left;\n",
              "    }\n",
              "\n",
              "    .dataframe thead tr:last-of-type th {\n",
              "        text-align: right;\n",
              "    }\n",
              "</style>\n",
              "<table border=\"1\" class=\"dataframe\">\n",
              "  <thead>\n",
              "    <tr>\n",
              "      <th></th>\n",
              "      <th colspan=\"4\" halign=\"left\">max</th>\n",
              "      <th colspan=\"4\" halign=\"left\">min</th>\n",
              "    </tr>\n",
              "    <tr>\n",
              "      <th>Year</th>\n",
              "      <th>2020</th>\n",
              "      <th>2021</th>\n",
              "      <th>2022</th>\n",
              "      <th>2023</th>\n",
              "      <th>2020</th>\n",
              "      <th>2021</th>\n",
              "      <th>2022</th>\n",
              "      <th>2023</th>\n",
              "    </tr>\n",
              "    <tr>\n",
              "      <th>Job Title</th>\n",
              "      <th></th>\n",
              "      <th></th>\n",
              "      <th></th>\n",
              "      <th></th>\n",
              "      <th></th>\n",
              "      <th></th>\n",
              "      <th></th>\n",
              "      <th></th>\n",
              "    </tr>\n",
              "  </thead>\n",
              "  <tbody>\n",
              "    <tr>\n",
              "      <th>AI Architect</th>\n",
              "      <td>NaN</td>\n",
              "      <td>NaN</td>\n",
              "      <td>NaN</td>\n",
              "      <td>330000.0</td>\n",
              "      <td>NaN</td>\n",
              "      <td>NaN</td>\n",
              "      <td>NaN</td>\n",
              "      <td>200000.0</td>\n",
              "    </tr>\n",
              "    <tr>\n",
              "      <th>AI Developer</th>\n",
              "      <td>NaN</td>\n",
              "      <td>NaN</td>\n",
              "      <td>275000.0</td>\n",
              "      <td>200000.0</td>\n",
              "      <td>NaN</td>\n",
              "      <td>NaN</td>\n",
              "      <td>275000.0</td>\n",
              "      <td>60000.0</td>\n",
              "    </tr>\n",
              "    <tr>\n",
              "      <th>AI Programmer</th>\n",
              "      <td>NaN</td>\n",
              "      <td>NaN</td>\n",
              "      <td>40000.0</td>\n",
              "      <td>100000.0</td>\n",
              "      <td>NaN</td>\n",
              "      <td>NaN</td>\n",
              "      <td>40000.0</td>\n",
              "      <td>40000.0</td>\n",
              "    </tr>\n",
              "    <tr>\n",
              "      <th>AI Scientist</th>\n",
              "      <td>300000.0</td>\n",
              "      <td>1335000.0</td>\n",
              "      <td>200000.0</td>\n",
              "      <td>1500000.0</td>\n",
              "      <td>300000.0</td>\n",
              "      <td>30000.0</td>\n",
              "      <td>30000.0</td>\n",
              "      <td>20000.0</td>\n",
              "    </tr>\n",
              "    <tr>\n",
              "      <th>AWS Data Architect</th>\n",
              "      <td>NaN</td>\n",
              "      <td>NaN</td>\n",
              "      <td>NaN</td>\n",
              "      <td>258000.0</td>\n",
              "      <td>NaN</td>\n",
              "      <td>NaN</td>\n",
              "      <td>NaN</td>\n",
              "      <td>258000.0</td>\n",
              "    </tr>\n",
              "    <tr>\n",
              "      <th>...</th>\n",
              "      <td>...</td>\n",
              "      <td>...</td>\n",
              "      <td>...</td>\n",
              "      <td>...</td>\n",
              "      <td>...</td>\n",
              "      <td>...</td>\n",
              "      <td>...</td>\n",
              "      <td>...</td>\n",
              "    </tr>\n",
              "    <tr>\n",
              "      <th>Sales Data Analyst</th>\n",
              "      <td>60000.0</td>\n",
              "      <td>NaN</td>\n",
              "      <td>NaN</td>\n",
              "      <td>NaN</td>\n",
              "      <td>60000.0</td>\n",
              "      <td>NaN</td>\n",
              "      <td>NaN</td>\n",
              "      <td>NaN</td>\n",
              "    </tr>\n",
              "    <tr>\n",
              "      <th>Software Data Engineer</th>\n",
              "      <td>NaN</td>\n",
              "      <td>NaN</td>\n",
              "      <td>NaN</td>\n",
              "      <td>210000.0</td>\n",
              "      <td>NaN</td>\n",
              "      <td>NaN</td>\n",
              "      <td>NaN</td>\n",
              "      <td>50000.0</td>\n",
              "    </tr>\n",
              "    <tr>\n",
              "      <th>Staff Data Analyst</th>\n",
              "      <td>15000.0</td>\n",
              "      <td>NaN</td>\n",
              "      <td>NaN</td>\n",
              "      <td>179998.0</td>\n",
              "      <td>15000.0</td>\n",
              "      <td>NaN</td>\n",
              "      <td>NaN</td>\n",
              "      <td>179998.0</td>\n",
              "    </tr>\n",
              "    <tr>\n",
              "      <th>Staff Data Scientist</th>\n",
              "      <td>164000.0</td>\n",
              "      <td>105000.0</td>\n",
              "      <td>NaN</td>\n",
              "      <td>NaN</td>\n",
              "      <td>164000.0</td>\n",
              "      <td>105000.0</td>\n",
              "      <td>NaN</td>\n",
              "      <td>NaN</td>\n",
              "    </tr>\n",
              "    <tr>\n",
              "      <th>Staff Machine Learning Engineer</th>\n",
              "      <td>NaN</td>\n",
              "      <td>185000.0</td>\n",
              "      <td>NaN</td>\n",
              "      <td>NaN</td>\n",
              "      <td>NaN</td>\n",
              "      <td>185000.0</td>\n",
              "      <td>NaN</td>\n",
              "      <td>NaN</td>\n",
              "    </tr>\n",
              "  </tbody>\n",
              "</table>\n",
              "<p>111 rows × 8 columns</p>\n",
              "</div>"
            ],
            "text/plain": [
              "                                      max                                  \\\n",
              "Year                                 2020       2021      2022       2023   \n",
              "Job Title                                                                   \n",
              "AI Architect                          NaN        NaN       NaN   330000.0   \n",
              "AI Developer                          NaN        NaN  275000.0   200000.0   \n",
              "AI Programmer                         NaN        NaN   40000.0   100000.0   \n",
              "AI Scientist                     300000.0  1335000.0  200000.0  1500000.0   \n",
              "AWS Data Architect                    NaN        NaN       NaN   258000.0   \n",
              "...                                   ...        ...       ...        ...   \n",
              "Sales Data Analyst                60000.0        NaN       NaN        NaN   \n",
              "Software Data Engineer                NaN        NaN       NaN   210000.0   \n",
              "Staff Data Analyst                15000.0        NaN       NaN   179998.0   \n",
              "Staff Data Scientist             164000.0   105000.0       NaN        NaN   \n",
              "Staff Machine Learning Engineer       NaN   185000.0       NaN        NaN   \n",
              "\n",
              "                                      min                                \n",
              "Year                                 2020      2021      2022      2023  \n",
              "Job Title                                                                \n",
              "AI Architect                          NaN       NaN       NaN  200000.0  \n",
              "AI Developer                          NaN       NaN  275000.0   60000.0  \n",
              "AI Programmer                         NaN       NaN   40000.0   40000.0  \n",
              "AI Scientist                     300000.0   30000.0   30000.0   20000.0  \n",
              "AWS Data Architect                    NaN       NaN       NaN  258000.0  \n",
              "...                                   ...       ...       ...       ...  \n",
              "Sales Data Analyst                60000.0       NaN       NaN       NaN  \n",
              "Software Data Engineer                NaN       NaN       NaN   50000.0  \n",
              "Staff Data Analyst                15000.0       NaN       NaN  179998.0  \n",
              "Staff Data Scientist             164000.0  105000.0       NaN       NaN  \n",
              "Staff Machine Learning Engineer       NaN  185000.0       NaN       NaN  \n",
              "\n",
              "[111 rows x 8 columns]"
            ]
          },
          "execution_count": 11,
          "metadata": {},
          "output_type": "execute_result"
        }
      ],
      "source": [
        "df4.pivot_table(index='Job Title', columns='Year', values='Salary', aggfunc=['max', 'min'])"
      ]
    },
    {
      "cell_type": "markdown",
      "id": "0f2e7f37",
      "metadata": {
        "id": "0f2e7f37"
      },
      "source": [
        "### 2.1.3 Melt"
      ]
    },
    {
      "cell_type": "markdown",
      "id": "8d0e8b9a",
      "metadata": {},
      "source": [
        "A função 'melt' no pandas é usada para transformar um DataFrame de formato largo (wide) em um formato longo (tidy). Essa função é útil quando você precisa desagregar e reestruturar os dados para análises mais eficientes."
      ]
    },
    {
      "cell_type": "code",
      "execution_count": 12,
      "id": "83be9027",
      "metadata": {},
      "outputs": [
        {
          "data": {
            "text/html": [
              "<div>\n",
              "<style scoped>\n",
              "    .dataframe tbody tr th:only-of-type {\n",
              "        vertical-align: middle;\n",
              "    }\n",
              "\n",
              "    .dataframe tbody tr th {\n",
              "        vertical-align: top;\n",
              "    }\n",
              "\n",
              "    .dataframe thead th {\n",
              "        text-align: right;\n",
              "    }\n",
              "</style>\n",
              "<table border=\"1\" class=\"dataframe\">\n",
              "  <thead>\n",
              "    <tr style=\"text-align: right;\">\n",
              "      <th></th>\n",
              "      <th>Year</th>\n",
              "      <th>value</th>\n",
              "    </tr>\n",
              "    <tr>\n",
              "      <th>Job Title</th>\n",
              "      <th></th>\n",
              "      <th></th>\n",
              "    </tr>\n",
              "  </thead>\n",
              "  <tbody>\n",
              "    <tr>\n",
              "      <th>AI Architect</th>\n",
              "      <td>2020</td>\n",
              "      <td>NaN</td>\n",
              "    </tr>\n",
              "    <tr>\n",
              "      <th>AI Developer</th>\n",
              "      <td>2020</td>\n",
              "      <td>NaN</td>\n",
              "    </tr>\n",
              "    <tr>\n",
              "      <th>AI Programmer</th>\n",
              "      <td>2020</td>\n",
              "      <td>NaN</td>\n",
              "    </tr>\n",
              "    <tr>\n",
              "      <th>AI Scientist</th>\n",
              "      <td>2020</td>\n",
              "      <td>300000.0</td>\n",
              "    </tr>\n",
              "    <tr>\n",
              "      <th>AWS Data Architect</th>\n",
              "      <td>2020</td>\n",
              "      <td>NaN</td>\n",
              "    </tr>\n",
              "    <tr>\n",
              "      <th>...</th>\n",
              "      <td>...</td>\n",
              "      <td>...</td>\n",
              "    </tr>\n",
              "    <tr>\n",
              "      <th>Sales Data Analyst</th>\n",
              "      <td>2023</td>\n",
              "      <td>NaN</td>\n",
              "    </tr>\n",
              "    <tr>\n",
              "      <th>Software Data Engineer</th>\n",
              "      <td>2023</td>\n",
              "      <td>120000.0</td>\n",
              "    </tr>\n",
              "    <tr>\n",
              "      <th>Staff Data Analyst</th>\n",
              "      <td>2023</td>\n",
              "      <td>179998.0</td>\n",
              "    </tr>\n",
              "    <tr>\n",
              "      <th>Staff Data Scientist</th>\n",
              "      <td>2023</td>\n",
              "      <td>NaN</td>\n",
              "    </tr>\n",
              "    <tr>\n",
              "      <th>Staff Machine Learning Engineer</th>\n",
              "      <td>2023</td>\n",
              "      <td>NaN</td>\n",
              "    </tr>\n",
              "  </tbody>\n",
              "</table>\n",
              "<p>444 rows × 2 columns</p>\n",
              "</div>"
            ],
            "text/plain": [
              "                                 Year     value\n",
              "Job Title                                      \n",
              "AI Architect                     2020       NaN\n",
              "AI Developer                     2020       NaN\n",
              "AI Programmer                    2020       NaN\n",
              "AI Scientist                     2020  300000.0\n",
              "AWS Data Architect               2020       NaN\n",
              "...                               ...       ...\n",
              "Sales Data Analyst               2023       NaN\n",
              "Software Data Engineer           2023  120000.0\n",
              "Staff Data Analyst               2023  179998.0\n",
              "Staff Data Scientist             2023       NaN\n",
              "Staff Machine Learning Engineer  2023       NaN\n",
              "\n",
              "[444 rows x 2 columns]"
            ]
          },
          "execution_count": 12,
          "metadata": {},
          "output_type": "execute_result"
        }
      ],
      "source": [
        "df5.melt(ignore_index=False)\n"
      ]
    },
    {
      "cell_type": "markdown",
      "id": "c6e47787",
      "metadata": {
        "id": "c6e47787"
      },
      "source": [
        "### 2.2.1 Diff"
      ]
    },
    {
      "cell_type": "markdown",
      "id": "507a57d3",
      "metadata": {},
      "source": [
        "##### A função diff serve para calcular a diferença entre os valores de uma linha ou coluna, de acordo com os parâmetros definidos previamente."
      ]
    },
    {
      "cell_type": "markdown",
      "id": "3a418187",
      "metadata": {},
      "source": [
        "Para compreender como funciona a função diff, criaremos um DataFrame com dados da receita de três unidades de uma loja ao longo do mês de junho."
      ]
    },
    {
      "cell_type": "code",
      "execution_count": null,
      "id": "85fa5b36",
      "metadata": {},
      "outputs": [],
      "source": [
        "#CRIANDO O DATAFRAME\n",
        "\n",
        "#Definir uma \"seed\" tem a função de garantir que os números sejam aleatórios, mas reproduzível, o que significa que executando o código várias vezes o gerador de números aleatórios não vai mudar. 42 é apenas uma escolha popular entre os usuários de python, mas qualquer outro número inteiro poderia ser escolhido\n",
        "np.random.seed(42)\n",
        "\n",
        "#Dados: Receita(v.a)~Normal(1000,100)\n",
        "receita = np.random.normal(loc=1000, scale=100, size=(30, 3))\n",
        "#Colunas:\n",
        "unidade = ('Centro', 'Butantã', 'Paulista')\n",
        "#Índices:\n",
        "data = [pd.date_range(start=pd.Timestamp('2023-06-01'), end=pd.Timestamp('2023-06-30'), freq='D')]\n",
        "\n",
        "df = pd.DataFrame(data=receita, columns=unidade, index=data)\n",
        "df = df.round()\n",
        "print(df)"
      ]
    },
    {
      "cell_type": "code",
      "execution_count": null,
      "id": "d9e18183",
      "metadata": {},
      "outputs": [],
      "source": [
        "df.diff()"
      ]
    },
    {
      "cell_type": "code",
      "execution_count": null,
      "id": "2234eda6",
      "metadata": {},
      "outputs": [],
      "source": [
        "df.diff().describe()"
      ]
    },
    {
      "cell_type": "code",
      "execution_count": null,
      "id": "c29782fb",
      "metadata": {},
      "outputs": [],
      "source": [
        "#diff calculará diferença entre receita atual e receita de dois dias atrás\n",
        "df.diff(periods=2)"
      ]
    },
    {
      "cell_type": "code",
      "execution_count": null,
      "id": "76fe5f13",
      "metadata": {},
      "outputs": [],
      "source": [
        "## diff calculará diferença por coluna, ou seja, por unidade\n",
        "df.diff(periods=1,axis=1).dropna(axis=1)"
      ]
    },
    {
      "cell_type": "markdown",
      "id": "2d27562a",
      "metadata": {
        "id": "2d27562a"
      },
      "source": [
        "### 2.2.2 Pct_change"
      ]
    },
    {
      "cell_type": "markdown",
      "id": "24dae0d0",
      "metadata": {},
      "source": [
        "##### A função pct_change serve para calcular a **diferença percentual** entre os valores de uma linha ou coluna, de acordo com os parâmetros definidos previamente."
      ]
    },
    {
      "cell_type": "markdown",
      "id": "027d4f1c",
      "metadata": {},
      "source": [
        "A partir do mesmo DataFrame, vamos agora analisar como funciona a função *pct_change*:"
      ]
    },
    {
      "cell_type": "code",
      "execution_count": null,
      "id": "6fa65fad",
      "metadata": {},
      "outputs": [],
      "source": [
        "df.pct_change().round(2)"
      ]
    },
    {
      "cell_type": "code",
      "execution_count": null,
      "id": "88ecb053",
      "metadata": {},
      "outputs": [],
      "source": [
        "df.pct_change().describe().round(2)"
      ]
    },
    {
      "cell_type": "code",
      "execution_count": null,
      "id": "294a9745",
      "metadata": {},
      "outputs": [],
      "source": [
        "df.pct_change(periods=1, axis=1).dropna(axis=1).round(2)"
      ]
    },
    {
      "cell_type": "markdown",
      "id": "baee0d32",
      "metadata": {
        "id": "baee0d32"
      },
      "source": [
        "## 3. Aplicações Úteis"
      ]
    },
    {
      "cell_type": "markdown",
      "id": "4251cb57",
      "metadata": {
        "id": "4251cb57"
      },
      "source": [
        "### 3.1 Cálculo de Retorno"
      ]
    },
    {
      "cell_type": "markdown",
      "id": "0a26a577",
      "metadata": {
        "id": "0a26a577"
      },
      "source": [
        "### 3.2 Cálculo Para Cada Fundo"
      ]
    },
    {
      "cell_type": "markdown",
      "id": "f092bb74",
      "metadata": {
        "id": "f092bb74"
      },
      "source": [
        "### 3.3 Juntando os Resultados"
      ]
    },
    {
      "cell_type": "markdown",
      "id": "f6e02ea2",
      "metadata": {
        "id": "f6e02ea2"
      },
      "source": [
        "![](joins.png)"
      ]
    }
  ],
  "metadata": {
    "colab": {
      "collapsed_sections": [],
      "provenance": []
    },
    "kernelspec": {
      "display_name": "Python 3 (ipykernel)",
      "language": "python",
      "name": "python3"
    },
    "language_info": {
      "codemirror_mode": {
        "name": "ipython",
        "version": 3
      },
      "file_extension": ".py",
      "mimetype": "text/x-python",
      "name": "python",
      "nbconvert_exporter": "python",
      "pygments_lexer": "ipython3",
      "version": "3.11.4"
    }
  },
  "nbformat": 4,
  "nbformat_minor": 5
}
