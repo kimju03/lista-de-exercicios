{
  "cells": [
    {
      "cell_type": "markdown",
      "metadata": {
        "colab_type": "text",
        "id": "view-in-github"
      },
      "source": [
        "<a href=\"https://colab.research.google.com/github/kimju03/lista-de-exercicios/blob/main/while.ipynb\" target=\"_parent\"><img src=\"https://colab.research.google.com/assets/colab-badge.svg\" alt=\"Open In Colab\"/></a>"
      ]
    },
    {
      "cell_type": "markdown",
      "metadata": {
        "id": "Bf5LVNXM1BD1"
      },
      "source": [
        "### Loops(Laços)\n",
        "São estruturas de repetição. Isso quer dizer que eles permitem exevutar um bloco de código repetidamente.\n",
        "\n",
        "# While\n",
        "Serve para repetir certos comandos desejados enquanto(while) tal condição é está estabelecida\n",
        "\n",
        "Diferentemente do if, que serve para executar um comando se uma determinada condição acontecer e normalmente executa outro(s) comando(s) se não, o while verifica se a condição é verdadeira e repete os comandos enquanto ela é, ou para(procede para a próxima linha do código fora do loop) quando não for verdadeira.\n",
        "\n",
        "\n",
        "\n"
      ]
    },
    {
      "cell_type": "markdown",
      "metadata": {
        "id": "RZz2fOL68CNT"
      },
      "source": [
        "Estrutura do **While**"
      ]
    },
    {
      "cell_type": "code",
      "execution_count": null,
      "metadata": {
        "id": "p-Ud8Pv98IrM"
      },
      "outputs": [],
      "source": [
        "While(condição):\n",
        "     comando 1\n",
        "     comando 2\n",
        "     comando 3\n",
        "     ...\n",
        "     \n",
        "\n",
        "Código fora do loop"
      ]
    },
    {
      "cell_type": "markdown",
      "metadata": {
        "id": "XlEi1gQX8nuZ"
      },
      "source": [
        "Dada a condição do while, os comandos dentro do loop vão ser executados. A estrutura do loop se abre com \":\" e com os comandos alinhados pela indexação com espaços. O loop se fecha com a próxima linha sem espaços\n",
        "\n",
        "\n",
        "\n",
        "\n",
        "\n"
      ]
    },
    {
      "cell_type": "markdown",
      "metadata": {
        "id": "R2Xhl4gI91e4"
      },
      "source": [
        "Exemplo do while para criar um **contador**:"
      ]
    },
    {
      "cell_type": "code",
      "execution_count": 49,
      "metadata": {
        "colab": {
          "base_uri": "https://localhost:8080/"
        },
        "id": "nu9ti0jA4-eB",
        "outputId": "77a62b72-5757-42a3-c43f-eeaaba093968"
      },
      "outputs": [
        {
          "name": "stdout",
          "output_type": "stream",
          "text": [
            "1\n",
            "2\n",
            "3\n",
            "4\n",
            "5\n",
            "5\n"
          ]
        }
      ],
      "source": [
        "X= 0\n",
        "\n",
        "while X<5:\n",
        "     X= X+1\n",
        "     print(X)\n",
        "print(X)\n",
        "\n",
        "\n"
      ]
    },
    {
      "cell_type": "markdown",
      "metadata": {
        "id": "hO8UvQ07_epv"
      },
      "source": [
        "# While com if\n",
        "\n",
        "É possível misturar os comandos, com uma estrutura dentro da outra.\n",
        "Exemplo: uma partida de futebol. Enquanto(while) o jogo está acontecendo(contador não deu 90 minutos), se(if) meu time está ganhando; eu estou feliz; se estiver empatando, estou normal; se estiver perdendo, estou triste. Depois do jogo eu vou ficar feliz, normal, ou triste.\n",
        "\n"
      ]
    },
    {
      "cell_type": "code",
      "execution_count": null,
      "metadata": {
        "id": "2iVUUgYuAXto"
      },
      "outputs": [],
      "source": [
        "Tempo= 0\n",
        "Palmeiras= 0\n",
        "Corinthians= 0\n",
        "\n",
        "while Tempo<=90:\n",
        "    if Palmeiras > Corinthians:\n",
        "        print(\"estou feliz\")\n",
        "    elif Palmeiras == Corinthians:\n",
        "        print(\"estou normal\")\n",
        "    else:\n",
        "        print(\"estou triste\")\n",
        "    print(f\"{Tempo} minutos\")\n",
        "    Palmeiras = Palmeiras + float(input(f'mais quantos gols fez o Palmeiras?'))\n",
        "    Corinthians = Corinthians + float(input(f'mais quantos gols fez o Corinthians?'))\n",
        "    print(f\"o placar está {int(Palmeiras)} X {int(Corinthians)}\")\n",
        "    Tempo += 15\n",
        "if Palmeiras > Corinthians:\n",
        "        print(\"O jogo me deixou feliz\")\n",
        "elif Palmeiras == Corinthians:\n",
        "        print(\"O jogo não alterou meu humor\")\n",
        "else:\n",
        "        print(\"fiquei triste\")\n",
        "\n"
      ]
    },
    {
      "cell_type": "markdown",
      "metadata": {
        "id": "jbmKBTJaHSXs"
      },
      "source": [
        "## Uso do break\n",
        "serve para fechar o loop\n",
        "\n",
        "exemplo:"
      ]
    },
    {
      "cell_type": "code",
      "execution_count": 47,
      "metadata": {
        "colab": {
          "base_uri": "https://localhost:8080/"
        },
        "id": "-NhZStw2HiiJ",
        "outputId": "95bdd9af-7369-4cd2-bd02-c3cf3dabdc9c"
      },
      "outputs": [
        {
          "name": "stdout",
          "output_type": "stream",
          "text": [
            "0 minutos\n",
            "mais quantos gols fez o Palmeiras?0\n",
            "mais quantos gols fez o Corinthians?0\n",
            "continuo assistindo o jogo\n",
            "15 minutos\n",
            "o placar está 0 X 0\n",
            "15 minutos\n",
            "mais quantos gols fez o Palmeiras?0\n",
            "mais quantos gols fez o Corinthians?1\n",
            "o placar está 0 X 1\n",
            "Arremesso o controle na TV e a quebro\n"
          ]
        }
      ],
      "source": [
        "Tempo= 0\n",
        "Palmeiras= 0\n",
        "Corinthians= 0\n",
        "\n",
        "while Tempo<=90:\n",
        "   print(f'{Tempo} minutos')\n",
        "   Palmeiras = Palmeiras + float(input(f'mais quantos gols fez o Palmeiras?'))\n",
        "   Corinthians = Corinthians + float(input(f'mais quantos gols fez o Corinthians?'))\n",
        "   if Palmeiras >= Corinthians:\n",
        "      print(\"continuo assistindo o jogo\")\n",
        "   else:\n",
        "      print(f\"o placar está {int(Palmeiras)} X {int(Corinthians)}\")\n",
        "      print(\"Arremesso o controle na TV e a quebro\")\n",
        "      break\n",
        "   Tempo = Tempo + 15\n",
        "   print(f\"{Tempo} minutos\")\n",
        "   print(f\"o placar está {int(Palmeiras)} X {int(Corinthians)}\")"
      ]
    }
  ],
  "metadata": {
    "colab": {
      "authorship_tag": "ABX9TyM12Is7tvCSpgkp4iUXoo8O",
      "include_colab_link": true,
      "provenance": []
    },
    "kernelspec": {
      "display_name": "Python 3",
      "name": "python3"
    },
    "language_info": {
      "name": "python"
    }
  },
  "nbformat": 4,
  "nbformat_minor": 0
}
