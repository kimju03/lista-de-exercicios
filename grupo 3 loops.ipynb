{
 "cells": [
  {
   "attachments": {},
   "cell_type": "markdown",
   "metadata": {},
   "source": [
    "# <font color=lightblue>**Exercício Lista Vazia**</font>\n",
    "#### <font color=lightblue>**Usando o Modelo de Gordon para calcular o valor estimado de uma ação.**</font>\n"
   ]
  },
  {
   "attachments": {},
   "cell_type": "markdown",
   "metadata": {},
   "source": [
    "#### Criar uma lista vazia em Python é útil quando você deseja armazenar elementos posteriormente, mas ainda não possui nenhum valor para adicionar à lista."
   ]
  },
  {
   "cell_type": "code",
   "execution_count": 8,
   "metadata": {},
   "outputs": [],
   "source": [
    "#Criação da lista vazia\n",
    "valores = []"
   ]
  },
  {
   "attachments": {},
   "cell_type": "markdown",
   "metadata": {},
   "source": [
    "#### Primeiro utilizamos um loop <font color=lightpink>**for**</font> para percorrer cada elemento da lista \"informacoes\". A cada iteração do loop, a variável \"info\" recebe o valor de um elemento da lista. O valor digitado é adicionado à lista \"valores\" usando o método <font color=lightpink>**append()**</font>. Esse passo permite armazenar os valores digitados pelo usuário na lista."
   ]
  },
  {
   "cell_type": "code",
   "execution_count": null,
   "metadata": {},
   "outputs": [],
   "source": [
    "#Solicitação das informações utilizando loop\n",
    "informacoes = [\"dividendo esperado\", \"taxa de crescimento\", \"taxa de retorno\"]\n",
    "\n",
    "for info in informacoes:\n",
    "    valor = float(input(f\"Digite o valor {info} por ação: \"))\n",
    "    valores.append(valor)"
   ]
  },
  {
   "attachments": {},
   "cell_type": "markdown",
   "metadata": {},
   "source": [
    "#### Por fim utilizamos a fórmula do modelo de gordon e printamos o resultado.\n"
   ]
  },
  {
   "cell_type": "code",
   "execution_count": null,
   "metadata": {},
   "outputs": [],
   "source": [
    "#Cálculo do valor estimado da ação usando o modelo de gordon\n",
    "valor = valores[0] / (valores[2] - valores[1])\n",
    "\n",
    "#Arredondamento do valor\n",
    "valor_arredondado = round(valor, 2)\n",
    "\n",
    "#Exibição do valor estimado da ação\n",
    "print(\"O valor estimado é R$\", valor_arredondado)"
   ]
  },
  {
   "attachments": {},
   "cell_type": "markdown",
   "metadata": {},
   "source": [
    "#### <font color=lightblue>**Testando o Código**</font>"
   ]
  },
  {
   "cell_type": "code",
   "execution_count": 11,
   "metadata": {},
   "outputs": [
    {
     "name": "stdout",
     "output_type": "stream",
     "text": [
      "O valor estimado é R$ 3.08\n"
     ]
    }
   ],
   "source": [
    "#Criação da lista vazia\n",
    "valores = []\n",
    "\n",
    "#Solicitação das informações utilizando loop\n",
    "informacoes = [\"dividendo esperado\", \"taxa de crescimento\", \"taxa de retorno\"]\n",
    "\n",
    "for info in informacoes:\n",
    "    valor = float(input(f\"Digite o valor {info} por ação: \"))\n",
    "    valores.append(valor)\n",
    "\n",
    "#Cálculo do valor estimado da ação usando o modelo de gordon\n",
    "valor = valores[0] / (valores[2] - valores[1])\n",
    "\n",
    "#Arredondamento do valor\n",
    "valor_arredondado = round(valor, 2)\n",
    "\n",
    "#Exibição do valor estimado da ação\n",
    "print(\"O valor estimado é R$\", valor_arredondado)"
   ]
  }
 ],
 "metadata": {
  "kernelspec": {
   "display_name": "Python 3",
   "language": "python",
   "name": "python3"
  },
  "language_info": {
   "codemirror_mode": {
    "name": "ipython",
    "version": 3
   },
   "file_extension": ".py",
   "mimetype": "text/x-python",
   "name": "python",
   "nbconvert_exporter": "python",
   "pygments_lexer": "ipython3",
   "version": "3.11.3"
  },
  "orig_nbformat": 4
 },
 "nbformat": 4,
 "nbformat_minor": 2
}
