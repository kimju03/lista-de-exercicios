{
 "cells": [
  {
   "attachments": {},
   "cell_type": "markdown",
   "metadata": {},
   "source": [
    "# <font color=lightblue>**Grupo 3: Loops**</font>\n",
    "#### Loops são estruturas de repetição, o que quer dizer que eles permitem executar um bloco de código repetidamente."
   ]
  },
  {
   "attachments": {},
   "cell_type": "markdown",
   "metadata": {},
   "source": [
    "\n",
    "\n",
    "#  <font color=lightblue>**While**</font>\n",
    "##### Serve para repetir certos comandos desejados enquanto(while) tal condição é está estabelecida\n",
    "\n",
    "##### Diferentemente do if, que serve para executar um comando se uma determinada condição acontecer e normalmente executa outro(s) comando(s) se não, o while verifica se a condição é verdadeira e repete os comandos enquanto ela é, ou para(procede para a próxima linha do código fora do loop) quando não for verdadeira.\n",
    "\n",
    "\n",
    "\n",
    "\n",
    "\n"
   ]
  },
  {
   "cell_type": "code",
   "execution_count": 19,
   "metadata": {},
   "outputs": [],
   "source": [
    "#Solicitação das informações utilizando loop\n",
    "informacoes = [\"dividendo esperado\", \"taxa de crescimento\", \"taxa de retorno\"]\n",
    "\n",
    "for info in informacoes:\n",
    "    valor = float(input(f\"Digite o valor {info} por ação: \"))\n",
    "    valores.append(valor)"
   ]
  },
  {
   "attachments": {},
   "cell_type": "markdown",
   "metadata": {},
   "source": [
    "##### Estrutura do <font color=lightpink>**While**</font>"
   ]
  },
  {
   "cell_type": "code",
   "execution_count": 20,
   "metadata": {},
   "outputs": [
    {
     "ename": "SyntaxError",
     "evalue": "invalid syntax (1497116824.py, line 1)",
     "output_type": "error",
     "traceback": [
      "\u001b[0;36m  Cell \u001b[0;32mIn[20], line 1\u001b[0;36m\u001b[0m\n\u001b[0;31m    While(condição):\u001b[0m\n\u001b[0m                   ^\u001b[0m\n\u001b[0;31mSyntaxError\u001b[0m\u001b[0;31m:\u001b[0m invalid syntax\n"
     ]
    }
   ],
   "source": [
    "While(condição):\n",
    "     comando 1\n",
    "     comando 2\n",
    "     comando 3\n",
    "     ...\n",
    "\n",
    "Código fora do loop"
   ]
  },
  {
   "attachments": {},
   "cell_type": "markdown",
   "metadata": {},
   "source": [
    "##### Dada a condição do while, os comandos dentro do loop vão ser executados. A estrutura do loop se abre com \":\" e com os comandos alinhados pela indexação com espaços. O loop se fecha com a próxima linha sem espaços "
   ]
  },
  {
   "attachments": {},
   "cell_type": "markdown",
   "metadata": {},
   "source": [
    "##### Exemplo do while para criar um **contador**:"
   ]
  },
  {
   "cell_type": "code",
   "execution_count": null,
   "metadata": {},
   "outputs": [],
   "source": [
    "X= 0\n",
    "\n",
    "while X<5:\n",
    "     X= X+1\n",
    "     print(X)\n",
    "print(X)\n",
    "\n",
    "\n"
   ]
  },
  {
   "attachments": {},
   "cell_type": "markdown",
   "metadata": {},
   "source": [
    "### <font color=lightblue>**While com if**</font>\n",
    "\n",
    "##### É possível misturar os comandos, com uma estrutura dentro da outra. \n",
    "\n",
    "##### **Exemplo:** uma partida de futebol. Enquanto(while) o jogo está acontecendo(contador não deu 90 minutos), se(if) meu time está ganhando; eu estou feliz; se estiver empatando, estou normal; se estiver perdendo, estou triste. Depois do jogo eu vou ficar feliz, normal, ou triste. \n"
   ]
  },
  {
   "cell_type": "code",
   "execution_count": null,
   "metadata": {},
   "outputs": [],
   "source": [
    "Tempo= 0\n",
    "Palmeiras= 0\n",
    "Corinthians= 0\n",
    "\n",
    "while Tempo<=90:\n",
    "    if Palmeiras > Corinthians:\n",
    "        print(\"estou feliz\")\n",
    "    elif Palmeiras == Corinthians:\n",
    "        print(\"estou normal\")\n",
    "    else:\n",
    "        print(\"estou triste\")\n",
    "    print(f\"{Tempo} minutos\")\n",
    "    Palmeiras = Palmeiras + float(input(f'mais quantos gols fez o Palmeiras?'))\n",
    "    Corinthians = Corinthians + float(input(f'mais quantos gols fez o Corinthians?'))\n",
    "    print(f\"o placar está {int(Palmeiras)} X {int(Corinthians)}\")\n",
    "    Tempo += 15\n",
    "if Palmeiras > Corinthians:\n",
    "        print(\"O jogo me deixou feliz\")\n",
    "elif Palmeiras == Corinthians:\n",
    "        print(\"O jogo não alterou meu humor\")\n",
    "else:\n",
    "        print(\"fiquei triste\")"
   ]
  },
  {
   "attachments": {},
   "cell_type": "markdown",
   "metadata": {},
   "source": [
    "### <font color=lightblue>**Uso do Break**</font>\n",
    "O comando break serve para fechar o loop\n",
    "\n",
    "**Exemplo:**"
   ]
  },
  {
   "cell_type": "code",
   "execution_count": null,
   "metadata": {},
   "outputs": [],
   "source": [
    "Tempo= 0\n",
    "Palmeiras= 0\n",
    "Corinthians= 0\n",
    "\n",
    "while Tempo<=90:\n",
    "   print(f'{Tempo} minutos')\n",
    "   Palmeiras = Palmeiras + float(input(f'mais quantos gols fez o Palmeiras?'))\n",
    "   Corinthians = Corinthians + float(input(f'mais quantos gols fez o Corinthians?'))\n",
    "   if Palmeiras >= Corinthians:\n",
    "      print(\"continuo assistindo o jogo\")\n",
    "   else:\n",
    "      print(f\"o placar está {int(Palmeiras)} X {int(Corinthians)}\")\n",
    "      print(\"Arremesso o controle na TV e a quebro\")\n",
    "      break\n",
    "   Tempo = Tempo + 15\n",
    "   print(f\"{Tempo} minutos\")\n",
    "   print(f\"o placar está {int(Palmeiras)} X {int(Corinthians)}\")"
   ]
  },
  {
   "attachments": {},
   "cell_type": "markdown",
   "metadata": {},
   "source": [
    "# <font color=lightblue>**For**</font>"
   ]
  },
  {
   "attachments": {},
   "cell_type": "markdown",
   "metadata": {},
   "source": [
    "##### A função <font color=lightpink>**for**</font> executa loops sem a necessidade de contadores. Ela é utilizada quando desejamos percorrer ou iterar sobre uma sequência de dados (lista, tupla ou string), enquanto executa um conjunto de instruções em cada item da estrutura."
   ]
  },
  {
   "attachments": {},
   "cell_type": "markdown",
   "metadata": {},
   "source": [
    "<div style=\"text-align: center\"><img src=esquemafor.png width=\"700\"/>"
   ]
  },
  {
   "attachments": {},
   "cell_type": "markdown",
   "metadata": {},
   "source": [
    "*Em listas ou tuplas, a função for itera sobre cada item da estrutura, independentemente do seu tipo:*"
   ]
  },
  {
   "cell_type": "code",
   "execution_count": null,
   "metadata": {},
   "outputs": [],
   "source": [
    "a = ['Grupo 3', 3.0, False, -2, 'FEA.dev', 990, True]\n",
    "\n",
    "for item in a:\n",
    "    print(item)"
   ]
  },
  {
   "attachments": {},
   "cell_type": "markdown",
   "metadata": {},
   "source": [
    "*Em strings, a função for itera sobre cada caractere da string:*"
   ]
  },
  {
   "cell_type": "code",
   "execution_count": null,
   "metadata": {},
   "outputs": [],
   "source": [
    "b = 'FEA.dev'\n",
    "\n",
    "for caractere in b:\n",
    "    print(caractere)"
   ]
  },
  {
   "cell_type": "code",
   "execution_count": null,
   "metadata": {},
   "outputs": [],
   "source": [
    "for z in [0,1,2,3]:\n",
    "    print(f'Olá, Mundo! #{z}')"
   ]
  },
  {
   "attachments": {},
   "cell_type": "markdown",
   "metadata": {},
   "source": [
    "*Leia-se:* \"para cada variável dentro da estrutura '[0,1,2,3]', será realizado o comando 'print(f'Olá, Mundo! #{z}')'\""
   ]
  },
  {
   "attachments": {},
   "cell_type": "markdown",
   "metadata": {},
   "source": [
    "##### O código acima exige que para cada item, o programador do código escreva por extenso o elemento da lista. Para facilitar, existe uma outra função denominada <font color=lightpink>**range()**</font>"
   ]
  },
  {
   "attachments": {},
   "cell_type": "markdown",
   "metadata": {},
   "source": [
    "### <font color=lightblue>**Função range()**</font>"
   ]
  },
  {
   "attachments": {},
   "cell_type": "markdown",
   "metadata": {},
   "source": [
    "##### A função <font color=lightpink>**range()**</font> permite a criação de intervalos e pode ser utilizada com a estrutura de repetição <font color=lightpink>**for()**</font> para criar laços que se repetem mais vezes, sem a necessidade de escrever por extenso."
   ]
  },
  {
   "attachments": {},
   "cell_type": "markdown",
   "metadata": {},
   "source": [
    "##### **Estrutura:** <font color=lightpink>**range(início, final+1, passo)**</font>"
   ]
  },
  {
   "cell_type": "code",
   "execution_count": null,
   "metadata": {},
   "outputs": [],
   "source": [
    "for a in range(1,10):\n",
    "    print(a)"
   ]
  },
  {
   "attachments": {},
   "cell_type": "markdown",
   "metadata": {},
   "source": [
    "OBS: se apenas o valor \"final+1\" for inserido dentro dos parênteses, a função contará como se o valor inicial fosse zero, como mostra o **exemplo a seguir:**"
   ]
  },
  {
   "cell_type": "code",
   "execution_count": null,
   "metadata": {},
   "outputs": [],
   "source": [
    "for b in range(10):\n",
    "    print(b)"
   ]
  },
  {
   "attachments": {},
   "cell_type": "markdown",
   "metadata": {},
   "source": [
    "Acrescentando o \"passo\", a função se apresenta da seguinte maneira:"
   ]
  },
  {
   "cell_type": "code",
   "execution_count": null,
   "metadata": {},
   "outputs": [
    {
     "name": "stdout",
     "output_type": "stream",
     "text": [
      "10\n",
      "9\n",
      "8\n",
      "7\n",
      "6\n",
      "5\n",
      "4\n",
      "3\n",
      "2\n",
      "1\n"
     ]
    }
   ],
   "source": [
    "for c in range (10,0,-1):\n",
    "    print(c)"
   ]
  },
  {
   "attachments": {},
   "cell_type": "markdown",
   "metadata": {},
   "source": [
    "# <font color=lightblue>**Exercício Lista Vazia**</font>\n",
    "#### <font color=lightblue>**Usando o Modelo de Gordon para calcular o valor estimado de uma ação.**</font>\n"
   ]
  },
  {
   "attachments": {},
   "cell_type": "markdown",
   "metadata": {},
   "source": [
    "#### Criar uma lista vazia em Python é útil quando você deseja armazenar elementos posteriormente, mas ainda não possui nenhum valor para adicionar à lista."
   ]
  },
  {
   "cell_type": "code",
   "execution_count": null,
   "metadata": {},
   "outputs": [],
   "source": [
    "#Criação da lista vazia\n",
    "valores = []"
   ]
  },
  {
   "attachments": {},
   "cell_type": "markdown",
   "metadata": {},
   "source": [
    "#### Primeiro utilizamos um loop <font color=lightpink>**for**</font> para percorrer cada elemento da lista \"informacoes\". A cada iteração do loop, a variável \"info\" recebe o valor de um elemento da lista. O valor digitado é adicionado à lista \"valores\" usando o método <font color=lightpink>**append()**</font>. Esse passo permite armazenar os valores digitados pelo usuário na lista."
   ]
  },
  {
   "attachments": {},
   "cell_type": "markdown",
   "metadata": {},
   "source": [
    "#### Por fim utilizamos a fórmula do modelo de gordon e printamos o resultado."
   ]
  },
  {
   "cell_type": "code",
   "execution_count": null,
   "metadata": {},
   "outputs": [
    {
     "ename": "IndexError",
     "evalue": "list index out of range",
     "output_type": "error",
     "traceback": [
      "\u001b[0;31m---------------------------------------------------------------------------\u001b[0m",
      "\u001b[0;31mIndexError\u001b[0m                                Traceback (most recent call last)",
      "Cell \u001b[0;32mIn[17], line 2\u001b[0m\n\u001b[1;32m      1\u001b[0m \u001b[39m#Cálculo do valor estimado da ação usando o modelo de gordon\u001b[39;00m\n\u001b[0;32m----> 2\u001b[0m valor \u001b[39m=\u001b[39m valores[\u001b[39m0\u001b[39;49m] \u001b[39m/\u001b[39m (valores[\u001b[39m2\u001b[39m] \u001b[39m-\u001b[39m valores[\u001b[39m1\u001b[39m])\n\u001b[1;32m      4\u001b[0m \u001b[39m#Arredondamento do valor\u001b[39;00m\n\u001b[1;32m      5\u001b[0m valor_arredondado \u001b[39m=\u001b[39m \u001b[39mround\u001b[39m(valor, \u001b[39m2\u001b[39m)\n",
      "\u001b[0;31mIndexError\u001b[0m: list index out of range"
     ]
    }
   ],
   "source": [
    "#Cálculo do valor estimado da ação usando o modelo de gordon\n",
    "valor = valores[0] / (valores[2] - valores[1])\n",
    "\n",
    "#Arredondamento do valor\n",
    "valor_arredondado = round(valor, 2)\n",
    "\n",
    "#Exibição do valor estimado da ação\n",
    "print(\"O valor estimado é R$\", valor_arredondado)"
   ]
  },
  {
   "attachments": {},
   "cell_type": "markdown",
   "metadata": {},
   "source": [
    "#### <font color=lightblue>**Testando o Código**</font>"
   ]
  },
  {
   "cell_type": "code",
   "execution_count": null,
   "metadata": {},
   "outputs": [],
   "source": [
    "#Criação da lista vazia\n",
    "valores = []\n",
    "\n",
    "#Solicitação das informações utilizando loop\n",
    "informacoes = [\"dividendo esperado\", \"taxa de crescimento\", \"taxa de retorno\"]\n",
    "\n",
    "for info in informacoes:\n",
    "    valor = float(input(f\"Digite o valor {info} por ação: \"))\n",
    "    valores.append(valor)\n",
    "\n",
    "#Cálculo do valor estimado da ação usando o modelo de gordon\n",
    "valor = valores[0] / (valores[2] - valores[1])\n",
    "\n",
    "#Arredondamento do valor\n",
    "valor_arredondado = round(valor, 2)\n",
    "\n",
    "#Exibição do valor estimado da ação\n",
    "print(\"O valor estimado é R$\", valor_arredondado)\n"
   ]
  },
  {
   "attachments": {},
   "cell_type": "markdown",
   "metadata": {},
   "source": [
    "# <font color=lightblue>**Exercício usando while e os condicionais**</font>\n",
    "#### Você foi contratado como programador para desenvolver um sistema de verificação de senha em Python. O sistema deve permitir que o usuário tenha três tentativas para digitar a senha correta. Se a senha estiver correta, o sistema deve exibir a mensagem \"Senha correta! \". Caso contrário, o sistema deve informar quantas tentativas restam e solicitar novamente a senha. Se o número de tentativas chegar a zero, o sistema deve exibir a mensagem \"Acesso negado. Suas tentativas esgotaram\".Escreva o código em Python para implementar o sistema de verificação de senha **</font>\n"
   ]
  },
  {
   "cell_type": "code",
   "execution_count": null,
   "metadata": {},
   "outputs": [
    {
     "name": "stdout",
     "output_type": "stream",
     "text": [
      "Senha incorreta. Você possui mais 2 tentativa(s).\n",
      "Senha correta!\n"
     ]
    }
   ],
   "source": [
    "# Supor que a senha seja \"senha\" \n",
    "\n",
    "senha_correta = \"senha\"\n",
    "tentativas = 3\n",
    "\n",
    "\n",
    "while tentativas > 0:\n",
    "    senha = input(\"Digite a senha.\")\n",
    "\n",
    "    if senha == senha_correta:\n",
    "        print(\"Senha correta!\")\n",
    "        break\n",
    "    else:\n",
    "        tentativas -= 1\n",
    "        if tentativas > 0:\n",
    "            print(\"Senha incorreta. Você possui mais\", tentativas, \"tentativa(s).\")\n",
    "        else:\n",
    "            print(\"Acesso negado. Suas tentativas esgotaram.\")\n"
   ]
  }
 ],
 "metadata": {
  "kernelspec": {
   "display_name": "Python 3 (ipykernel)",
   "language": "python",
   "name": "python3"
  },
  "language_info": {
   "codemirror_mode": {
    "name": "ipython",
    "version": 3
   },
   "file_extension": ".py",
   "mimetype": "text/x-python",
   "name": "python",
   "nbconvert_exporter": "python",
   "pygments_lexer": "ipython3",
   "version": "3.10.8"
  },
  "orig_nbformat": 4
 },
 "nbformat": 4,
 "nbformat_minor": 2
}
