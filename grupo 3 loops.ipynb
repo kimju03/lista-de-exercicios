{
 "cells": [
  {
   "attachments": {},
   "cell_type": "markdown",
   "metadata": {},
   "source": [
    "# <font color=lightblue>**Exercício Lista Vazia**</font>\n",
    "#### <font color=lightblue>**Usando o Modelo de Gordon para calcular o valor estimado de uma ação.**</font>\n"
   ]
  },
  {
   "attachments": {},
   "cell_type": "markdown",
   "metadata": {},
   "source": [
    "#### Criar uma lista vazia em Python é útil quando você deseja armazenar elementos posteriormente, mas ainda não possui nenhum valor para adicionar à lista."
   ]
  },
  {
   "cell_type": "code",
   "execution_count": null,
   "metadata": {},
   "outputs": [],
   "source": [
    "#Criação da lista vazia\n",
    "valores = []"
   ]
  },
  {
   "attachments": {},
   "cell_type": "markdown",
   "metadata": {},
   "source": [
    "#### Primeiro utilizamos um loop <font color=lightpink>**for**</font> para percorrer cada elemento da lista \"informacoes\". A cada iteração do loop, a variável \"info\" recebe o valor de um elemento da lista. O valor digitado é adicionado à lista \"valores\" usando o método <font color=lightpink>**append()**</font>. Esse passo permite armazenar os valores digitados pelo usuário na lista."
   ]
  },
  {
   "cell_type": "code",
   "execution_count": null,
   "metadata": {},
   "outputs": [],
   "source": [
    "#Solicitação das informações utilizando loop\n",
    "informacoes = [\"dividendo esperado\", \"taxa de crescimento\", \"taxa de retorno\"]\n",
    "\n",
    "for info in informacoes:\n",
    "    valor = float(input(f\"Digite o valor {info} por ação: \"))\n",
    "    valores.append(valor)"
   ]
  },
  {
   "cell_type": "markdown",
   "metadata": {},
   "source": [
    "#### Por fim utilizamos a fórmula do modelo de gordon e printamos o resultado."
   ]
  },
  {
   "cell_type": "code",
   "execution_count": null,
   "metadata": {},
   "outputs": [],
   "source": [
    "#Cálculo do valor estimado da ação usando o modelo de gordon\n",
    "valor = valores[0] / (valores[2] - valores[1])\n",
    "\n",
    "#Arredondamento do valor\n",
    "valor_arredondado = round(valor, 2)\n",
    "\n",
    "#Exibição do valor estimado da ação\n",
    "print(\"O valor estimado é R$\", valor_arredondado)"
   ]
  },
  {
   "attachments": {},
   "cell_type": "markdown",
   "metadata": {},
   "source": [
    "#### <font color=lightblue>**Testando o Código**</font>"
   ]
  },
  {
   "cell_type": "code",
   "execution_count": null,
   "metadata": {},
   "outputs": [],
   "source": [
    "#Criação da lista vazia\n",
    "valores = []\n",
    "\n",
    "#Solicitação das informações utilizando loop\n",
    "informacoes = [\"dividendo esperado\", \"taxa de crescimento\", \"taxa de retorno\"]\n",
    "\n",
    "for info in informacoes:\n",
    "    valor = float(input(f\"Digite o valor {info} por ação: \"))\n",
    "    valores.append(valor)\n",
    "\n",
    "#Cálculo do valor estimado da ação usando o modelo de gordon\n",
    "valor = valores[0] / (valores[2] - valores[1])\n",
    "\n",
    "#Arredondamento do valor\n",
    "valor_arredondado = round(valor, 2)\n",
    "\n",
    "#Exibição do valor estimado da ação\n",
    "print(\"O valor estimado é R$\", valor_arredondado)\n"
   ]
  },
  {
   "attachments": {},
   "cell_type": "markdown",
   "metadata": {},
   "source": [
    "# <font color=lightblue>**Loops**</font>\n",
    "São estruturas de repetição. Isso quer dizer que eles permitem executar um bloco de código repetidamente."
   ]
  },
  {
   "attachments": {},
   "cell_type": "markdown",
   "metadata": {},
   "source": [
    "\n",
    "\n",
    "#  <font color=lightblue>**While**</font>\n",
    "Serve para repetir certos comandos desejados enquanto(while) tal condição é está estabelecida\n",
    "\n",
    "Diferentemente do if, que serve para executar um comando se uma determinada condição acontecer e normalmente executa outro(s) comando(s) se não, o while verifica se a condição é verdadeira e repete os comandos enquanto ela é, ou para(procede para a próxima linha do código fora do loop) quando não for verdadeira.\n",
    "\n",
    "\n",
    "\n",
    "\n",
    "\n"
   ]
  },
  {
   "attachments": {},
   "cell_type": "markdown",
   "metadata": {},
   "source": [
    "Estrutura do <font color=lightpink>**While**</font>"
   ]
  },
  {
   "cell_type": "code",
   "execution_count": null,
   "metadata": {},
   "outputs": [],
   "source": [
    "While(condição):\n",
    "     comando 1\n",
    "     comando 2\n",
    "     comando 3\n",
    "     ...\n",
    "\n",
    "Código fora do loop"
   ]
  },
  {
   "attachments": {},
   "cell_type": "markdown",
   "metadata": {},
   "source": [
    "Dada a condição do while, os comandos dentro do loop vão ser executados. A estrutura do loop se abre com \":\" e com os comandos alinhados pela indexação com espaços. O loop se fecha com a próxima linha sem espaços "
   ]
  },
  {
   "attachments": {},
   "cell_type": "markdown",
   "metadata": {},
   "source": [
    "Exemplo do while para criar um **contador**:"
   ]
  },
  {
   "cell_type": "code",
   "execution_count": null,
   "metadata": {},
   "outputs": [],
   "source": [
    "X= 0\n",
    "\n",
    "while X<5:\n",
    "     X= X+1\n",
    "     print(X)\n",
    "print(X)\n",
    "\n",
    "\n"
   ]
  },
  {
   "attachments": {},
   "cell_type": "markdown",
   "metadata": {},
   "source": [
    "## <font color=lightblue>**While com if**</font>\n",
    "\n",
    "É possível misturar os comandos, com uma estrutura dentro da outra. \n",
    "Exemplo: uma partida de futebol. Enquanto(while) o jogo está acontecendo(contador não deu 90 minutos), se(if) meu time está ganhando; eu estou feliz; se estiver empatando, estou normal; se estiver perdendo, estou triste. Depois do jogo eu vou ficar feliz, normal, ou triste. \n"
   ]
  },
  {
   "cell_type": "code",
   "execution_count": null,
   "metadata": {},
   "outputs": [],
   "source": [
    "Tempo= 0\n",
    "Palmeiras= 0\n",
    "Corinthians= 0\n",
    "\n",
    "while Tempo<=90:\n",
    "    if Palmeiras > Corinthians:\n",
    "        print(\"estou feliz\")\n",
    "    elif Palmeiras == Corinthians:\n",
    "        print(\"estou normal\")\n",
    "    else:\n",
    "        print(\"estou triste\")\n",
    "    print(f\"{Tempo} minutos\")\n",
    "    Palmeiras = Palmeiras + float(input(f'mais quantos gols fez o Palmeiras?'))\n",
    "    Corinthians = Corinthians + float(input(f'mais quantos gols fez o Corinthians?'))\n",
    "    print(f\"o placar está {int(Palmeiras)} X {int(Corinthians)}\")\n",
    "    Tempo += 15\n",
    "if Palmeiras > Corinthians:\n",
    "        print(\"O jogo me deixou feliz\")\n",
    "elif Palmeiras == Corinthians:\n",
    "        print(\"O jogo não alterou meu humor\")\n",
    "else:\n",
    "        print(\"fiquei triste\")"
   ]
  },
  {
   "attachments": {},
   "cell_type": "markdown",
   "metadata": {},
   "source": [
    "## <font color=lightblue>**Uso do Break**</font>\n",
    "serve para fechar o loop\n",
    "\n",
    "exemplo:"
   ]
  },
  {
   "cell_type": "code",
   "execution_count": null,
   "metadata": {},
   "outputs": [],
   "source": [
    "Tempo= 0\n",
    "Palmeiras= 0\n",
    "Corinthians= 0\n",
    "\n",
    "while Tempo<=90:\n",
    "   print(f'{Tempo} minutos')\n",
    "   Palmeiras = Palmeiras + float(input(f'mais quantos gols fez o Palmeiras?'))\n",
    "   Corinthians = Corinthians + float(input(f'mais quantos gols fez o Corinthians?'))\n",
    "   if Palmeiras >= Corinthians:\n",
    "      print(\"continuo assistindo o jogo\")\n",
    "   else:\n",
    "      print(f\"o placar está {int(Palmeiras)} X {int(Corinthians)}\")\n",
    "      print(\"Arremesso o controle na TV e a quebro\")\n",
    "      break\n",
    "   Tempo = Tempo + 15\n",
    "   print(f\"{Tempo} minutos\")\n",
    "   print(f\"o placar está {int(Palmeiras)} X {int(Corinthians)}\")"
   ]
  },
  {
   "attachments": {},
   "cell_type": "markdown",
   "metadata": {},
   "source": [
    "# <font color=lightblue>**Exercício usando while e os condicionais**</font>\n",
    "#### Você foi contratado como programador para desenvolver um sistema de verificação de senha em Python. O sistema deve permitir que o usuário tenha três tentativas para digitar a senha correta. Se a senha estiver correta, o sistema deve exibir a mensagem \"Senha correta! \". Caso contrário, o sistema deve informar quantas tentativas restam e solicitar novamente a senha. Se o número de tentativas chegar a zero, o sistema deve exibir a mensagem \"Acesso negado. Suas tentativas esgotaram\".Escreva o código em Python para implementar o sistema de verificação de senha **</font>\n"
   ]
  },
  {
   "cell_type": "code",
   "execution_count": 1,
   "metadata": {},
   "outputs": [
    {
     "name": "stdout",
     "output_type": "stream",
     "text": [
      "Senha incorreta. Você possui mais 2 tentativa(s).\n",
      "Senha incorreta. Você possui mais 1 tentativa(s).\n",
      "Acesso negado. Suas tentativas esgotaram.\n"
     ]
    }
   ],
   "source": [
    "# Supor que a senha seja \"senha\" \n",
    "\n",
    "senha_correta = \"senha\"\n",
    "tentativas = 3\n",
    "\n",
    "\n",
    "while tentativas > 0:\n",
    "    senha = input(\"Digite a senha.\")\n",
    "\n",
    "    if senha == senha_correta:\n",
    "        print(\"Senha correta!\")\n",
    "        break\n",
    "    else:\n",
    "        tentativas -= 1\n",
    "        if tentativas > 0:\n",
    "            print(\"Senha incorreta. Você possui mais\", tentativas, \"tentativa(s).\")\n",
    "        else:\n",
    "            print(\"Acesso negado. Suas tentativas esgotaram.\")\n"
   ]
  }
 ],
 "metadata": {
  "kernelspec": {
   "display_name": "Python 3 (ipykernel)",
   "language": "python",
   "name": "python3"
  },
  "language_info": {
   "codemirror_mode": {
    "name": "ipython",
    "version": 3
   },
   "file_extension": ".py",
   "mimetype": "text/x-python",
   "name": "python",
   "nbconvert_exporter": "python",
   "pygments_lexer": "ipython3",
   "version": "3.10.8"
  },
  "orig_nbformat": 4
 },
 "nbformat": 4,
 "nbformat_minor": 2
}
